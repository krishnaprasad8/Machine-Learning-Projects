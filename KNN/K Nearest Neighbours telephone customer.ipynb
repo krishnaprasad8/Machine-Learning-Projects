{
 "cells": [
  {
   "cell_type": "code",
   "execution_count": 1,
   "metadata": {},
   "outputs": [],
   "source": [
    "import pandas as pd\n",
    "import numpy as np\n",
    "import matplotlib.pyplot as plt\n",
    "%matplotlib inline"
   ]
  },
  {
   "cell_type": "code",
   "execution_count": 2,
   "metadata": {},
   "outputs": [],
   "source": [
    "df=pd.read_csv('teleCust1000t.csv')"
   ]
  },
  {
   "cell_type": "code",
   "execution_count": 3,
   "metadata": {},
   "outputs": [
    {
     "data": {
      "text/html": [
       "<div>\n",
       "<style scoped>\n",
       "    .dataframe tbody tr th:only-of-type {\n",
       "        vertical-align: middle;\n",
       "    }\n",
       "\n",
       "    .dataframe tbody tr th {\n",
       "        vertical-align: top;\n",
       "    }\n",
       "\n",
       "    .dataframe thead th {\n",
       "        text-align: right;\n",
       "    }\n",
       "</style>\n",
       "<table border=\"1\" class=\"dataframe\">\n",
       "  <thead>\n",
       "    <tr style=\"text-align: right;\">\n",
       "      <th></th>\n",
       "      <th>region</th>\n",
       "      <th>tenure</th>\n",
       "      <th>age</th>\n",
       "      <th>marital</th>\n",
       "      <th>address</th>\n",
       "      <th>income</th>\n",
       "      <th>ed</th>\n",
       "      <th>employ</th>\n",
       "      <th>retire</th>\n",
       "      <th>gender</th>\n",
       "      <th>reside</th>\n",
       "      <th>custcat</th>\n",
       "    </tr>\n",
       "  </thead>\n",
       "  <tbody>\n",
       "    <tr>\n",
       "      <th>0</th>\n",
       "      <td>2</td>\n",
       "      <td>13</td>\n",
       "      <td>44</td>\n",
       "      <td>1</td>\n",
       "      <td>9</td>\n",
       "      <td>64.0</td>\n",
       "      <td>4</td>\n",
       "      <td>5</td>\n",
       "      <td>0.0</td>\n",
       "      <td>0</td>\n",
       "      <td>2</td>\n",
       "      <td>1</td>\n",
       "    </tr>\n",
       "    <tr>\n",
       "      <th>1</th>\n",
       "      <td>3</td>\n",
       "      <td>11</td>\n",
       "      <td>33</td>\n",
       "      <td>1</td>\n",
       "      <td>7</td>\n",
       "      <td>136.0</td>\n",
       "      <td>5</td>\n",
       "      <td>5</td>\n",
       "      <td>0.0</td>\n",
       "      <td>0</td>\n",
       "      <td>6</td>\n",
       "      <td>4</td>\n",
       "    </tr>\n",
       "    <tr>\n",
       "      <th>2</th>\n",
       "      <td>3</td>\n",
       "      <td>68</td>\n",
       "      <td>52</td>\n",
       "      <td>1</td>\n",
       "      <td>24</td>\n",
       "      <td>116.0</td>\n",
       "      <td>1</td>\n",
       "      <td>29</td>\n",
       "      <td>0.0</td>\n",
       "      <td>1</td>\n",
       "      <td>2</td>\n",
       "      <td>3</td>\n",
       "    </tr>\n",
       "    <tr>\n",
       "      <th>3</th>\n",
       "      <td>2</td>\n",
       "      <td>33</td>\n",
       "      <td>33</td>\n",
       "      <td>0</td>\n",
       "      <td>12</td>\n",
       "      <td>33.0</td>\n",
       "      <td>2</td>\n",
       "      <td>0</td>\n",
       "      <td>0.0</td>\n",
       "      <td>1</td>\n",
       "      <td>1</td>\n",
       "      <td>1</td>\n",
       "    </tr>\n",
       "    <tr>\n",
       "      <th>4</th>\n",
       "      <td>2</td>\n",
       "      <td>23</td>\n",
       "      <td>30</td>\n",
       "      <td>1</td>\n",
       "      <td>9</td>\n",
       "      <td>30.0</td>\n",
       "      <td>1</td>\n",
       "      <td>2</td>\n",
       "      <td>0.0</td>\n",
       "      <td>0</td>\n",
       "      <td>4</td>\n",
       "      <td>3</td>\n",
       "    </tr>\n",
       "  </tbody>\n",
       "</table>\n",
       "</div>"
      ],
      "text/plain": [
       "   region  tenure  age  marital  address  income  ed  employ  retire  gender  \\\n",
       "0       2      13   44        1        9    64.0   4       5     0.0       0   \n",
       "1       3      11   33        1        7   136.0   5       5     0.0       0   \n",
       "2       3      68   52        1       24   116.0   1      29     0.0       1   \n",
       "3       2      33   33        0       12    33.0   2       0     0.0       1   \n",
       "4       2      23   30        1        9    30.0   1       2     0.0       0   \n",
       "\n",
       "   reside  custcat  \n",
       "0       2        1  \n",
       "1       6        4  \n",
       "2       2        3  \n",
       "3       1        1  \n",
       "4       4        3  "
      ]
     },
     "execution_count": 3,
     "metadata": {},
     "output_type": "execute_result"
    }
   ],
   "source": [
    "df.head()"
   ]
  },
  {
   "cell_type": "code",
   "execution_count": 4,
   "metadata": {},
   "outputs": [
    {
     "data": {
      "text/plain": [
       "3    281\n",
       "1    266\n",
       "4    236\n",
       "2    217\n",
       "Name: custcat, dtype: int64"
      ]
     },
     "execution_count": 4,
     "metadata": {},
     "output_type": "execute_result"
    }
   ],
   "source": [
    "df['custcat'].value_counts()"
   ]
  },
  {
   "cell_type": "code",
   "execution_count": 5,
   "metadata": {},
   "outputs": [
    {
     "data": {
      "text/plain": [
       "Index(['region', 'tenure', 'age', 'marital', 'address', 'income', 'ed',\n",
       "       'employ', 'retire', 'gender', 'reside', 'custcat'],\n",
       "      dtype='object')"
      ]
     },
     "execution_count": 5,
     "metadata": {},
     "output_type": "execute_result"
    }
   ],
   "source": [
    "df.columns"
   ]
  },
  {
   "cell_type": "code",
   "execution_count": 6,
   "metadata": {},
   "outputs": [],
   "source": [
    "X=df.drop('custcat',axis=1).values\n",
    "y=df['custcat'].values"
   ]
  },
  {
   "cell_type": "code",
   "execution_count": 7,
   "metadata": {},
   "outputs": [],
   "source": [
    "from sklearn.preprocessing import StandardScaler"
   ]
  },
  {
   "cell_type": "code",
   "execution_count": 8,
   "metadata": {},
   "outputs": [],
   "source": [
    "scaler=StandardScaler()"
   ]
  },
  {
   "cell_type": "code",
   "execution_count": 9,
   "metadata": {},
   "outputs": [],
   "source": [
    "scaled_data=scaler.fit_transform(X)"
   ]
  },
  {
   "cell_type": "code",
   "execution_count": 10,
   "metadata": {},
   "outputs": [
    {
     "data": {
      "text/plain": [
       "array([[-0.02696767, -1.055125  ,  0.18450456, ..., -0.22207644,\n",
       "        -1.03459817, -0.23065004],\n",
       "       [ 1.19883553, -1.14880563, -0.69181243, ..., -0.22207644,\n",
       "        -1.03459817,  2.55666158],\n",
       "       [ 1.19883553,  1.52109247,  0.82182601, ..., -0.22207644,\n",
       "         0.96655883, -0.23065004],\n",
       "       ...,\n",
       "       [ 1.19883553,  1.47425216,  1.37948227, ..., -0.22207644,\n",
       "         0.96655883, -0.92747794],\n",
       "       [ 1.19883553,  1.61477311,  0.58283046, ..., -0.22207644,\n",
       "         0.96655883, -0.92747794],\n",
       "       [ 1.19883553,  0.67796676, -0.45281689, ..., -0.22207644,\n",
       "         0.96655883,  0.46617787]])"
      ]
     },
     "execution_count": 10,
     "metadata": {},
     "output_type": "execute_result"
    }
   ],
   "source": [
    "scaled_data"
   ]
  },
  {
   "cell_type": "code",
   "execution_count": 11,
   "metadata": {},
   "outputs": [
    {
     "data": {
      "text/plain": [
       "Index(['region', 'tenure', 'age', 'marital', 'address', 'income', 'ed',\n",
       "       'employ', 'retire', 'gender', 'reside'],\n",
       "      dtype='object')"
      ]
     },
     "execution_count": 11,
     "metadata": {},
     "output_type": "execute_result"
    }
   ],
   "source": [
    "df.columns[:-1]"
   ]
  },
  {
   "cell_type": "code",
   "execution_count": 12,
   "metadata": {},
   "outputs": [],
   "source": [
    "df_feat=pd.DataFrame(scaled_data,columns=df.columns[:-1])"
   ]
  },
  {
   "cell_type": "code",
   "execution_count": 13,
   "metadata": {},
   "outputs": [
    {
     "data": {
      "text/html": [
       "<div>\n",
       "<style scoped>\n",
       "    .dataframe tbody tr th:only-of-type {\n",
       "        vertical-align: middle;\n",
       "    }\n",
       "\n",
       "    .dataframe tbody tr th {\n",
       "        vertical-align: top;\n",
       "    }\n",
       "\n",
       "    .dataframe thead th {\n",
       "        text-align: right;\n",
       "    }\n",
       "</style>\n",
       "<table border=\"1\" class=\"dataframe\">\n",
       "  <thead>\n",
       "    <tr style=\"text-align: right;\">\n",
       "      <th></th>\n",
       "      <th>region</th>\n",
       "      <th>tenure</th>\n",
       "      <th>age</th>\n",
       "      <th>marital</th>\n",
       "      <th>address</th>\n",
       "      <th>income</th>\n",
       "      <th>ed</th>\n",
       "      <th>employ</th>\n",
       "      <th>retire</th>\n",
       "      <th>gender</th>\n",
       "      <th>reside</th>\n",
       "    </tr>\n",
       "  </thead>\n",
       "  <tbody>\n",
       "    <tr>\n",
       "      <th>0</th>\n",
       "      <td>-0.026968</td>\n",
       "      <td>-1.055125</td>\n",
       "      <td>0.184505</td>\n",
       "      <td>1.010051</td>\n",
       "      <td>-0.253034</td>\n",
       "      <td>-0.126506</td>\n",
       "      <td>1.087753</td>\n",
       "      <td>-0.594123</td>\n",
       "      <td>-0.222076</td>\n",
       "      <td>-1.034598</td>\n",
       "      <td>-0.230650</td>\n",
       "    </tr>\n",
       "    <tr>\n",
       "      <th>1</th>\n",
       "      <td>1.198836</td>\n",
       "      <td>-1.148806</td>\n",
       "      <td>-0.691812</td>\n",
       "      <td>1.010051</td>\n",
       "      <td>-0.451415</td>\n",
       "      <td>0.546450</td>\n",
       "      <td>1.906227</td>\n",
       "      <td>-0.594123</td>\n",
       "      <td>-0.222076</td>\n",
       "      <td>-1.034598</td>\n",
       "      <td>2.556662</td>\n",
       "    </tr>\n",
       "    <tr>\n",
       "      <th>2</th>\n",
       "      <td>1.198836</td>\n",
       "      <td>1.521092</td>\n",
       "      <td>0.821826</td>\n",
       "      <td>1.010051</td>\n",
       "      <td>1.234819</td>\n",
       "      <td>0.359517</td>\n",
       "      <td>-1.367671</td>\n",
       "      <td>1.787528</td>\n",
       "      <td>-0.222076</td>\n",
       "      <td>0.966559</td>\n",
       "      <td>-0.230650</td>\n",
       "    </tr>\n",
       "    <tr>\n",
       "      <th>3</th>\n",
       "      <td>-0.026968</td>\n",
       "      <td>-0.118319</td>\n",
       "      <td>-0.691812</td>\n",
       "      <td>-0.990050</td>\n",
       "      <td>0.044536</td>\n",
       "      <td>-0.416251</td>\n",
       "      <td>-0.549196</td>\n",
       "      <td>-1.090300</td>\n",
       "      <td>-0.222076</td>\n",
       "      <td>0.966559</td>\n",
       "      <td>-0.927478</td>\n",
       "    </tr>\n",
       "    <tr>\n",
       "      <th>4</th>\n",
       "      <td>-0.026968</td>\n",
       "      <td>-0.586722</td>\n",
       "      <td>-0.930808</td>\n",
       "      <td>1.010051</td>\n",
       "      <td>-0.253034</td>\n",
       "      <td>-0.444291</td>\n",
       "      <td>-1.367671</td>\n",
       "      <td>-0.891829</td>\n",
       "      <td>-0.222076</td>\n",
       "      <td>-1.034598</td>\n",
       "      <td>1.163006</td>\n",
       "    </tr>\n",
       "  </tbody>\n",
       "</table>\n",
       "</div>"
      ],
      "text/plain": [
       "     region    tenure       age   marital   address    income        ed  \\\n",
       "0 -0.026968 -1.055125  0.184505  1.010051 -0.253034 -0.126506  1.087753   \n",
       "1  1.198836 -1.148806 -0.691812  1.010051 -0.451415  0.546450  1.906227   \n",
       "2  1.198836  1.521092  0.821826  1.010051  1.234819  0.359517 -1.367671   \n",
       "3 -0.026968 -0.118319 -0.691812 -0.990050  0.044536 -0.416251 -0.549196   \n",
       "4 -0.026968 -0.586722 -0.930808  1.010051 -0.253034 -0.444291 -1.367671   \n",
       "\n",
       "     employ    retire    gender    reside  \n",
       "0 -0.594123 -0.222076 -1.034598 -0.230650  \n",
       "1 -0.594123 -0.222076 -1.034598  2.556662  \n",
       "2  1.787528 -0.222076  0.966559 -0.230650  \n",
       "3 -1.090300 -0.222076  0.966559 -0.927478  \n",
       "4 -0.891829 -0.222076 -1.034598  1.163006  "
      ]
     },
     "execution_count": 13,
     "metadata": {},
     "output_type": "execute_result"
    }
   ],
   "source": [
    "df_feat.head()"
   ]
  },
  {
   "cell_type": "code",
   "execution_count": 14,
   "metadata": {},
   "outputs": [],
   "source": [
    "from sklearn.model_selection import train_test_split"
   ]
  },
  {
   "cell_type": "code",
   "execution_count": 15,
   "metadata": {},
   "outputs": [],
   "source": [
    "X_train, X_test, y_train, y_test = train_test_split(X, y, test_size=0.33, random_state=42)"
   ]
  },
  {
   "cell_type": "code",
   "execution_count": 16,
   "metadata": {},
   "outputs": [],
   "source": [
    "from sklearn.neighbors import KNeighborsClassifier"
   ]
  },
  {
   "cell_type": "code",
   "execution_count": 21,
   "metadata": {},
   "outputs": [],
   "source": [
    "errorrate=[]\n",
    "\n",
    "for i in range(1,41):\n",
    "    knn=KNeighborsClassifier(n_neighbors=i)\n",
    "    knn.fit(X_train,y_train)\n",
    "    pred=knn.predict(X_test)\n",
    "    \n",
    "    errorrate.append(np.mean(pred!=y_test))"
   ]
  },
  {
   "cell_type": "code",
   "execution_count": 22,
   "metadata": {},
   "outputs": [
    {
     "data": {
      "text/plain": [
       "[<matplotlib.lines.Line2D at 0x24c28013d88>]"
      ]
     },
     "execution_count": 22,
     "metadata": {},
     "output_type": "execute_result"
    },
    {
     "data": {
      "image/png": "[encoded data removed]",
      "text/plain": [
       "<Figure size 432x288 with 1 Axes>"
      ]
     },
     "metadata": {
      "needs_background": "light"
     },
     "output_type": "display_data"
    }
   ],
   "source": [
    "plt.plot(range(1,41),errorrate)"
   ]
  },
  {
   "cell_type": "code",
   "execution_count": 23,
   "metadata": {},
   "outputs": [],
   "source": [
    "kn=KNeighborsClassifier(n_neighbors=9)"
   ]
  },
  {
   "cell_type": "code",
   "execution_count": 24,
   "metadata": {},
   "outputs": [
    {
     "data": {
      "text/plain": [
       "KNeighborsClassifier(algorithm='auto', leaf_size=30, metric='minkowski',\n",
       "                     metric_params=None, n_jobs=None, n_neighbors=9, p=2,\n",
       "                     weights='uniform')"
      ]
     },
     "execution_count": 24,
     "metadata": {},
     "output_type": "execute_result"
    }
   ],
   "source": [
    "kn.fit(X_train,y_train)"
   ]
  },
  {
   "cell_type": "code",
   "execution_count": 25,
   "metadata": {},
   "outputs": [],
   "source": [
    "predict=kn.predict(X_test)"
   ]
  },
  {
   "cell_type": "code",
   "execution_count": 19,
   "metadata": {},
   "outputs": [],
   "source": [
    "from sklearn.metrics import confusion_matrix,classification_report"
   ]
  },
  {
   "cell_type": "code",
   "execution_count": 53,
   "metadata": {},
   "outputs": [
    {
     "name": "stdout",
     "output_type": "stream",
     "text": [
      "              precision    recall  f1-score   support\n",
      "\n",
      "           1       0.37      0.51      0.43        91\n",
      "           2       0.29      0.23      0.26        75\n",
      "           3       0.36      0.41      0.38        88\n",
      "           4       0.28      0.17      0.21        76\n",
      "\n",
      "    accuracy                           0.34       330\n",
      "   macro avg       0.33      0.33      0.32       330\n",
      "weighted avg       0.33      0.34      0.33       330\n",
      "\n",
      "hi\n",
      "[[46 15 19 11]\n",
      " [20 17 27 11]\n",
      " [27 14 36 11]\n",
      " [32 12 19 13]]\n"
     ]
    }
   ],
   "source": [
    "print(classification_report(y_test,predict))\n",
    "print('hi')\n",
    "print(confusion_matrix(y_test,predict))"
   ]
  },
  {
   "cell_type": "code",
   "execution_count": 18,
   "metadata": {},
   "outputs": [],
   "source": [
    "from sklearn.metrics import accuracy_score"
   ]
  },
  {
   "cell_type": "code",
   "execution_count": 48,
   "metadata": {},
   "outputs": [
    {
     "name": "stdout",
     "output_type": "stream",
     "text": [
      "0.3393939393939394\n"
     ]
    }
   ],
   "source": [
    "print(accuracy_score(y_test,predict))"
   ]
  },
  {
   "cell_type": "code",
   "execution_count": 17,
   "metadata": {},
   "outputs": [
    {
     "name": "stderr",
     "output_type": "stream",
     "text": [
      "UsageError: Line magic function `%Accuracy` not found.\n"
     ]
    }
   ],
   "source": [
    "%Accuracy"
   ]
  },
  {
   "cell_type": "code",
   "execution_count": 35,
   "metadata": {},
   "outputs": [],
   "source": [
    "ks=10\n",
    "mean_a=np.zeros((ks-1))\n",
    "std_a=np.zeros((ks-1))\n",
    "COnfmatrix=[]\n",
    "for x in range(1,ks):\n",
    "    kn=KNeighborsClassifier(n_neighbors=x).fit(X_train,y_train)\n",
    "    pred=kn.predict(X_test)\n",
    "    \n",
    "    mean_a[x-1]=accuracy_score(y_test,pred)\n",
    "    \n",
    "    std_a[x-1]=np.std(pred==y_test)/np.sqrt(pred.shape[0])\n",
    "    "
   ]
  },
  {
   "cell_type": "code",
   "execution_count": 28,
   "metadata": {},
   "outputs": [
    {
     "data": {
      "text/plain": [
       "array([0.3       , 0.30606061, 0.29090909, 0.30606061, 0.31515152,\n",
       "       0.33939394, 0.35757576, 0.33939394, 0.33939394])"
      ]
     },
     "execution_count": 28,
     "metadata": {},
     "output_type": "execute_result"
    }
   ],
   "source": [
    "mean_a"
   ]
  },
  {
   "cell_type": "code",
   "execution_count": 29,
   "metadata": {},
   "outputs": [
    {
     "data": {
      "text/plain": [
       "0.3575757575757576"
      ]
     },
     "execution_count": 29,
     "metadata": {},
     "output_type": "execute_result"
    }
   ],
   "source": [
    "mean_a.max()"
   ]
  },
  {
   "cell_type": "code",
   "execution_count": 30,
   "metadata": {},
   "outputs": [
    {
     "data": {
      "text/plain": [
       "7"
      ]
     },
     "execution_count": 30,
     "metadata": {},
     "output_type": "execute_result"
    }
   ],
   "source": [
    "mean_a.argmax()+1"
   ]
  },
  {
   "cell_type": "code",
   "execution_count": 33,
   "metadata": {},
   "outputs": [
    {
     "data": {
      "image/png": "[encoded data removed]",
      "text/plain": [
       "<Figure size 432x288 with 1 Axes>"
      ]
     },
     "metadata": {
      "needs_background": "light"
     },
     "output_type": "display_data"
    }
   ],
   "source": [
    "plt.plot(range(1,ks),mean_a,'g')\n",
    "plt.fill_between(range(1,ks),mean_a - 1 * std_a,mean_a + 1 * std_a, alpha=0.10)\n",
    "plt.legend(('Accuracy ', '+/- 3xstd'))\n",
    "plt.ylabel('Accuracy ')\n",
    "plt.xlabel('Number of Nabors (K)')\n",
    "plt.tight_layout()\n",
    "plt.show()"
   ]
  },
  {
   "cell_type": "code",
   "execution_count": 47,
   "metadata": {},
   "outputs": [],
   "source": [
    "ksp=40\n",
    "mean_acc=np.zeros(ksp-1)\n",
    "std_acc=np.zeros(ksp-1)\n",
    "\n",
    "for n in range(1,ksp):\n",
    "    k=KNeighborsClassifier(n_neighbors=n).fit(X_train,y_train)\n",
    "    p=k.predict(X_test)\n",
    "    mean_acc[n-1]=accuracy_score(y_test,p)\n",
    "    std_acc[n-1]=np.std(p==y_test)/np.sqrt(p.shape[0])\n",
    "    "
   ]
  },
  {
   "cell_type": "code",
   "execution_count": 48,
   "metadata": {},
   "outputs": [
    {
     "data": {
      "text/plain": [
       "array([0.3       , 0.30606061, 0.29090909, 0.30606061, 0.31515152,\n",
       "       0.33939394, 0.35757576, 0.33939394, 0.33939394, 0.35454545,\n",
       "       0.34242424, 0.33636364, 0.34545455, 0.34545455, 0.33636364,\n",
       "       0.34242424, 0.35151515, 0.34242424, 0.34545455, 0.36363636,\n",
       "       0.35454545, 0.34242424, 0.35757576, 0.34242424, 0.34545455,\n",
       "       0.33030303, 0.33939394, 0.32121212, 0.32424242, 0.33030303,\n",
       "       0.34242424, 0.33939394, 0.33636364, 0.33333333, 0.33939394,\n",
       "       0.33333333, 0.33939394, 0.33939394, 0.34545455])"
      ]
     },
     "execution_count": 48,
     "metadata": {},
     "output_type": "execute_result"
    }
   ],
   "source": [
    "mean_acc"
   ]
  },
  {
   "cell_type": "code",
   "execution_count": 49,
   "metadata": {},
   "outputs": [
    {
     "data": {
      "text/plain": [
       "0.36363636363636365"
      ]
     },
     "execution_count": 49,
     "metadata": {},
     "output_type": "execute_result"
    }
   ],
   "source": [
    "mean_acc.max()"
   ]
  },
  {
   "cell_type": "code",
   "execution_count": 50,
   "metadata": {},
   "outputs": [
    {
     "data": {
      "text/plain": [
       "20"
      ]
     },
     "execution_count": 50,
     "metadata": {},
     "output_type": "execute_result"
    }
   ],
   "source": [
    "mean_acc.argmax()+1"
   ]
  },
  {
   "cell_type": "code",
   "execution_count": 54,
   "metadata": {},
   "outputs": [
    {
     "data": {
      "image/png": "[encoded data removed]",
      "text/plain": [
       "<Figure size 432x288 with 1 Axes>"
      ]
     },
     "metadata": {
      "needs_background": "light"
     },
     "output_type": "display_data"
    }
   ],
   "source": [
    "plt.plot(range(1,ksp),mean_acc)\n",
    "plt.fill_between(range(1,ksp),mean_acc-1*std_acc,mean_acc+1*std_acc,alpha=0.1)\n",
    "plt.tight_layout()\n",
    "plt.show()"
   ]
  },
  {
   "cell_type": "code",
   "execution_count": null,
   "metadata": {},
   "outputs": [],
   "source": []
  }
 ],
 "metadata": {
  "kernelspec": {
   "display_name": "Python 3",
   "language": "python",
   "name": "python3"
  },
  "language_info": {
   "codemirror_mode": {
    "name": "ipython",
    "version": 3
   },
   "file_extension": ".py",
   "mimetype": "text/x-python",
   "name": "python",
   "nbconvert_exporter": "python",
   "pygments_lexer": "ipython3",
   "version": "3.8.5"
  }
 },
 "nbformat": 4,
 "nbformat_minor": 4
}
