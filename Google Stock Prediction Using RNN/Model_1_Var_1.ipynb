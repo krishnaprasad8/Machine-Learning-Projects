{
 "cells": [
  {
   "cell_type": "markdown",
   "metadata": {
    "id": "NUAMLHjscFgZ"
   },
   "source": [
    "Google Stock Price Prediction using RNN\n",
    "\n",
    "Note: Different implementations were tested to find the effect of different parameters on the prediction results of which are included in the report along with the changes required i.e(Number of Epochs, Compiler type, model version, model units etc). To reconstruct the results of the report, kindly change the variables and select/uncomment the model as presented in the report respectively."
   ]
  },
  {
   "cell_type": "code",
   "execution_count": 1,
   "metadata": {
    "id": "xG7dqwN_kYc2"
   },
   "outputs": [],
   "source": [
    "#Importing Libraries\n",
    "import numpy as np\n",
    "import matplotlib.pyplot as plt\n",
    "import pandas as pd\n",
    "from tensorflow.keras.models import Sequential # allow us to create a neural network object representing a sequence of layers\n",
    "from tensorflow.keras.layers import Dense #to add the output layer \n",
    "from tensorflow.keras.layers import LSTM # to add LSTM layer\n",
    "from tensorflow.keras.layers import Dropout #to add some dropout regularization\n",
    "from tensorflow.keras.callbacks import ModelCheckpoint\n",
    "from tensorflow.keras.models import load_model"
   ]
  },
  {
   "cell_type": "code",
   "execution_count": 1,
   "metadata": {
    "id": "DQpYa6mLorrw"
   },
   "outputs": [],
   "source": []
  },
  {
   "cell_type": "code",
   "execution_count": 2,
   "metadata": {
    "id": "hk8GdvbLkiA2"
   },
   "outputs": [],
   "source": [
    "#Loading the Training File\n",
    "dataset_train = pd.read_csv('Google_Stock_Price_Train.csv')\n",
    "training_set = dataset_train.iloc[:, 1:2].values"
   ]
  },
  {
   "cell_type": "code",
   "execution_count": 3,
   "metadata": {
    "id": "-Zjv58Kkkr8G"
   },
   "outputs": [],
   "source": [
    "#Scaling the training data\n",
    "from sklearn.preprocessing import MinMaxScaler\n",
    "sc = MinMaxScaler(feature_range = (0, 1))\n",
    "training_set_scaled = sc.fit_transform(training_set)"
   ]
  },
  {
   "cell_type": "code",
   "execution_count": 4,
   "metadata": {
    "id": "V6SwWZ35ksb2"
   },
   "outputs": [],
   "source": [
    "#splitting data into training and validation\n",
    "X_train = []\n",
    "y_train = []\n",
    "X_val = []\n",
    "y_val = []\n",
    "\n",
    "for i in range(60, 1100):\n",
    "    X_train.append(training_set_scaled[i-60:i, 0])\n",
    "    y_train.append(training_set_scaled[i, 0])\n",
    "X_train, y_train = np.array(X_train), np.array(y_train)\n",
    "\n",
    "for i in range(1100, 1258):\n",
    "    X_val.append(training_set_scaled[i-60:i, 0])\n",
    "    y_val.append(training_set_scaled[i, 0])\n",
    "X_train, y_train = np.array(X_train), np.array(y_train)\n",
    "X_val, y_val = np.array(X_val), np.array(y_val)"
   ]
  },
  {
   "cell_type": "code",
   "execution_count": 5,
   "metadata": {
    "id": "yAfILPa9kuxF"
   },
   "outputs": [],
   "source": [
    "#reshaping the data\n",
    "X_train = np.reshape(X_train, (X_train.shape[0], X_train.shape[1], 1))\n",
    "X_val = np.reshape(X_val, (X_val.shape[0], X_val.shape[1], 1))"
   ]
  },
  {
   "cell_type": "markdown",
   "metadata": {
    "id": "9UDcZEJhnzst"
   },
   "source": [
    "**Model 1**"
   ]
  },
  {
   "cell_type": "code",
   "execution_count": 6,
   "metadata": {
    "id": "yR3VZnc1k2w9"
   },
   "outputs": [],
   "source": [
    "regressor = Sequential()\n",
    "regressor.add(LSTM(units = 50, return_sequences = True, input_shape = (X_train.shape[1], 1)))  \n",
    "regressor.add(Dropout(0.2))\n",
    "regressor.add(LSTM(units = 50, return_sequences = True))\n",
    "regressor.add(Dropout(0.2))\n",
    "regressor.add(LSTM(units = 50, return_sequences = True))\n",
    "regressor.add(Dropout(0.2))\n",
    "regressor.add(LSTM(units = 50))\n",
    "regressor.add(Dropout(0.2))"
   ]
  },
  {
   "cell_type": "code",
   "execution_count": 7,
   "metadata": {
    "id": "ra3Zpjopk7X4"
   },
   "outputs": [],
   "source": [
    "regressor.add(Dense(units = 1))"
   ]
  },
  {
   "cell_type": "markdown",
   "metadata": {
    "id": "uPFbig0_CEyh"
   },
   "source": [
    "**Model 2**"
   ]
  },
  {
   "cell_type": "code",
   "execution_count": 8,
   "metadata": {
    "id": "IBM0tJJwrCFH"
   },
   "outputs": [],
   "source": [
    "#ver 1\n",
    "#regressor = Sequential()\n",
    "#regressor.add(LSTM(units=100,return_sequences=True,input_shape=(X_train.shape[1],1)))\n",
    "#regressor.add(Dropout(0.2))\n",
    "\n",
    "#regressor.add(LSTM(units=100,return_sequences=True))\n",
    "#regressor.add(Dropout(0.2))\n",
    "\n",
    "#regressor.add(LSTM(units=100,return_sequences=True))\n",
    "#regressor.add(Dropout(0.2))\n",
    "\n",
    "#regressor.add(LSTM(units=100,return_sequences=True))\n",
    "#regressor.add(Dropout(0.2))\n",
    "\n",
    "#regressor.add(LSTM(units=100))\n",
    "#regressor.add(Dropout(0.2))\n",
    "\n",
    "#regressor.add(Dense(units=1))"
   ]
  },
  {
   "cell_type": "code",
   "execution_count": 9,
   "metadata": {
    "id": "CAqHTpc27zic"
   },
   "outputs": [],
   "source": [
    "#ver 2\n",
    "#regressor = Sequential()\n",
    "#regressor.add(LSTM(units=100,return_sequences=True,input_shape=(X_train.shape[1],1)))\n",
    "#regressor.add(Dropout(0.2))\n",
    "\n",
    "#regressor.add(LSTM(units=100,return_sequences=True))\n",
    "#regressor.add(Dropout(0.2))\n",
    "\n",
    "#regressor.add(LSTM(units=100,return_sequences=True))\n",
    "#regressor.add(Dropout(0.2))\n",
    "\n",
    "#regressor.add(LSTM(units=100,return_sequences=True))\n",
    "#regressor.add(Dropout(0.2))\n",
    "\n",
    "#regressor.add(LSTM(units=50))\n",
    "#regressor.add(Dropout(0.2))\n",
    "\n",
    "#regressor.add(Dense(units=1))"
   ]
  },
  {
   "cell_type": "code",
   "execution_count": 10,
   "metadata": {
    "id": "yCQyEXvVk75O"
   },
   "outputs": [],
   "source": [
    "from tensorflow.keras import backend as K\n",
    "\n",
    "def coeff_determination(y_true, y_pred):\n",
    "    from tensorflow.keras import backend as K\n",
    "    SS_res =  K.sum(K.square( y_true-y_pred ))\n",
    "    SS_tot = K.sum(K.square( y_true - K.mean(y_true) ) )\n",
    "    return ( 1 - SS_res/(SS_tot + K.epsilon()) )\n",
    "\n",
    "regressor.compile(optimizer = 'Adam', loss = 'mean_squared_error', metrics=[coeff_determination])"
   ]
  },
  {
   "cell_type": "code",
   "execution_count": 11,
   "metadata": {
    "colab": {
     "base_uri": "https://localhost:8080/",
     "height": 0
    },
    "id": "yHx5YTDQk9_f",
    "outputId": "ea39a341-7c2a-4bc1-b871-6d3a468ac8b9"
   },
   "outputs": [
    {
     "name": "stdout",
     "output_type": "stream",
     "text": [
      "Epoch 1/200\n",
      "65/65 [==============================] - 37s 35ms/step - loss: 0.0548 - coeff_determination: -0.0598 - val_loss: 0.0038 - val_coeff_determination: -16.3936\n",
      "Epoch 2/200\n",
      "65/65 [==============================] - 1s 13ms/step - loss: 0.0051 - coeff_determination: 0.8974 - val_loss: 0.0019 - val_coeff_determination: -5.2418\n",
      "Epoch 3/200\n",
      "65/65 [==============================] - 1s 13ms/step - loss: 0.0049 - coeff_determination: 0.9038 - val_loss: 0.0104 - val_coeff_determination: -47.9039\n",
      "Epoch 4/200\n",
      "65/65 [==============================] - 1s 13ms/step - loss: 0.0043 - coeff_determination: 0.9190 - val_loss: 0.0034 - val_coeff_determination: -13.4570\n",
      "Epoch 5/200\n",
      "65/65 [==============================] - 1s 13ms/step - loss: 0.0044 - coeff_determination: 0.9144 - val_loss: 0.0014 - val_coeff_determination: -2.7021\n",
      "Epoch 6/200\n",
      "65/65 [==============================] - 1s 13ms/step - loss: 0.0046 - coeff_determination: 0.9138 - val_loss: 0.0021 - val_coeff_determination: -6.5816\n",
      "Epoch 7/200\n",
      "65/65 [==============================] - 1s 13ms/step - loss: 0.0042 - coeff_determination: 0.9233 - val_loss: 0.0017 - val_coeff_determination: -4.1335\n",
      "Epoch 8/200\n",
      "65/65 [==============================] - 1s 13ms/step - loss: 0.0043 - coeff_determination: 0.9196 - val_loss: 0.0015 - val_coeff_determination: -3.0659\n",
      "Epoch 9/200\n",
      "65/65 [==============================] - 1s 14ms/step - loss: 0.0035 - coeff_determination: 0.9288 - val_loss: 0.0012 - val_coeff_determination: -2.4335\n",
      "Epoch 10/200\n",
      "65/65 [==============================] - 1s 13ms/step - loss: 0.0034 - coeff_determination: 0.9358 - val_loss: 0.0012 - val_coeff_determination: -2.2930\n",
      "Epoch 11/200\n",
      "65/65 [==============================] - 1s 13ms/step - loss: 0.0029 - coeff_determination: 0.9477 - val_loss: 0.0029 - val_coeff_determination: -11.3270\n",
      "Epoch 12/200\n",
      "65/65 [==============================] - 1s 13ms/step - loss: 0.0031 - coeff_determination: 0.9412 - val_loss: 0.0053 - val_coeff_determination: -22.6330\n",
      "Epoch 13/200\n",
      "65/65 [==============================] - 1s 13ms/step - loss: 0.0036 - coeff_determination: 0.9262 - val_loss: 0.0023 - val_coeff_determination: -7.6720\n",
      "Epoch 14/200\n",
      "65/65 [==============================] - 1s 13ms/step - loss: 0.0028 - coeff_determination: 0.9458 - val_loss: 0.0050 - val_coeff_determination: -21.1674\n",
      "Epoch 15/200\n",
      "65/65 [==============================] - 1s 13ms/step - loss: 0.0029 - coeff_determination: 0.9423 - val_loss: 0.0038 - val_coeff_determination: -15.3781\n",
      "Epoch 16/200\n",
      "65/65 [==============================] - 1s 14ms/step - loss: 0.0034 - coeff_determination: 0.9315 - val_loss: 0.0022 - val_coeff_determination: -7.3332\n",
      "Epoch 17/200\n",
      "65/65 [==============================] - 1s 13ms/step - loss: 0.0032 - coeff_determination: 0.9386 - val_loss: 0.0025 - val_coeff_determination: -9.9979\n",
      "Epoch 18/200\n",
      "65/65 [==============================] - 1s 13ms/step - loss: 0.0027 - coeff_determination: 0.9455 - val_loss: 0.0017 - val_coeff_determination: -5.3692\n",
      "Epoch 19/200\n",
      "65/65 [==============================] - 1s 13ms/step - loss: 0.0026 - coeff_determination: 0.9504 - val_loss: 0.0027 - val_coeff_determination: -10.7008\n",
      "Epoch 20/200\n",
      "65/65 [==============================] - 1s 13ms/step - loss: 0.0030 - coeff_determination: 0.9410 - val_loss: 9.1217e-04 - val_coeff_determination: -1.8384\n",
      "Epoch 21/200\n",
      "65/65 [==============================] - 1s 13ms/step - loss: 0.0026 - coeff_determination: 0.9495 - val_loss: 0.0012 - val_coeff_determination: -2.9193\n",
      "Epoch 22/200\n",
      "65/65 [==============================] - 1s 13ms/step - loss: 0.0033 - coeff_determination: 0.9319 - val_loss: 0.0029 - val_coeff_determination: -11.6879\n",
      "Epoch 23/200\n",
      "65/65 [==============================] - 1s 13ms/step - loss: 0.0025 - coeff_determination: 0.9500 - val_loss: 0.0018 - val_coeff_determination: -6.3324\n",
      "Epoch 24/200\n",
      "65/65 [==============================] - 1s 13ms/step - loss: 0.0025 - coeff_determination: 0.9483 - val_loss: 9.1787e-04 - val_coeff_determination: -2.1385\n",
      "Epoch 25/200\n",
      "65/65 [==============================] - 1s 13ms/step - loss: 0.0025 - coeff_determination: 0.9471 - val_loss: 8.1800e-04 - val_coeff_determination: -1.5352\n",
      "Epoch 26/200\n",
      "65/65 [==============================] - 1s 13ms/step - loss: 0.0021 - coeff_determination: 0.9551 - val_loss: 0.0011 - val_coeff_determination: -2.4621\n",
      "Epoch 27/200\n",
      "65/65 [==============================] - 1s 13ms/step - loss: 0.0023 - coeff_determination: 0.9493 - val_loss: 7.9970e-04 - val_coeff_determination: -1.5657\n",
      "Epoch 28/200\n",
      "65/65 [==============================] - 1s 13ms/step - loss: 0.0020 - coeff_determination: 0.9589 - val_loss: 0.0019 - val_coeff_determination: -7.1060\n",
      "Epoch 29/200\n",
      "65/65 [==============================] - 1s 13ms/step - loss: 0.0023 - coeff_determination: 0.9508 - val_loss: 7.4642e-04 - val_coeff_determination: -1.2335\n",
      "Epoch 30/200\n",
      "65/65 [==============================] - 1s 13ms/step - loss: 0.0027 - coeff_determination: 0.9495 - val_loss: 0.0019 - val_coeff_determination: -7.2786\n",
      "Epoch 31/200\n",
      "65/65 [==============================] - 1s 13ms/step - loss: 0.0022 - coeff_determination: 0.9564 - val_loss: 0.0030 - val_coeff_determination: -12.8655\n",
      "Epoch 32/200\n",
      "65/65 [==============================] - 1s 13ms/step - loss: 0.0021 - coeff_determination: 0.9575 - val_loss: 0.0011 - val_coeff_determination: -3.1159\n",
      "Epoch 33/200\n",
      "65/65 [==============================] - 1s 13ms/step - loss: 0.0022 - coeff_determination: 0.9553 - val_loss: 9.3072e-04 - val_coeff_determination: -2.5957\n",
      "Epoch 34/200\n",
      "65/65 [==============================] - 1s 13ms/step - loss: 0.0021 - coeff_determination: 0.9619 - val_loss: 0.0036 - val_coeff_determination: -15.3977\n",
      "Epoch 35/200\n",
      "65/65 [==============================] - 1s 13ms/step - loss: 0.0019 - coeff_determination: 0.9617 - val_loss: 0.0029 - val_coeff_determination: -11.9983\n",
      "Epoch 36/200\n",
      "65/65 [==============================] - 1s 13ms/step - loss: 0.0024 - coeff_determination: 0.9571 - val_loss: 6.4444e-04 - val_coeff_determination: -1.0344\n",
      "Epoch 37/200\n",
      "65/65 [==============================] - 1s 13ms/step - loss: 0.0020 - coeff_determination: 0.9601 - val_loss: 6.9436e-04 - val_coeff_determination: -1.2872\n",
      "Epoch 38/200\n",
      "65/65 [==============================] - 1s 13ms/step - loss: 0.0019 - coeff_determination: 0.9625 - val_loss: 5.6953e-04 - val_coeff_determination: -0.5707\n",
      "Epoch 39/200\n",
      "65/65 [==============================] - 1s 13ms/step - loss: 0.0014 - coeff_determination: 0.9726 - val_loss: 9.8785e-04 - val_coeff_determination: -2.9232\n",
      "Epoch 40/200\n",
      "65/65 [==============================] - 1s 13ms/step - loss: 0.0017 - coeff_determination: 0.9654 - val_loss: 6.9107e-04 - val_coeff_determination: -1.1766\n",
      "Epoch 41/200\n",
      "65/65 [==============================] - 1s 13ms/step - loss: 0.0020 - coeff_determination: 0.9637 - val_loss: 0.0011 - val_coeff_determination: -3.5653\n",
      "Epoch 42/200\n",
      "65/65 [==============================] - 1s 13ms/step - loss: 0.0019 - coeff_determination: 0.9641 - val_loss: 5.2270e-04 - val_coeff_determination: -0.3866\n",
      "Epoch 43/200\n",
      "65/65 [==============================] - 1s 13ms/step - loss: 0.0021 - coeff_determination: 0.9584 - val_loss: 0.0018 - val_coeff_determination: -6.5568\n",
      "Epoch 44/200\n",
      "65/65 [==============================] - 1s 13ms/step - loss: 0.0018 - coeff_determination: 0.9647 - val_loss: 0.0031 - val_coeff_determination: -13.2192\n",
      "Epoch 45/200\n",
      "65/65 [==============================] - 1s 13ms/step - loss: 0.0020 - coeff_determination: 0.9604 - val_loss: 0.0032 - val_coeff_determination: -14.1600\n",
      "Epoch 46/200\n",
      "65/65 [==============================] - 1s 13ms/step - loss: 0.0016 - coeff_determination: 0.9683 - val_loss: 0.0011 - val_coeff_determination: -3.7571\n",
      "Epoch 47/200\n",
      "65/65 [==============================] - 1s 13ms/step - loss: 0.0018 - coeff_determination: 0.9676 - val_loss: 8.1945e-04 - val_coeff_determination: -1.7558\n",
      "Epoch 48/200\n",
      "65/65 [==============================] - 1s 13ms/step - loss: 0.0016 - coeff_determination: 0.9691 - val_loss: 0.0014 - val_coeff_determination: -4.2711\n",
      "Epoch 49/200\n",
      "65/65 [==============================] - 1s 13ms/step - loss: 0.0014 - coeff_determination: 0.9719 - val_loss: 6.9631e-04 - val_coeff_determination: -1.1646\n",
      "Epoch 50/200\n",
      "65/65 [==============================] - 1s 13ms/step - loss: 0.0019 - coeff_determination: 0.9629 - val_loss: 0.0012 - val_coeff_determination: -4.0658\n",
      "Epoch 51/200\n",
      "65/65 [==============================] - 1s 13ms/step - loss: 0.0015 - coeff_determination: 0.9690 - val_loss: 9.3242e-04 - val_coeff_determination: -2.2330\n",
      "Epoch 52/200\n",
      "65/65 [==============================] - 1s 13ms/step - loss: 0.0019 - coeff_determination: 0.9670 - val_loss: 7.2814e-04 - val_coeff_determination: -1.8074\n",
      "Epoch 53/200\n",
      "65/65 [==============================] - 1s 13ms/step - loss: 0.0014 - coeff_determination: 0.9749 - val_loss: 0.0022 - val_coeff_determination: -9.5648\n",
      "Epoch 54/200\n",
      "65/65 [==============================] - 1s 14ms/step - loss: 0.0015 - coeff_determination: 0.9703 - val_loss: 5.4299e-04 - val_coeff_determination: -0.7653\n",
      "Epoch 55/200\n",
      "65/65 [==============================] - 1s 13ms/step - loss: 0.0015 - coeff_determination: 0.9706 - val_loss: 0.0025 - val_coeff_determination: -9.9632\n",
      "Epoch 56/200\n",
      "65/65 [==============================] - 1s 13ms/step - loss: 0.0016 - coeff_determination: 0.9676 - val_loss: 0.0012 - val_coeff_determination: -4.2132\n",
      "Epoch 57/200\n",
      "65/65 [==============================] - 1s 13ms/step - loss: 0.0012 - coeff_determination: 0.9755 - val_loss: 8.5402e-04 - val_coeff_determination: -2.3446\n",
      "Epoch 58/200\n",
      "65/65 [==============================] - 1s 13ms/step - loss: 0.0015 - coeff_determination: 0.9723 - val_loss: 0.0019 - val_coeff_determination: -7.5246\n",
      "Epoch 59/200\n",
      "65/65 [==============================] - 1s 13ms/step - loss: 0.0015 - coeff_determination: 0.9710 - val_loss: 7.7735e-04 - val_coeff_determination: -2.0305\n",
      "Epoch 60/200\n",
      "65/65 [==============================] - 1s 13ms/step - loss: 0.0015 - coeff_determination: 0.9731 - val_loss: 4.7789e-04 - val_coeff_determination: -0.3691\n",
      "Epoch 61/200\n",
      "65/65 [==============================] - 1s 13ms/step - loss: 0.0015 - coeff_determination: 0.9683 - val_loss: 5.1501e-04 - val_coeff_determination: -0.5888\n",
      "Epoch 62/200\n",
      "65/65 [==============================] - 1s 13ms/step - loss: 0.0014 - coeff_determination: 0.9751 - val_loss: 6.8622e-04 - val_coeff_determination: -1.5764\n",
      "Epoch 63/200\n",
      "65/65 [==============================] - 1s 14ms/step - loss: 0.0013 - coeff_determination: 0.9739 - val_loss: 5.9897e-04 - val_coeff_determination: -1.2416\n",
      "Epoch 64/200\n",
      "65/65 [==============================] - 1s 13ms/step - loss: 0.0013 - coeff_determination: 0.9778 - val_loss: 4.5953e-04 - val_coeff_determination: -0.4558\n",
      "Epoch 65/200\n",
      "65/65 [==============================] - 1s 13ms/step - loss: 0.0014 - coeff_determination: 0.9744 - val_loss: 0.0012 - val_coeff_determination: -4.1765\n",
      "Epoch 66/200\n",
      "65/65 [==============================] - 1s 13ms/step - loss: 0.0013 - coeff_determination: 0.9741 - val_loss: 0.0022 - val_coeff_determination: -8.9284\n",
      "Epoch 67/200\n",
      "65/65 [==============================] - 1s 13ms/step - loss: 0.0013 - coeff_determination: 0.9744 - val_loss: 3.5643e-04 - val_coeff_determination: 0.0459\n",
      "Epoch 68/200\n",
      "65/65 [==============================] - 1s 13ms/step - loss: 0.0012 - coeff_determination: 0.9788 - val_loss: 3.9257e-04 - val_coeff_determination: -0.1878\n",
      "Epoch 69/200\n",
      "65/65 [==============================] - 1s 13ms/step - loss: 0.0013 - coeff_determination: 0.9741 - val_loss: 0.0015 - val_coeff_determination: -5.7447\n",
      "Epoch 70/200\n",
      "65/65 [==============================] - 1s 13ms/step - loss: 0.0014 - coeff_determination: 0.9712 - val_loss: 3.6533e-04 - val_coeff_determination: -0.1321\n",
      "Epoch 71/200\n",
      "65/65 [==============================] - 1s 13ms/step - loss: 0.0015 - coeff_determination: 0.9692 - val_loss: 7.3500e-04 - val_coeff_determination: -1.8300\n",
      "Epoch 72/200\n",
      "65/65 [==============================] - 1s 13ms/step - loss: 0.0012 - coeff_determination: 0.9739 - val_loss: 0.0014 - val_coeff_determination: -5.2898\n",
      "Epoch 73/200\n",
      "65/65 [==============================] - 1s 13ms/step - loss: 0.0016 - coeff_determination: 0.9690 - val_loss: 3.0325e-04 - val_coeff_determination: 0.1867\n",
      "Epoch 74/200\n",
      "65/65 [==============================] - 1s 13ms/step - loss: 0.0013 - coeff_determination: 0.9762 - val_loss: 4.5305e-04 - val_coeff_determination: -0.6368\n",
      "Epoch 75/200\n",
      "65/65 [==============================] - 1s 14ms/step - loss: 0.0014 - coeff_determination: 0.9726 - val_loss: 3.0263e-04 - val_coeff_determination: 0.1904\n",
      "Epoch 76/200\n",
      "65/65 [==============================] - 1s 13ms/step - loss: 0.0014 - coeff_determination: 0.9720 - val_loss: 8.4572e-04 - val_coeff_determination: -2.6075\n",
      "Epoch 77/200\n",
      "65/65 [==============================] - 1s 13ms/step - loss: 0.0012 - coeff_determination: 0.9758 - val_loss: 0.0011 - val_coeff_determination: -3.3275\n",
      "Epoch 78/200\n",
      "65/65 [==============================] - 1s 14ms/step - loss: 0.0012 - coeff_determination: 0.9769 - val_loss: 8.6534e-04 - val_coeff_determination: -2.3906\n",
      "Epoch 79/200\n",
      "65/65 [==============================] - 1s 13ms/step - loss: 0.0012 - coeff_determination: 0.9773 - val_loss: 3.0518e-04 - val_coeff_determination: 0.1299\n",
      "Epoch 80/200\n",
      "65/65 [==============================] - 1s 14ms/step - loss: 9.1932e-04 - coeff_determination: 0.9808 - val_loss: 3.5892e-04 - val_coeff_determination: -0.1345\n",
      "Epoch 81/200\n",
      "65/65 [==============================] - 1s 14ms/step - loss: 0.0011 - coeff_determination: 0.9806 - val_loss: 3.8943e-04 - val_coeff_determination: -0.3578\n",
      "Epoch 82/200\n",
      "65/65 [==============================] - 1s 13ms/step - loss: 0.0010 - coeff_determination: 0.9799 - val_loss: 4.0939e-04 - val_coeff_determination: -0.4737\n",
      "Epoch 83/200\n",
      "65/65 [==============================] - 1s 13ms/step - loss: 0.0011 - coeff_determination: 0.9804 - val_loss: 6.2892e-04 - val_coeff_determination: -1.6542\n",
      "Epoch 84/200\n",
      "65/65 [==============================] - 1s 13ms/step - loss: 0.0010 - coeff_determination: 0.9811 - val_loss: 0.0024 - val_coeff_determination: -9.9318\n",
      "Epoch 85/200\n",
      "65/65 [==============================] - 1s 14ms/step - loss: 0.0011 - coeff_determination: 0.9776 - val_loss: 0.0024 - val_coeff_determination: -10.3513\n",
      "Epoch 86/200\n",
      "65/65 [==============================] - 1s 13ms/step - loss: 0.0011 - coeff_determination: 0.9768 - val_loss: 0.0016 - val_coeff_determination: -6.1734\n",
      "Epoch 87/200\n",
      "65/65 [==============================] - 1s 14ms/step - loss: 0.0012 - coeff_determination: 0.9771 - val_loss: 4.4365e-04 - val_coeff_determination: -0.6082\n",
      "Epoch 88/200\n",
      "65/65 [==============================] - 1s 14ms/step - loss: 0.0011 - coeff_determination: 0.9800 - val_loss: 2.9105e-04 - val_coeff_determination: 0.1380\n",
      "Epoch 89/200\n",
      "65/65 [==============================] - 1s 14ms/step - loss: 0.0010 - coeff_determination: 0.9807 - val_loss: 3.8475e-04 - val_coeff_determination: -0.3821\n",
      "Epoch 90/200\n",
      "65/65 [==============================] - 1s 14ms/step - loss: 0.0011 - coeff_determination: 0.9801 - val_loss: 3.9154e-04 - val_coeff_determination: -0.3314\n",
      "Epoch 91/200\n",
      "65/65 [==============================] - 1s 13ms/step - loss: 0.0011 - coeff_determination: 0.9790 - val_loss: 9.8259e-04 - val_coeff_determination: -3.3185\n",
      "Epoch 92/200\n",
      "65/65 [==============================] - 1s 14ms/step - loss: 0.0012 - coeff_determination: 0.9785 - val_loss: 3.6492e-04 - val_coeff_determination: -0.2823\n",
      "Epoch 93/200\n",
      "65/65 [==============================] - 1s 13ms/step - loss: 0.0011 - coeff_determination: 0.9783 - val_loss: 3.1407e-04 - val_coeff_determination: 0.0403\n",
      "Epoch 94/200\n",
      "65/65 [==============================] - 1s 14ms/step - loss: 9.4524e-04 - coeff_determination: 0.9820 - val_loss: 0.0012 - val_coeff_determination: -4.5540\n",
      "Epoch 95/200\n",
      "65/65 [==============================] - 1s 13ms/step - loss: 0.0011 - coeff_determination: 0.9809 - val_loss: 9.6161e-04 - val_coeff_determination: -3.2717\n",
      "Epoch 96/200\n",
      "65/65 [==============================] - 1s 14ms/step - loss: 0.0011 - coeff_determination: 0.9783 - val_loss: 4.6090e-04 - val_coeff_determination: -0.8387\n",
      "Epoch 97/200\n",
      "65/65 [==============================] - 1s 14ms/step - loss: 9.8544e-04 - coeff_determination: 0.9805 - val_loss: 0.0020 - val_coeff_determination: -8.1582\n",
      "Epoch 98/200\n",
      "65/65 [==============================] - 1s 14ms/step - loss: 0.0011 - coeff_determination: 0.9772 - val_loss: 5.0801e-04 - val_coeff_determination: -0.9740\n",
      "Epoch 99/200\n",
      "65/65 [==============================] - 1s 13ms/step - loss: 0.0011 - coeff_determination: 0.9789 - val_loss: 0.0024 - val_coeff_determination: -10.2147\n",
      "Epoch 100/200\n",
      "65/65 [==============================] - 1s 13ms/step - loss: 0.0012 - coeff_determination: 0.9775 - val_loss: 5.5891e-04 - val_coeff_determination: -1.2156\n",
      "Epoch 101/200\n",
      "65/65 [==============================] - 1s 13ms/step - loss: 0.0010 - coeff_determination: 0.9790 - val_loss: 2.6988e-04 - val_coeff_determination: 0.2142\n",
      "Epoch 102/200\n",
      "65/65 [==============================] - 1s 14ms/step - loss: 0.0014 - coeff_determination: 0.9736 - val_loss: 9.3655e-04 - val_coeff_determination: -3.0578\n",
      "Epoch 103/200\n",
      "65/65 [==============================] - 1s 13ms/step - loss: 0.0012 - coeff_determination: 0.9785 - val_loss: 3.1366e-04 - val_coeff_determination: 0.0518\n",
      "Epoch 104/200\n",
      "65/65 [==============================] - 1s 14ms/step - loss: 0.0011 - coeff_determination: 0.9775 - val_loss: 6.4489e-04 - val_coeff_determination: -1.7172\n",
      "Epoch 105/200\n",
      "65/65 [==============================] - 1s 14ms/step - loss: 0.0010 - coeff_determination: 0.9801 - val_loss: 0.0012 - val_coeff_determination: -4.6838\n",
      "Epoch 106/200\n",
      "65/65 [==============================] - 1s 14ms/step - loss: 0.0011 - coeff_determination: 0.9795 - val_loss: 2.8855e-04 - val_coeff_determination: 0.0854\n",
      "Epoch 107/200\n",
      "65/65 [==============================] - 1s 14ms/step - loss: 0.0011 - coeff_determination: 0.9776 - val_loss: 0.0010 - val_coeff_determination: -3.4096\n",
      "Epoch 108/200\n",
      "65/65 [==============================] - 1s 14ms/step - loss: 0.0011 - coeff_determination: 0.9766 - val_loss: 3.2175e-04 - val_coeff_determination: -0.1524\n",
      "Epoch 109/200\n",
      "65/65 [==============================] - 1s 15ms/step - loss: 0.0013 - coeff_determination: 0.9762 - val_loss: 0.0018 - val_coeff_determination: -7.2461\n",
      "Epoch 110/200\n",
      "65/65 [==============================] - 1s 15ms/step - loss: 0.0011 - coeff_determination: 0.9796 - val_loss: 6.2804e-04 - val_coeff_determination: -1.3997\n",
      "Epoch 111/200\n",
      "65/65 [==============================] - 1s 15ms/step - loss: 0.0011 - coeff_determination: 0.9793 - val_loss: 3.5398e-04 - val_coeff_determination: -0.2313\n",
      "Epoch 112/200\n",
      "65/65 [==============================] - 1s 14ms/step - loss: 9.2392e-04 - coeff_determination: 0.9826 - val_loss: 7.1430e-04 - val_coeff_determination: -2.0926\n",
      "Epoch 113/200\n",
      "65/65 [==============================] - 1s 15ms/step - loss: 0.0011 - coeff_determination: 0.9783 - val_loss: 4.3302e-04 - val_coeff_determination: -0.5117\n",
      "Epoch 114/200\n",
      "65/65 [==============================] - 1s 15ms/step - loss: 8.9283e-04 - coeff_determination: 0.9831 - val_loss: 5.4909e-04 - val_coeff_determination: -1.0240\n",
      "Epoch 115/200\n",
      "65/65 [==============================] - 1s 14ms/step - loss: 0.0010 - coeff_determination: 0.9792 - val_loss: 0.0012 - val_coeff_determination: -4.3019\n",
      "Epoch 116/200\n",
      "65/65 [==============================] - 1s 14ms/step - loss: 8.6779e-04 - coeff_determination: 0.9829 - val_loss: 2.9954e-04 - val_coeff_determination: -0.0228\n",
      "Epoch 117/200\n",
      "65/65 [==============================] - 1s 15ms/step - loss: 0.0010 - coeff_determination: 0.9800 - val_loss: 3.4971e-04 - val_coeff_determination: -0.2449\n",
      "Epoch 118/200\n",
      "65/65 [==============================] - 1s 14ms/step - loss: 8.2830e-04 - coeff_determination: 0.9842 - val_loss: 3.1226e-04 - val_coeff_determination: -0.1325\n",
      "Epoch 119/200\n",
      "65/65 [==============================] - 1s 14ms/step - loss: 0.0010 - coeff_determination: 0.9802 - val_loss: 7.5310e-04 - val_coeff_determination: -2.2202\n",
      "Epoch 120/200\n",
      "65/65 [==============================] - 1s 14ms/step - loss: 9.3790e-04 - coeff_determination: 0.9821 - val_loss: 2.4085e-04 - val_coeff_determination: 0.2974\n",
      "Epoch 121/200\n",
      "65/65 [==============================] - 1s 16ms/step - loss: 9.6347e-04 - coeff_determination: 0.9811 - val_loss: 4.5903e-04 - val_coeff_determination: -0.7662\n",
      "Epoch 122/200\n",
      "65/65 [==============================] - 1s 14ms/step - loss: 0.0012 - coeff_determination: 0.9783 - val_loss: 4.4365e-04 - val_coeff_determination: -0.4988\n",
      "Epoch 123/200\n",
      "65/65 [==============================] - 1s 14ms/step - loss: 0.0013 - coeff_determination: 0.9784 - val_loss: 8.0586e-04 - val_coeff_determination: -2.6829\n",
      "Epoch 124/200\n",
      "65/65 [==============================] - 1s 14ms/step - loss: 0.0012 - coeff_determination: 0.9773 - val_loss: 2.7395e-04 - val_coeff_determination: 0.1018\n",
      "Epoch 125/200\n",
      "65/65 [==============================] - 1s 14ms/step - loss: 0.0011 - coeff_determination: 0.9793 - val_loss: 5.2927e-04 - val_coeff_determination: -0.8426\n",
      "Epoch 126/200\n",
      "65/65 [==============================] - 1s 14ms/step - loss: 9.8237e-04 - coeff_determination: 0.9809 - val_loss: 0.0013 - val_coeff_determination: -4.6950\n",
      "Epoch 127/200\n",
      "65/65 [==============================] - 1s 14ms/step - loss: 9.0343e-04 - coeff_determination: 0.9816 - val_loss: 0.0012 - val_coeff_determination: -4.4938\n",
      "Epoch 128/200\n",
      "65/65 [==============================] - 1s 15ms/step - loss: 9.5764e-04 - coeff_determination: 0.9827 - val_loss: 6.8768e-04 - val_coeff_determination: -2.0433\n",
      "Epoch 129/200\n",
      "65/65 [==============================] - 1s 15ms/step - loss: 9.7569e-04 - coeff_determination: 0.9811 - val_loss: 4.9990e-04 - val_coeff_determination: -0.9102\n",
      "Epoch 130/200\n",
      "65/65 [==============================] - 1s 14ms/step - loss: 8.5400e-04 - coeff_determination: 0.9828 - val_loss: 2.2977e-04 - val_coeff_determination: 0.3553\n",
      "Epoch 131/200\n",
      "65/65 [==============================] - 1s 14ms/step - loss: 8.7709e-04 - coeff_determination: 0.9823 - val_loss: 2.1820e-04 - val_coeff_determination: 0.3969\n",
      "Epoch 132/200\n",
      "65/65 [==============================] - 1s 15ms/step - loss: 0.0010 - coeff_determination: 0.9798 - val_loss: 3.2423e-04 - val_coeff_determination: -0.1292\n",
      "Epoch 133/200\n",
      "65/65 [==============================] - 1s 15ms/step - loss: 0.0010 - coeff_determination: 0.9810 - val_loss: 8.3957e-04 - val_coeff_determination: -2.7676\n",
      "Epoch 134/200\n",
      "65/65 [==============================] - 1s 15ms/step - loss: 0.0010 - coeff_determination: 0.9783 - val_loss: 4.8025e-04 - val_coeff_determination: -1.0148\n",
      "Epoch 135/200\n",
      "65/65 [==============================] - 1s 14ms/step - loss: 8.0278e-04 - coeff_determination: 0.9846 - val_loss: 3.6333e-04 - val_coeff_determination: -0.4521\n",
      "Epoch 136/200\n",
      "65/65 [==============================] - 1s 15ms/step - loss: 9.9666e-04 - coeff_determination: 0.9818 - val_loss: 2.3141e-04 - val_coeff_determination: 0.3698\n",
      "Epoch 137/200\n",
      "65/65 [==============================] - 1s 14ms/step - loss: 9.5404e-04 - coeff_determination: 0.9819 - val_loss: 0.0032 - val_coeff_determination: -13.9140\n",
      "Epoch 138/200\n",
      "65/65 [==============================] - 1s 14ms/step - loss: 0.0011 - coeff_determination: 0.9794 - val_loss: 2.6866e-04 - val_coeff_determination: 0.1620\n",
      "Epoch 139/200\n",
      "65/65 [==============================] - 1s 15ms/step - loss: 8.9235e-04 - coeff_determination: 0.9835 - val_loss: 0.0024 - val_coeff_determination: -10.7143\n",
      "Epoch 140/200\n",
      "65/65 [==============================] - 1s 15ms/step - loss: 0.0010 - coeff_determination: 0.9811 - val_loss: 0.0018 - val_coeff_determination: -7.5874\n",
      "Epoch 141/200\n",
      "65/65 [==============================] - 1s 15ms/step - loss: 9.6858e-04 - coeff_determination: 0.9822 - val_loss: 2.8313e-04 - val_coeff_determination: -0.0110\n",
      "Epoch 142/200\n",
      "65/65 [==============================] - 1s 14ms/step - loss: 7.9504e-04 - coeff_determination: 0.9841 - val_loss: 7.7955e-04 - val_coeff_determination: -2.5936\n",
      "Epoch 143/200\n",
      "65/65 [==============================] - 1s 15ms/step - loss: 8.5004e-04 - coeff_determination: 0.9844 - val_loss: 3.8098e-04 - val_coeff_determination: -0.4854\n",
      "Epoch 144/200\n",
      "65/65 [==============================] - 1s 15ms/step - loss: 9.0561e-04 - coeff_determination: 0.9826 - val_loss: 3.5668e-04 - val_coeff_determination: -0.0444\n",
      "Epoch 145/200\n",
      "65/65 [==============================] - 1s 14ms/step - loss: 9.0661e-04 - coeff_determination: 0.9823 - val_loss: 3.0498e-04 - val_coeff_determination: -0.0996\n",
      "Epoch 146/200\n",
      "65/65 [==============================] - 1s 14ms/step - loss: 9.5482e-04 - coeff_determination: 0.9786 - val_loss: 0.0032 - val_coeff_determination: -14.4328\n",
      "Epoch 147/200\n",
      "65/65 [==============================] - 1s 15ms/step - loss: 0.0013 - coeff_determination: 0.9761 - val_loss: 4.0773e-04 - val_coeff_determination: -0.6651\n",
      "Epoch 148/200\n",
      "65/65 [==============================] - 1s 14ms/step - loss: 0.0010 - coeff_determination: 0.9798 - val_loss: 2.9542e-04 - val_coeff_determination: -0.0578\n",
      "Epoch 149/200\n",
      "65/65 [==============================] - 1s 14ms/step - loss: 8.6292e-04 - coeff_determination: 0.9836 - val_loss: 2.9446e-04 - val_coeff_determination: -0.0475\n",
      "Epoch 150/200\n",
      "65/65 [==============================] - 1s 14ms/step - loss: 9.2613e-04 - coeff_determination: 0.9817 - val_loss: 3.8043e-04 - val_coeff_determination: -0.3840\n",
      "Epoch 151/200\n",
      "65/65 [==============================] - 1s 14ms/step - loss: 9.0637e-04 - coeff_determination: 0.9834 - val_loss: 4.2980e-04 - val_coeff_determination: -0.7948\n",
      "Epoch 152/200\n",
      "65/65 [==============================] - 1s 14ms/step - loss: 9.3065e-04 - coeff_determination: 0.9829 - val_loss: 2.1966e-04 - val_coeff_determination: 0.3968\n",
      "Epoch 153/200\n",
      "65/65 [==============================] - 1s 14ms/step - loss: 0.0013 - coeff_determination: 0.9759 - val_loss: 7.3752e-04 - val_coeff_determination: -2.3581\n",
      "Epoch 154/200\n",
      "65/65 [==============================] - 1s 14ms/step - loss: 8.5093e-04 - coeff_determination: 0.9830 - val_loss: 2.5425e-04 - val_coeff_determination: 0.2000\n",
      "Epoch 155/200\n",
      "65/65 [==============================] - 1s 14ms/step - loss: 8.5187e-04 - coeff_determination: 0.9842 - val_loss: 4.3746e-04 - val_coeff_determination: -0.7988\n",
      "Epoch 156/200\n",
      "65/65 [==============================] - 1s 14ms/step - loss: 9.0099e-04 - coeff_determination: 0.9824 - val_loss: 0.0028 - val_coeff_determination: -12.7327\n",
      "Epoch 157/200\n",
      "65/65 [==============================] - 1s 14ms/step - loss: 0.0010 - coeff_determination: 0.9789 - val_loss: 2.5976e-04 - val_coeff_determination: 0.2791\n",
      "Epoch 158/200\n",
      "65/65 [==============================] - 1s 14ms/step - loss: 9.4970e-04 - coeff_determination: 0.9808 - val_loss: 0.0011 - val_coeff_determination: -4.4009\n",
      "Epoch 159/200\n",
      "65/65 [==============================] - 1s 14ms/step - loss: 7.6371e-04 - coeff_determination: 0.9849 - val_loss: 0.0019 - val_coeff_determination: -8.1108\n",
      "Epoch 160/200\n",
      "65/65 [==============================] - 1s 14ms/step - loss: 0.0011 - coeff_determination: 0.9792 - val_loss: 2.4747e-04 - val_coeff_determination: 0.2351\n",
      "Epoch 161/200\n",
      "65/65 [==============================] - 1s 14ms/step - loss: 9.8473e-04 - coeff_determination: 0.9808 - val_loss: 7.9702e-04 - val_coeff_determination: -2.6795\n",
      "Epoch 162/200\n",
      "65/65 [==============================] - 1s 14ms/step - loss: 8.3951e-04 - coeff_determination: 0.9838 - val_loss: 9.3203e-04 - val_coeff_determination: -3.4618\n",
      "Epoch 163/200\n",
      "65/65 [==============================] - 1s 14ms/step - loss: 9.8327e-04 - coeff_determination: 0.9818 - val_loss: 0.0011 - val_coeff_determination: -4.2502\n",
      "Epoch 164/200\n",
      "65/65 [==============================] - 1s 14ms/step - loss: 9.7220e-04 - coeff_determination: 0.9821 - val_loss: 0.0018 - val_coeff_determination: -7.9136\n",
      "Epoch 165/200\n",
      "65/65 [==============================] - 1s 14ms/step - loss: 9.1623e-04 - coeff_determination: 0.9816 - val_loss: 3.3014e-04 - val_coeff_determination: -0.2777\n",
      "Epoch 166/200\n",
      "65/65 [==============================] - 1s 14ms/step - loss: 8.4748e-04 - coeff_determination: 0.9832 - val_loss: 2.3391e-04 - val_coeff_determination: 0.3160\n",
      "Epoch 167/200\n",
      "65/65 [==============================] - 1s 14ms/step - loss: 8.7590e-04 - coeff_determination: 0.9830 - val_loss: 2.6398e-04 - val_coeff_determination: 0.2780\n",
      "Epoch 168/200\n",
      "65/65 [==============================] - 1s 14ms/step - loss: 8.8297e-04 - coeff_determination: 0.9818 - val_loss: 3.6327e-04 - val_coeff_determination: -0.1392\n",
      "Epoch 169/200\n",
      "65/65 [==============================] - 1s 14ms/step - loss: 0.0010 - coeff_determination: 0.9803 - val_loss: 0.0013 - val_coeff_determination: -5.2661\n",
      "Epoch 170/200\n",
      "65/65 [==============================] - 1s 14ms/step - loss: 9.2497e-04 - coeff_determination: 0.9828 - val_loss: 3.3366e-04 - val_coeff_determination: -0.2811\n",
      "Epoch 171/200\n",
      "65/65 [==============================] - 1s 14ms/step - loss: 8.8678e-04 - coeff_determination: 0.9838 - val_loss: 0.0012 - val_coeff_determination: -4.4658\n",
      "Epoch 172/200\n",
      "65/65 [==============================] - 1s 14ms/step - loss: 8.6614e-04 - coeff_determination: 0.9836 - val_loss: 2.4731e-04 - val_coeff_determination: 0.2592\n",
      "Epoch 173/200\n",
      "65/65 [==============================] - 1s 14ms/step - loss: 8.1099e-04 - coeff_determination: 0.9844 - val_loss: 5.9349e-04 - val_coeff_determination: -1.5547\n",
      "Epoch 174/200\n",
      "65/65 [==============================] - 1s 14ms/step - loss: 7.4256e-04 - coeff_determination: 0.9844 - val_loss: 4.0145e-04 - val_coeff_determination: -0.1409\n",
      "Epoch 175/200\n",
      "65/65 [==============================] - 1s 14ms/step - loss: 0.0010 - coeff_determination: 0.9810 - val_loss: 0.0062 - val_coeff_determination: -29.2912\n",
      "Epoch 176/200\n",
      "65/65 [==============================] - 1s 14ms/step - loss: 0.0011 - coeff_determination: 0.9788 - val_loss: 2.6317e-04 - val_coeff_determination: 0.3082\n",
      "Epoch 177/200\n",
      "65/65 [==============================] - 1s 13ms/step - loss: 8.7724e-04 - coeff_determination: 0.9846 - val_loss: 0.0025 - val_coeff_determination: -11.4028\n",
      "Epoch 178/200\n",
      "65/65 [==============================] - 1s 14ms/step - loss: 0.0014 - coeff_determination: 0.9745 - val_loss: 3.7538e-04 - val_coeff_determination: -0.5164\n",
      "Epoch 179/200\n",
      "65/65 [==============================] - 1s 13ms/step - loss: 8.6084e-04 - coeff_determination: 0.9816 - val_loss: 0.0035 - val_coeff_determination: -16.5389\n",
      "Epoch 180/200\n",
      "65/65 [==============================] - 1s 14ms/step - loss: 8.3504e-04 - coeff_determination: 0.9830 - val_loss: 2.4906e-04 - val_coeff_determination: 0.3293\n",
      "Epoch 181/200\n",
      "65/65 [==============================] - 1s 14ms/step - loss: 8.0868e-04 - coeff_determination: 0.9842 - val_loss: 0.0022 - val_coeff_determination: -9.8369\n",
      "Epoch 182/200\n",
      "65/65 [==============================] - 1s 14ms/step - loss: 8.7583e-04 - coeff_determination: 0.9833 - val_loss: 0.0011 - val_coeff_determination: -3.9291\n",
      "Epoch 183/200\n",
      "65/65 [==============================] - 1s 14ms/step - loss: 8.2372e-04 - coeff_determination: 0.9836 - val_loss: 4.9665e-04 - val_coeff_determination: -1.1389\n",
      "Epoch 184/200\n",
      "65/65 [==============================] - 1s 14ms/step - loss: 8.8814e-04 - coeff_determination: 0.9830 - val_loss: 4.1173e-04 - val_coeff_determination: -0.6994\n",
      "Epoch 185/200\n",
      "65/65 [==============================] - 1s 14ms/step - loss: 0.0010 - coeff_determination: 0.9796 - val_loss: 0.0025 - val_coeff_determination: -11.0258\n",
      "Epoch 186/200\n",
      "65/65 [==============================] - 1s 14ms/step - loss: 9.4927e-04 - coeff_determination: 0.9831 - val_loss: 2.7101e-04 - val_coeff_determination: 0.1361\n",
      "Epoch 187/200\n",
      "65/65 [==============================] - 1s 14ms/step - loss: 8.6946e-04 - coeff_determination: 0.9813 - val_loss: 2.7800e-04 - val_coeff_determination: 0.0590\n",
      "Epoch 188/200\n",
      "65/65 [==============================] - 1s 14ms/step - loss: 7.7500e-04 - coeff_determination: 0.9833 - val_loss: 3.3806e-04 - val_coeff_determination: -0.2966\n",
      "Epoch 189/200\n",
      "65/65 [==============================] - 1s 14ms/step - loss: 7.5979e-04 - coeff_determination: 0.9846 - val_loss: 3.0838e-04 - val_coeff_determination: 0.1566\n",
      "Epoch 190/200\n",
      "65/65 [==============================] - 1s 14ms/step - loss: 9.4709e-04 - coeff_determination: 0.9807 - val_loss: 3.0378e-04 - val_coeff_determination: 0.1067\n",
      "Epoch 191/200\n",
      "65/65 [==============================] - 1s 14ms/step - loss: 9.8013e-04 - coeff_determination: 0.9817 - val_loss: 3.4332e-04 - val_coeff_determination: 0.1170\n",
      "Epoch 192/200\n",
      "65/65 [==============================] - 1s 13ms/step - loss: 8.4333e-04 - coeff_determination: 0.9836 - val_loss: 0.0012 - val_coeff_determination: -4.7192\n",
      "Epoch 193/200\n",
      "65/65 [==============================] - 1s 14ms/step - loss: 8.7168e-04 - coeff_determination: 0.9837 - val_loss: 2.8462e-04 - val_coeff_determination: 0.0896\n",
      "Epoch 194/200\n",
      "65/65 [==============================] - 1s 14ms/step - loss: 9.6119e-04 - coeff_determination: 0.9824 - val_loss: 0.0022 - val_coeff_determination: -9.9359\n",
      "Epoch 195/200\n",
      "65/65 [==============================] - 1s 14ms/step - loss: 9.9530e-04 - coeff_determination: 0.9818 - val_loss: 3.7356e-04 - val_coeff_determination: -0.4871\n",
      "Epoch 196/200\n",
      "65/65 [==============================] - 1s 14ms/step - loss: 9.1189e-04 - coeff_determination: 0.9835 - val_loss: 5.0351e-04 - val_coeff_determination: -1.2104\n",
      "Epoch 197/200\n",
      "65/65 [==============================] - 1s 14ms/step - loss: 7.7232e-04 - coeff_determination: 0.9847 - val_loss: 7.2035e-04 - val_coeff_determination: -2.2951\n",
      "Epoch 198/200\n",
      "65/65 [==============================] - 1s 14ms/step - loss: 9.1150e-04 - coeff_determination: 0.9828 - val_loss: 3.1179e-04 - val_coeff_determination: 0.1193\n",
      "Epoch 199/200\n",
      "65/65 [==============================] - 1s 14ms/step - loss: 9.3324e-04 - coeff_determination: 0.9826 - val_loss: 3.3428e-04 - val_coeff_determination: -0.2312\n",
      "Epoch 200/200\n",
      "65/65 [==============================] - 1s 14ms/step - loss: 8.3624e-04 - coeff_determination: 0.9843 - val_loss: 2.5161e-04 - val_coeff_determination: 0.3302\n"
     ]
    }
   ],
   "source": [
    "\n",
    "model_checkpoint_callback = ModelCheckpoint(\n",
    "    filepath='stock.h5',\n",
    "    save_weights_only=False,\n",
    "    monitor='coeff_determination',\n",
    "    mode='max',\n",
    "    save_best_only=True)\n",
    "hist = regressor.fit(X_train, y_train, epochs = 200, batch_size = 16, validation_data = (X_val,y_val))"
   ]
  },
  {
   "cell_type": "markdown",
   "metadata": {
    "id": "VRYX_QycoL_u"
   },
   "source": [
    "Reading test data and making predictions"
   ]
  },
  {
   "cell_type": "code",
   "execution_count": 12,
   "metadata": {
    "id": "3GQXxFCfk_wl"
   },
   "outputs": [],
   "source": [
    "dataset_test = pd.read_csv('Google_Stock_Price_Test.csv')\n",
    "real_stock_price = dataset_test.iloc[:, 1:2].values\n",
    "dataset_total = pd.concat((dataset_train['Open'], dataset_test['Open']), axis = 0)\n",
    "inputs = dataset_total[len(dataset_total) - len(dataset_test) - 60:].values\n",
    "inputs = inputs.reshape(-1,1)\n",
    "inputs = sc.transform(inputs)\n",
    "X_test = []\n",
    "for i in range(60, 80):\n",
    "    X_test.append(inputs[i-60:i, 0])\n",
    "\n",
    "X_test = np.array(X_test)\n",
    "X_test = np.reshape(X_test, (X_test.shape[0], X_test.shape[1], 1))\n",
    "\n",
    "\n",
    "predicted_stock_price = regressor.predict(X_test)\n",
    "predicted_stock_price = sc.inverse_transform(predicted_stock_price)\n"
   ]
  },
  {
   "cell_type": "code",
   "execution_count": 13,
   "metadata": {
    "colab": {
     "base_uri": "https://localhost:8080/",
     "height": 298
    },
    "id": "INGnj1QnLEVf",
    "outputId": "3924b64b-8929-42f0-ff2a-955d9e4b07dc"
   },
   "outputs": [
    {
     "data": {
      "text/plain": [
       "<matplotlib.legend.Legend at 0x7f4a2e79ab50>"
      ]
     },
     "execution_count": 13,
     "metadata": {
      "tags": []
     },
     "output_type": "execute_result"
    },
    {
     "data": {
      "image/png": "[encoded data removed]",
      "text/plain": [
       "<Figure size 432x288 with 1 Axes>"
      ]
     },
     "metadata": {
      "needs_background": "light",
      "tags": []
     },
     "output_type": "display_data"
    }
   ],
   "source": [
    "r2score = hist.history['loss']\n",
    "val_r2score = hist.history['val_loss']\n",
    "epochs = range(1, len(r2score) + 1)\n",
    "\n",
    "# # Train and validation accuracy\n",
    "plt.plot(epochs, r2score, 'b', label='Training loss')\n",
    "plt.plot(epochs, val_r2score, 'r', label='Validation loss')\n",
    "plt.title('Training and Validation loss')\n",
    "plt.legend()"
   ]
  },
  {
   "cell_type": "code",
   "execution_count": 14,
   "metadata": {
    "colab": {
     "base_uri": "https://localhost:8080/",
     "height": 295
    },
    "id": "35_15HE6lJif",
    "outputId": "efee8f6b-ec4b-4d89-dca9-684e4c6bcda1"
   },
   "outputs": [
    {
     "data": {
      "image/png": "[encoded data removed]",
      "text/plain": [
       "<Figure size 432x288 with 1 Axes>"
      ]
     },
     "metadata": {
      "needs_background": "light",
      "tags": []
     },
     "output_type": "display_data"
    }
   ],
   "source": [
    "plt.plot(real_stock_price, color = 'red', label = 'Real Google Stock Price')\n",
    "plt.plot(predicted_stock_price, color = 'blue', label = 'Predicted Google Stock Price')\n",
    "plt.title('Google Stock Price Prediction for January')\n",
    "plt.xlabel('Time')\n",
    "plt.ylabel('Google Stock Price')\n",
    "plt.legend()\n",
    "plt.show()"
   ]
  },
  {
   "cell_type": "code",
   "execution_count": 15,
   "metadata": {
    "colab": {
     "base_uri": "https://localhost:8080/",
     "height": 0
    },
    "id": "3xW5pcillMC-",
    "outputId": "f0f206f2-11b9-44aa-c6e4-c8867fc4b0bd"
   },
   "outputs": [
    {
     "data": {
      "text/plain": [
       "0.6193872509573843"
      ]
     },
     "execution_count": 15,
     "metadata": {
      "tags": []
     },
     "output_type": "execute_result"
    }
   ],
   "source": [
    "import math\n",
    "from sklearn.metrics import r2_score\n",
    "\n",
    "r2_score(real_stock_price,predicted_stock_price)\n"
   ]
  }
 ],
 "metadata": {
  "accelerator": "GPU",
  "colab": {
   "collapsed_sections": [],
   "name": "Model 1 Var 1.ipynb",
   "provenance": []
  },
  "kernelspec": {
   "display_name": "Python 3",
   "language": "python",
   "name": "python3"
  },
  "language_info": {
   "codemirror_mode": {
    "name": "ipython",
    "version": 3
   },
   "file_extension": ".py",
   "mimetype": "text/x-python",
   "name": "python",
   "nbconvert_exporter": "python",
   "pygments_lexer": "ipython3",
   "version": "3.8.5"
  }
 },
 "nbformat": 4,
 "nbformat_minor": 1
}
