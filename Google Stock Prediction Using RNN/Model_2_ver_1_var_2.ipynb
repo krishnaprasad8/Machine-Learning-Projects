{
  "nbformat": 4,
  "nbformat_minor": 0,
  "metadata": {
    "accelerator": "GPU",
    "colab": {
      "name": "Model_2_ver_1_var_2.ipynb",
      "provenance": [],
      "collapsed_sections": []
    },
    "kernelspec": {
      "display_name": "Python 3",
      "language": "python",
      "name": "python3"
    },
    "language_info": {
      "codemirror_mode": {
        "name": "ipython",
        "version": 3
      },
      "file_extension": ".py",
      "mimetype": "text/x-python",
      "name": "python",
      "nbconvert_exporter": "python",
      "pygments_lexer": "ipython3",
      "version": "3.8.5"
    }
  },
  "cells": [
    {
      "cell_type": "markdown",
      "metadata": {
        "id": "NUAMLHjscFgZ"
      },
      "source": [
        "Google Stock Price Prediction using RNN (LSTM)\n",
        "\n",
        "Note: Different implementations were tested to find the effect of different parameters on the prediction results of which are included in the report along with the changes required i.e(Number of Epochs, Compiler type, model version, model units etc). To reconstruct the results of the report, kindly change the variables and select/uncomment the model as presented in the report respectively."
      ]
    },
    {
      "cell_type": "code",
      "metadata": {
        "id": "xG7dqwN_kYc2"
      },
      "source": [
        "#Importing Libraries\n",
        "import numpy as np\n",
        "import matplotlib.pyplot as plt\n",
        "import pandas as pd\n",
        "from tensorflow.keras.models import Sequential # allow us to create a neural network object representing a sequence of layers\n",
        "from tensorflow.keras.layers import Dense #to add the output layer \n",
        "from tensorflow.keras.layers import LSTM # to add LSTM layer\n",
        "from tensorflow.keras.layers import Dropout #to add some dropout regularization\n",
        "from tensorflow.keras.callbacks import ModelCheckpoint\n",
        "from tensorflow.keras.models import load_model"
      ],
      "execution_count": 1,
      "outputs": []
    },
    {
      "cell_type": "code",
      "metadata": {
        "id": "DQpYa6mLorrw"
      },
      "source": [
        ""
      ],
      "execution_count": 1,
      "outputs": []
    },
    {
      "cell_type": "code",
      "metadata": {
        "id": "hk8GdvbLkiA2"
      },
      "source": [
        "#Loading the Training File\n",
        "dataset_train = pd.read_csv('Google_Stock_Price_Train.csv')\n",
        "training_set = dataset_train.iloc[:, 1:2].values"
      ],
      "execution_count": 2,
      "outputs": []
    },
    {
      "cell_type": "code",
      "metadata": {
        "id": "-Zjv58Kkkr8G"
      },
      "source": [
        "#Scaling the training data\n",
        "from sklearn.preprocessing import MinMaxScaler\n",
        "sc = MinMaxScaler(feature_range = (0, 1))\n",
        "training_set_scaled = sc.fit_transform(training_set)"
      ],
      "execution_count": 3,
      "outputs": []
    },
    {
      "cell_type": "code",
      "metadata": {
        "id": "V6SwWZ35ksb2"
      },
      "source": [
        "#splitting data into training and validation\n",
        "X_train = []\n",
        "y_train = []\n",
        "X_val = []\n",
        "y_val = []\n",
        "\n",
        "for i in range(60, 1100):\n",
        "    X_train.append(training_set_scaled[i-60:i, 0])\n",
        "    y_train.append(training_set_scaled[i, 0])\n",
        "X_train, y_train = np.array(X_train), np.array(y_train)\n",
        "\n",
        "for i in range(1100, 1258):\n",
        "    X_val.append(training_set_scaled[i-60:i, 0])\n",
        "    y_val.append(training_set_scaled[i, 0])\n",
        "X_train, y_train = np.array(X_train), np.array(y_train)\n",
        "X_val, y_val = np.array(X_val), np.array(y_val)"
      ],
      "execution_count": 4,
      "outputs": []
    },
    {
      "cell_type": "code",
      "metadata": {
        "id": "yAfILPa9kuxF"
      },
      "source": [
        "#reshaping the data\n",
        "X_train = np.reshape(X_train, (X_train.shape[0], X_train.shape[1], 1))\n",
        "X_val = np.reshape(X_val, (X_val.shape[0], X_val.shape[1], 1))"
      ],
      "execution_count": 5,
      "outputs": []
    },
    {
      "cell_type": "markdown",
      "metadata": {
        "id": "9UDcZEJhnzst"
      },
      "source": [
        "**Model 1**"
      ]
    },
    {
      "cell_type": "code",
      "metadata": {
        "id": "yR3VZnc1k2w9"
      },
      "source": [
        "#regressor = Sequential()\n",
        "#regressor.add(LSTM(units = 50, return_sequences = True, input_shape = (X_train.shape[1], 1)))  \n",
        "#regressor.add(Dropout(0.2))\n",
        "#regressor.add(LSTM(units = 50, return_sequences = True))\n",
        "#regressor.add(Dropout(0.2))\n",
        "#regressor.add(LSTM(units = 50, return_sequences = True))\n",
        "#regressor.add(Dropout(0.2))\n",
        "#regressor.add(LSTM(units = 50))\n",
        "#regressor.add(Dropout(0.2))"
      ],
      "execution_count": 6,
      "outputs": []
    },
    {
      "cell_type": "code",
      "metadata": {
        "id": "ra3Zpjopk7X4"
      },
      "source": [
        "#regressor.add(Dense(units = 1))"
      ],
      "execution_count": 7,
      "outputs": []
    },
    {
      "cell_type": "markdown",
      "metadata": {
        "id": "uPFbig0_CEyh"
      },
      "source": [
        "**Model 2**"
      ]
    },
    {
      "cell_type": "code",
      "metadata": {
        "id": "IBM0tJJwrCFH"
      },
      "source": [
        "#version 1\n",
        "regressor = Sequential()\n",
        "regressor.add(LSTM(units=100,return_sequences=True,input_shape=(X_train.shape[1],1)))\n",
        "regressor.add(Dropout(0.2))\n",
        "\n",
        "regressor.add(LSTM(units=100,return_sequences=True))\n",
        "regressor.add(Dropout(0.2))\n",
        "\n",
        "regressor.add(LSTM(units=100,return_sequences=True))\n",
        "regressor.add(Dropout(0.2))\n",
        "\n",
        "regressor.add(LSTM(units=100,return_sequences=True))\n",
        "regressor.add(Dropout(0.2))\n",
        "\n",
        "regressor.add(LSTM(units=100))\n",
        "regressor.add(Dropout(0.2))\n",
        "\n",
        "regressor.add(Dense(units=1))"
      ],
      "execution_count": 8,
      "outputs": []
    },
    {
      "cell_type": "code",
      "metadata": {
        "id": "CAqHTpc27zic"
      },
      "source": [
        "#version 2\n",
        "#regressor = Sequential()\n",
        "#regressor.add(LSTM(units=100,return_sequences=True,input_shape=(X_train.shape[1],1)))\n",
        "#regressor.add(Dropout(0.2))\n",
        "\n",
        "#regressor.add(LSTM(units=100,return_sequences=True))\n",
        "#regressor.add(Dropout(0.2))\n",
        "\n",
        "#regressor.add(LSTM(units=100,return_sequences=True))\n",
        "#regressor.add(Dropout(0.2))\n",
        "\n",
        "#regressor.add(LSTM(units=100,return_sequences=True))\n",
        "#regressor.add(Dropout(0.2))\n",
        "\n",
        "#regressor.add(LSTM(units=50))\n",
        "#regressor.add(Dropout(0.2))\n",
        "\n",
        "#regressor.add(Dense(units=1))"
      ],
      "execution_count": 9,
      "outputs": []
    },
    {
      "cell_type": "code",
      "metadata": {
        "id": "yCQyEXvVk75O"
      },
      "source": [
        "from tensorflow.keras import backend as K\n",
        "\n",
        "def coeff_determination(y_true, y_pred):\n",
        "    from tensorflow.keras import backend as K\n",
        "    SS_res =  K.sum(K.square( y_true-y_pred ))\n",
        "    SS_tot = K.sum(K.square( y_true - K.mean(y_true) ) )\n",
        "    return ( 1 - SS_res/(SS_tot + K.epsilon()) )\n",
        "\n",
        "regressor.compile(optimizer = 'Adam', loss = 'mean_squared_error', metrics=[coeff_determination])"
      ],
      "execution_count": 10,
      "outputs": []
    },
    {
      "cell_type": "code",
      "metadata": {
        "colab": {
          "base_uri": "https://localhost:8080/"
        },
        "id": "yHx5YTDQk9_f",
        "outputId": "54dbb6cd-f17c-4108-c8d6-f0a26222fc60"
      },
      "source": [
        "\n",
        "model_checkpoint_callback = ModelCheckpoint(\n",
        "    filepath='stock.h5',\n",
        "    save_weights_only=False,\n",
        "    monitor='coeff_determination',\n",
        "    mode='max',\n",
        "    save_best_only=True)\n",
        "hist = regressor.fit(X_train, y_train, epochs = 200, batch_size = 32, validation_data = (X_val,y_val))"
      ],
      "execution_count": 11,
      "outputs": [
        {
          "output_type": "stream",
          "text": [
            "Epoch 1/200\n",
            "33/33 [==============================] - 10s 73ms/step - loss: 0.0725 - coeff_determination: -0.2239 - val_loss: 0.0237 - val_coeff_determination: -46.5839\n",
            "Epoch 2/200\n",
            "33/33 [==============================] - 1s 19ms/step - loss: 0.0062 - coeff_determination: 0.8824 - val_loss: 0.0094 - val_coeff_determination: -16.3722\n",
            "Epoch 3/200\n",
            "33/33 [==============================] - 1s 19ms/step - loss: 0.0043 - coeff_determination: 0.9212 - val_loss: 0.0019 - val_coeff_determination: -0.8230\n",
            "Epoch 4/200\n",
            "33/33 [==============================] - 1s 18ms/step - loss: 0.0038 - coeff_determination: 0.9329 - val_loss: 0.0081 - val_coeff_determination: -12.7940\n",
            "Epoch 5/200\n",
            "33/33 [==============================] - 1s 20ms/step - loss: 0.0037 - coeff_determination: 0.9322 - val_loss: 0.0052 - val_coeff_determination: -6.6910\n",
            "Epoch 6/200\n",
            "33/33 [==============================] - 1s 19ms/step - loss: 0.0038 - coeff_determination: 0.9330 - val_loss: 0.0030 - val_coeff_determination: -2.5329\n",
            "Epoch 7/200\n",
            "33/33 [==============================] - 1s 18ms/step - loss: 0.0031 - coeff_determination: 0.9382 - val_loss: 0.0029 - val_coeff_determination: -2.2916\n",
            "Epoch 8/200\n",
            "33/33 [==============================] - 1s 19ms/step - loss: 0.0034 - coeff_determination: 0.9344 - val_loss: 0.0026 - val_coeff_determination: -1.8815\n",
            "Epoch 9/200\n",
            "33/33 [==============================] - 1s 19ms/step - loss: 0.0035 - coeff_determination: 0.9379 - val_loss: 0.0061 - val_coeff_determination: -8.5691\n",
            "Epoch 10/200\n",
            "33/33 [==============================] - 1s 19ms/step - loss: 0.0036 - coeff_determination: 0.9352 - val_loss: 0.0054 - val_coeff_determination: -7.3026\n",
            "Epoch 11/200\n",
            "33/33 [==============================] - 1s 19ms/step - loss: 0.0032 - coeff_determination: 0.9394 - val_loss: 0.0021 - val_coeff_determination: -1.2883\n",
            "Epoch 12/200\n",
            "33/33 [==============================] - 1s 19ms/step - loss: 0.0033 - coeff_determination: 0.9424 - val_loss: 0.0083 - val_coeff_determination: -17.1209\n",
            "Epoch 13/200\n",
            "33/33 [==============================] - 1s 19ms/step - loss: 0.0042 - coeff_determination: 0.9270 - val_loss: 0.0016 - val_coeff_determination: -0.5008\n",
            "Epoch 14/200\n",
            "33/33 [==============================] - 1s 19ms/step - loss: 0.0029 - coeff_determination: 0.9492 - val_loss: 0.0057 - val_coeff_determination: -8.0197\n",
            "Epoch 15/200\n",
            "33/33 [==============================] - 1s 19ms/step - loss: 0.0033 - coeff_determination: 0.9409 - val_loss: 0.0036 - val_coeff_determination: -4.2657\n",
            "Epoch 16/200\n",
            "33/33 [==============================] - 1s 19ms/step - loss: 0.0024 - coeff_determination: 0.9572 - val_loss: 0.0062 - val_coeff_determination: -9.3347\n",
            "Epoch 17/200\n",
            "33/33 [==============================] - 1s 19ms/step - loss: 0.0029 - coeff_determination: 0.9433 - val_loss: 0.0013 - val_coeff_determination: -0.2927\n",
            "Epoch 18/200\n",
            "33/33 [==============================] - 1s 19ms/step - loss: 0.0024 - coeff_determination: 0.9563 - val_loss: 0.0015 - val_coeff_determination: -1.4495\n",
            "Epoch 19/200\n",
            "33/33 [==============================] - 1s 19ms/step - loss: 0.0027 - coeff_determination: 0.9514 - val_loss: 0.0056 - val_coeff_determination: -8.5378\n",
            "Epoch 20/200\n",
            "33/33 [==============================] - 1s 19ms/step - loss: 0.0026 - coeff_determination: 0.9508 - val_loss: 0.0016 - val_coeff_determination: -0.8861\n",
            "Epoch 21/200\n",
            "33/33 [==============================] - 1s 18ms/step - loss: 0.0026 - coeff_determination: 0.9538 - val_loss: 0.0052 - val_coeff_determination: -9.8177\n",
            "Epoch 22/200\n",
            "33/33 [==============================] - 1s 18ms/step - loss: 0.0036 - coeff_determination: 0.9314 - val_loss: 0.0012 - val_coeff_determination: -0.5077\n",
            "Epoch 23/200\n",
            "33/33 [==============================] - 1s 19ms/step - loss: 0.0025 - coeff_determination: 0.9511 - val_loss: 0.0012 - val_coeff_determination: -0.7547\n",
            "Epoch 24/200\n",
            "33/33 [==============================] - 1s 19ms/step - loss: 0.0028 - coeff_determination: 0.9515 - val_loss: 0.0019 - val_coeff_determination: -1.6304\n",
            "Epoch 25/200\n",
            "33/33 [==============================] - 1s 19ms/step - loss: 0.0030 - coeff_determination: 0.9457 - val_loss: 0.0016 - val_coeff_determination: -1.0259\n",
            "Epoch 26/200\n",
            "33/33 [==============================] - 1s 18ms/step - loss: 0.0023 - coeff_determination: 0.9573 - val_loss: 0.0042 - val_coeff_determination: -5.9611\n",
            "Epoch 27/200\n",
            "33/33 [==============================] - 1s 18ms/step - loss: 0.0023 - coeff_determination: 0.9588 - val_loss: 0.0025 - val_coeff_determination: -2.9184\n",
            "Epoch 28/200\n",
            "33/33 [==============================] - 1s 19ms/step - loss: 0.0026 - coeff_determination: 0.9523 - val_loss: 0.0034 - val_coeff_determination: -4.5589\n",
            "Epoch 29/200\n",
            "33/33 [==============================] - 1s 19ms/step - loss: 0.0022 - coeff_determination: 0.9581 - val_loss: 0.0016 - val_coeff_determination: -1.8058\n",
            "Epoch 30/200\n",
            "33/33 [==============================] - 1s 18ms/step - loss: 0.0026 - coeff_determination: 0.9537 - val_loss: 8.8084e-04 - val_coeff_determination: -0.0023\n",
            "Epoch 31/200\n",
            "33/33 [==============================] - 1s 19ms/step - loss: 0.0023 - coeff_determination: 0.9536 - val_loss: 0.0014 - val_coeff_determination: -1.3961\n",
            "Epoch 32/200\n",
            "33/33 [==============================] - 1s 19ms/step - loss: 0.0023 - coeff_determination: 0.9580 - val_loss: 0.0011 - val_coeff_determination: -0.2879\n",
            "Epoch 33/200\n",
            "33/33 [==============================] - 1s 19ms/step - loss: 0.0021 - coeff_determination: 0.9610 - val_loss: 0.0045 - val_coeff_determination: -7.2466\n",
            "Epoch 34/200\n",
            "33/33 [==============================] - 1s 19ms/step - loss: 0.0021 - coeff_determination: 0.9608 - val_loss: 0.0023 - val_coeff_determination: -3.5321\n",
            "Epoch 35/200\n",
            "33/33 [==============================] - 1s 19ms/step - loss: 0.0022 - coeff_determination: 0.9613 - val_loss: 0.0013 - val_coeff_determination: -1.1821\n",
            "Epoch 36/200\n",
            "33/33 [==============================] - 1s 19ms/step - loss: 0.0025 - coeff_determination: 0.9523 - val_loss: 0.0036 - val_coeff_determination: -5.4176\n",
            "Epoch 37/200\n",
            "33/33 [==============================] - 1s 19ms/step - loss: 0.0020 - coeff_determination: 0.9640 - val_loss: 0.0012 - val_coeff_determination: -0.5921\n",
            "Epoch 38/200\n",
            "33/33 [==============================] - 1s 19ms/step - loss: 0.0020 - coeff_determination: 0.9565 - val_loss: 9.5866e-04 - val_coeff_determination: -0.1533\n",
            "Epoch 39/200\n",
            "33/33 [==============================] - 1s 19ms/step - loss: 0.0020 - coeff_determination: 0.9651 - val_loss: 7.7083e-04 - val_coeff_determination: 0.0916\n",
            "Epoch 40/200\n",
            "33/33 [==============================] - 1s 18ms/step - loss: 0.0018 - coeff_determination: 0.9677 - val_loss: 0.0023 - val_coeff_determination: -2.8281\n",
            "Epoch 41/200\n",
            "33/33 [==============================] - 1s 19ms/step - loss: 0.0017 - coeff_determination: 0.9668 - val_loss: 7.4345e-04 - val_coeff_determination: 0.1276\n",
            "Epoch 42/200\n",
            "33/33 [==============================] - 1s 19ms/step - loss: 0.0022 - coeff_determination: 0.9586 - val_loss: 0.0013 - val_coeff_determination: -0.8399\n",
            "Epoch 43/200\n",
            "33/33 [==============================] - 1s 19ms/step - loss: 0.0017 - coeff_determination: 0.9679 - val_loss: 0.0038 - val_coeff_determination: -5.9341\n",
            "Epoch 44/200\n",
            "33/33 [==============================] - 1s 19ms/step - loss: 0.0018 - coeff_determination: 0.9660 - val_loss: 7.3714e-04 - val_coeff_determination: -0.0067\n",
            "Epoch 45/200\n",
            "33/33 [==============================] - 1s 18ms/step - loss: 0.0020 - coeff_determination: 0.9624 - val_loss: 0.0023 - val_coeff_determination: -3.5970\n",
            "Epoch 46/200\n",
            "33/33 [==============================] - 1s 18ms/step - loss: 0.0024 - coeff_determination: 0.9561 - val_loss: 8.4208e-04 - val_coeff_determination: -0.0978\n",
            "Epoch 47/200\n",
            "33/33 [==============================] - 1s 19ms/step - loss: 0.0017 - coeff_determination: 0.9692 - val_loss: 8.6153e-04 - val_coeff_determination: -0.3864\n",
            "Epoch 48/200\n",
            "33/33 [==============================] - 1s 19ms/step - loss: 0.0021 - coeff_determination: 0.9615 - val_loss: 0.0010 - val_coeff_determination: -0.7939\n",
            "Epoch 49/200\n",
            "33/33 [==============================] - 1s 19ms/step - loss: 0.0016 - coeff_determination: 0.9685 - val_loss: 0.0040 - val_coeff_determination: -6.4797\n",
            "Epoch 50/200\n",
            "33/33 [==============================] - 1s 20ms/step - loss: 0.0024 - coeff_determination: 0.9560 - val_loss: 0.0014 - val_coeff_determination: -1.1318\n",
            "Epoch 51/200\n",
            "33/33 [==============================] - 1s 19ms/step - loss: 0.0019 - coeff_determination: 0.9662 - val_loss: 0.0011 - val_coeff_determination: -0.9512\n",
            "Epoch 52/200\n",
            "33/33 [==============================] - 1s 19ms/step - loss: 0.0016 - coeff_determination: 0.9701 - val_loss: 5.9333e-04 - val_coeff_determination: 0.2706\n",
            "Epoch 53/200\n",
            "33/33 [==============================] - 1s 20ms/step - loss: 0.0015 - coeff_determination: 0.9718 - val_loss: 0.0021 - val_coeff_determination: -3.1650\n",
            "Epoch 54/200\n",
            "33/33 [==============================] - 1s 20ms/step - loss: 0.0019 - coeff_determination: 0.9650 - val_loss: 5.5839e-04 - val_coeff_determination: 0.3007\n",
            "Epoch 55/200\n",
            "33/33 [==============================] - 1s 19ms/step - loss: 0.0017 - coeff_determination: 0.9697 - val_loss: 0.0033 - val_coeff_determination: -5.2887\n",
            "Epoch 56/200\n",
            "33/33 [==============================] - 1s 19ms/step - loss: 0.0015 - coeff_determination: 0.9709 - val_loss: 0.0014 - val_coeff_determination: -1.1984\n",
            "Epoch 57/200\n",
            "33/33 [==============================] - 1s 18ms/step - loss: 0.0016 - coeff_determination: 0.9705 - val_loss: 5.1451e-04 - val_coeff_determination: 0.3390\n",
            "Epoch 58/200\n",
            "33/33 [==============================] - 1s 18ms/step - loss: 0.0017 - coeff_determination: 0.9678 - val_loss: 9.9712e-04 - val_coeff_determination: -0.5608\n",
            "Epoch 59/200\n",
            "33/33 [==============================] - 1s 19ms/step - loss: 0.0016 - coeff_determination: 0.9699 - val_loss: 0.0021 - val_coeff_determination: -2.6921\n",
            "Epoch 60/200\n",
            "33/33 [==============================] - 1s 19ms/step - loss: 0.0017 - coeff_determination: 0.9696 - val_loss: 0.0023 - val_coeff_determination: -3.1513\n",
            "Epoch 61/200\n",
            "33/33 [==============================] - 1s 19ms/step - loss: 0.0017 - coeff_determination: 0.9689 - val_loss: 5.5764e-04 - val_coeff_determination: 0.2841\n",
            "Epoch 62/200\n",
            "33/33 [==============================] - 1s 19ms/step - loss: 0.0015 - coeff_determination: 0.9730 - val_loss: 4.9294e-04 - val_coeff_determination: 0.4089\n",
            "Epoch 63/200\n",
            "33/33 [==============================] - 1s 19ms/step - loss: 0.0015 - coeff_determination: 0.9733 - val_loss: 4.6525e-04 - val_coeff_determination: 0.4133\n",
            "Epoch 64/200\n",
            "33/33 [==============================] - 1s 19ms/step - loss: 0.0013 - coeff_determination: 0.9743 - val_loss: 4.3629e-04 - val_coeff_determination: 0.4386\n",
            "Epoch 65/200\n",
            "33/33 [==============================] - 1s 19ms/step - loss: 0.0014 - coeff_determination: 0.9732 - val_loss: 4.6532e-04 - val_coeff_determination: 0.3241\n",
            "Epoch 66/200\n",
            "33/33 [==============================] - 1s 19ms/step - loss: 0.0014 - coeff_determination: 0.9751 - val_loss: 6.5465e-04 - val_coeff_determination: 0.0911\n",
            "Epoch 67/200\n",
            "33/33 [==============================] - 1s 19ms/step - loss: 0.0013 - coeff_determination: 0.9776 - val_loss: 0.0022 - val_coeff_determination: -3.1554\n",
            "Epoch 68/200\n",
            "33/33 [==============================] - 1s 20ms/step - loss: 0.0015 - coeff_determination: 0.9746 - val_loss: 4.3258e-04 - val_coeff_determination: 0.4651\n",
            "Epoch 69/200\n",
            "33/33 [==============================] - 1s 19ms/step - loss: 0.0013 - coeff_determination: 0.9757 - val_loss: 0.0020 - val_coeff_determination: -3.0229\n",
            "Epoch 70/200\n",
            "33/33 [==============================] - 1s 19ms/step - loss: 0.0019 - coeff_determination: 0.9666 - val_loss: 0.0022 - val_coeff_determination: -3.0896\n",
            "Epoch 71/200\n",
            "33/33 [==============================] - 1s 19ms/step - loss: 0.0014 - coeff_determination: 0.9732 - val_loss: 4.2837e-04 - val_coeff_determination: 0.4109\n",
            "Epoch 72/200\n",
            "33/33 [==============================] - 1s 19ms/step - loss: 0.0013 - coeff_determination: 0.9764 - val_loss: 0.0045 - val_coeff_determination: -7.6714\n",
            "Epoch 73/200\n",
            "33/33 [==============================] - 1s 19ms/step - loss: 0.0017 - coeff_determination: 0.9699 - val_loss: 4.0973e-04 - val_coeff_determination: 0.4892\n",
            "Epoch 74/200\n",
            "33/33 [==============================] - 1s 19ms/step - loss: 0.0015 - coeff_determination: 0.9736 - val_loss: 0.0025 - val_coeff_determination: -3.7464\n",
            "Epoch 75/200\n",
            "33/33 [==============================] - 1s 19ms/step - loss: 0.0014 - coeff_determination: 0.9762 - val_loss: 8.7886e-04 - val_coeff_determination: -0.4776\n",
            "Epoch 76/200\n",
            "33/33 [==============================] - 1s 19ms/step - loss: 0.0013 - coeff_determination: 0.9771 - val_loss: 3.6944e-04 - val_coeff_determination: 0.5242\n",
            "Epoch 77/200\n",
            "33/33 [==============================] - 1s 19ms/step - loss: 0.0010 - coeff_determination: 0.9816 - val_loss: 4.4319e-04 - val_coeff_determination: 0.3917\n",
            "Epoch 78/200\n",
            "33/33 [==============================] - 1s 19ms/step - loss: 0.0013 - coeff_determination: 0.9752 - val_loss: 3.7043e-04 - val_coeff_determination: 0.5036\n",
            "Epoch 79/200\n",
            "33/33 [==============================] - 1s 19ms/step - loss: 0.0014 - coeff_determination: 0.9757 - val_loss: 4.1222e-04 - val_coeff_determination: 0.4241\n",
            "Epoch 80/200\n",
            "33/33 [==============================] - 1s 19ms/step - loss: 0.0011 - coeff_determination: 0.9796 - val_loss: 0.0020 - val_coeff_determination: -2.7326\n",
            "Epoch 81/200\n",
            "33/33 [==============================] - 1s 19ms/step - loss: 0.0013 - coeff_determination: 0.9761 - val_loss: 0.0027 - val_coeff_determination: -4.6182\n",
            "Epoch 82/200\n",
            "33/33 [==============================] - 1s 19ms/step - loss: 0.0016 - coeff_determination: 0.9693 - val_loss: 5.5029e-04 - val_coeff_determination: 0.0141\n",
            "Epoch 83/200\n",
            "33/33 [==============================] - 1s 19ms/step - loss: 0.0014 - coeff_determination: 0.9739 - val_loss: 8.2972e-04 - val_coeff_determination: -0.3844\n",
            "Epoch 84/200\n",
            "33/33 [==============================] - 1s 19ms/step - loss: 0.0012 - coeff_determination: 0.9770 - val_loss: 0.0012 - val_coeff_determination: -1.1754\n",
            "Epoch 85/200\n",
            "33/33 [==============================] - 1s 19ms/step - loss: 0.0012 - coeff_determination: 0.9772 - val_loss: 0.0012 - val_coeff_determination: -1.1455\n",
            "Epoch 86/200\n",
            "33/33 [==============================] - 1s 19ms/step - loss: 0.0012 - coeff_determination: 0.9795 - val_loss: 7.0323e-04 - val_coeff_determination: -0.1643\n",
            "Epoch 87/200\n",
            "33/33 [==============================] - 1s 19ms/step - loss: 0.0012 - coeff_determination: 0.9772 - val_loss: 0.0016 - val_coeff_determination: -1.8716\n",
            "Epoch 88/200\n",
            "33/33 [==============================] - 1s 19ms/step - loss: 0.0012 - coeff_determination: 0.9786 - val_loss: 0.0011 - val_coeff_determination: -0.9513\n",
            "Epoch 89/200\n",
            "33/33 [==============================] - 1s 19ms/step - loss: 0.0012 - coeff_determination: 0.9788 - val_loss: 3.2825e-04 - val_coeff_determination: 0.5728\n",
            "Epoch 90/200\n",
            "33/33 [==============================] - 1s 19ms/step - loss: 0.0013 - coeff_determination: 0.9768 - val_loss: 5.4664e-04 - val_coeff_determination: 0.0627\n",
            "Epoch 91/200\n",
            "33/33 [==============================] - 1s 19ms/step - loss: 0.0011 - coeff_determination: 0.9804 - val_loss: 3.4008e-04 - val_coeff_determination: 0.5164\n",
            "Epoch 92/200\n",
            "33/33 [==============================] - 1s 19ms/step - loss: 0.0013 - coeff_determination: 0.9761 - val_loss: 0.0013 - val_coeff_determination: -1.2666\n",
            "Epoch 93/200\n",
            "33/33 [==============================] - 1s 19ms/step - loss: 0.0012 - coeff_determination: 0.9773 - val_loss: 3.3539e-04 - val_coeff_determination: 0.5719\n",
            "Epoch 94/200\n",
            "33/33 [==============================] - 1s 19ms/step - loss: 0.0013 - coeff_determination: 0.9776 - val_loss: 3.7279e-04 - val_coeff_determination: 0.4232\n",
            "Epoch 95/200\n",
            "33/33 [==============================] - 1s 19ms/step - loss: 9.7469e-04 - coeff_determination: 0.9822 - val_loss: 9.2015e-04 - val_coeff_determination: -0.6102\n",
            "Epoch 96/200\n",
            "33/33 [==============================] - 1s 18ms/step - loss: 0.0011 - coeff_determination: 0.9791 - val_loss: 0.0014 - val_coeff_determination: -1.5829\n",
            "Epoch 97/200\n",
            "33/33 [==============================] - 1s 19ms/step - loss: 0.0011 - coeff_determination: 0.9795 - val_loss: 7.7242e-04 - val_coeff_determination: -0.3440\n",
            "Epoch 98/200\n",
            "33/33 [==============================] - 1s 19ms/step - loss: 0.0011 - coeff_determination: 0.9801 - val_loss: 6.8072e-04 - val_coeff_determination: -0.1290\n",
            "Epoch 99/200\n",
            "33/33 [==============================] - 1s 20ms/step - loss: 0.0010 - coeff_determination: 0.9816 - val_loss: 0.0018 - val_coeff_determination: -2.5362\n",
            "Epoch 100/200\n",
            "33/33 [==============================] - 1s 20ms/step - loss: 0.0012 - coeff_determination: 0.9775 - val_loss: 4.4450e-04 - val_coeff_determination: 0.2885\n",
            "Epoch 101/200\n",
            "33/33 [==============================] - 1s 19ms/step - loss: 9.8446e-04 - coeff_determination: 0.9822 - val_loss: 4.8623e-04 - val_coeff_determination: 0.2412\n",
            "Epoch 102/200\n",
            "33/33 [==============================] - 1s 19ms/step - loss: 0.0013 - coeff_determination: 0.9780 - val_loss: 0.0012 - val_coeff_determination: -1.1507\n",
            "Epoch 103/200\n",
            "33/33 [==============================] - 1s 19ms/step - loss: 0.0011 - coeff_determination: 0.9810 - val_loss: 3.3427e-04 - val_coeff_determination: 0.5264\n",
            "Epoch 104/200\n",
            "33/33 [==============================] - 1s 19ms/step - loss: 0.0012 - coeff_determination: 0.9779 - val_loss: 6.5837e-04 - val_coeff_determination: -0.0886\n",
            "Epoch 105/200\n",
            "33/33 [==============================] - 1s 19ms/step - loss: 0.0012 - coeff_determination: 0.9785 - val_loss: 2.8938e-04 - val_coeff_determination: 0.5881\n",
            "Epoch 106/200\n",
            "33/33 [==============================] - 1s 19ms/step - loss: 0.0013 - coeff_determination: 0.9781 - val_loss: 9.5566e-04 - val_coeff_determination: -0.7042\n",
            "Epoch 107/200\n",
            "33/33 [==============================] - 1s 19ms/step - loss: 0.0013 - coeff_determination: 0.9754 - val_loss: 3.7674e-04 - val_coeff_determination: 0.4520\n",
            "Epoch 108/200\n",
            "33/33 [==============================] - 1s 19ms/step - loss: 9.4499e-04 - coeff_determination: 0.9833 - val_loss: 0.0047 - val_coeff_determination: -8.5284\n",
            "Epoch 109/200\n",
            "33/33 [==============================] - 1s 20ms/step - loss: 0.0012 - coeff_determination: 0.9767 - val_loss: 4.8304e-04 - val_coeff_determination: 0.2721\n",
            "Epoch 110/200\n",
            "33/33 [==============================] - 1s 19ms/step - loss: 9.8829e-04 - coeff_determination: 0.9833 - val_loss: 0.0013 - val_coeff_determination: -1.4125\n",
            "Epoch 111/200\n",
            "33/33 [==============================] - 1s 19ms/step - loss: 8.7223e-04 - coeff_determination: 0.9836 - val_loss: 2.7863e-04 - val_coeff_determination: 0.6110\n",
            "Epoch 112/200\n",
            "33/33 [==============================] - 1s 19ms/step - loss: 0.0012 - coeff_determination: 0.9775 - val_loss: 9.3000e-04 - val_coeff_determination: -0.6739\n",
            "Epoch 113/200\n",
            "33/33 [==============================] - 1s 19ms/step - loss: 0.0011 - coeff_determination: 0.9805 - val_loss: 0.0014 - val_coeff_determination: -1.5842\n",
            "Epoch 114/200\n",
            "33/33 [==============================] - 1s 19ms/step - loss: 0.0011 - coeff_determination: 0.9809 - val_loss: 5.4640e-04 - val_coeff_determination: 0.1047\n",
            "Epoch 115/200\n",
            "33/33 [==============================] - 1s 19ms/step - loss: 0.0010 - coeff_determination: 0.9799 - val_loss: 0.0010 - val_coeff_determination: -0.8738\n",
            "Epoch 116/200\n",
            "33/33 [==============================] - 1s 18ms/step - loss: 9.4972e-04 - coeff_determination: 0.9829 - val_loss: 3.4208e-04 - val_coeff_determination: 0.4514\n",
            "Epoch 117/200\n",
            "33/33 [==============================] - 1s 19ms/step - loss: 0.0010 - coeff_determination: 0.9801 - val_loss: 2.7257e-04 - val_coeff_determination: 0.6301\n",
            "Epoch 118/200\n",
            "33/33 [==============================] - 1s 19ms/step - loss: 8.4376e-04 - coeff_determination: 0.9832 - val_loss: 0.0017 - val_coeff_determination: -2.1781\n",
            "Epoch 119/200\n",
            "33/33 [==============================] - 1s 19ms/step - loss: 9.6104e-04 - coeff_determination: 0.9818 - val_loss: 3.2238e-04 - val_coeff_determination: 0.4826\n",
            "Epoch 120/200\n",
            "33/33 [==============================] - 1s 19ms/step - loss: 9.5169e-04 - coeff_determination: 0.9831 - val_loss: 3.0892e-04 - val_coeff_determination: 0.5583\n",
            "Epoch 121/200\n",
            "33/33 [==============================] - 1s 19ms/step - loss: 0.0011 - coeff_determination: 0.9799 - val_loss: 6.5461e-04 - val_coeff_determination: -0.3004\n",
            "Epoch 122/200\n",
            "33/33 [==============================] - 1s 19ms/step - loss: 0.0011 - coeff_determination: 0.9799 - val_loss: 2.6059e-04 - val_coeff_determination: 0.6555\n",
            "Epoch 123/200\n",
            "33/33 [==============================] - 1s 19ms/step - loss: 9.5371e-04 - coeff_determination: 0.9833 - val_loss: 3.4116e-04 - val_coeff_determination: 0.4363\n",
            "Epoch 124/200\n",
            "33/33 [==============================] - 1s 19ms/step - loss: 8.8328e-04 - coeff_determination: 0.9845 - val_loss: 2.3910e-04 - val_coeff_determination: 0.6816\n",
            "Epoch 125/200\n",
            "33/33 [==============================] - 1s 19ms/step - loss: 0.0011 - coeff_determination: 0.9802 - val_loss: 0.0030 - val_coeff_determination: -5.0715\n",
            "Epoch 126/200\n",
            "33/33 [==============================] - 1s 19ms/step - loss: 8.8875e-04 - coeff_determination: 0.9833 - val_loss: 3.7768e-04 - val_coeff_determination: 0.4496\n",
            "Epoch 127/200\n",
            "33/33 [==============================] - 1s 19ms/step - loss: 0.0011 - coeff_determination: 0.9811 - val_loss: 0.0010 - val_coeff_determination: -0.9094\n",
            "Epoch 128/200\n",
            "33/33 [==============================] - 1s 19ms/step - loss: 8.3974e-04 - coeff_determination: 0.9849 - val_loss: 0.0011 - val_coeff_determination: -1.1992\n",
            "Epoch 129/200\n",
            "33/33 [==============================] - 1s 20ms/step - loss: 9.8207e-04 - coeff_determination: 0.9815 - val_loss: 2.4882e-04 - val_coeff_determination: 0.6726\n",
            "Epoch 130/200\n",
            "33/33 [==============================] - 1s 19ms/step - loss: 0.0010 - coeff_determination: 0.9804 - val_loss: 3.0961e-04 - val_coeff_determination: 0.4905\n",
            "Epoch 131/200\n",
            "33/33 [==============================] - 1s 20ms/step - loss: 0.0011 - coeff_determination: 0.9805 - val_loss: 0.0012 - val_coeff_determination: -1.2431\n",
            "Epoch 132/200\n",
            "33/33 [==============================] - 1s 20ms/step - loss: 0.0012 - coeff_determination: 0.9774 - val_loss: 0.0014 - val_coeff_determination: -1.6462\n",
            "Epoch 133/200\n",
            "33/33 [==============================] - 1s 19ms/step - loss: 9.4548e-04 - coeff_determination: 0.9817 - val_loss: 3.3068e-04 - val_coeff_determination: 0.4861\n",
            "Epoch 134/200\n",
            "33/33 [==============================] - 1s 20ms/step - loss: 0.0011 - coeff_determination: 0.9798 - val_loss: 2.2971e-04 - val_coeff_determination: 0.6856\n",
            "Epoch 135/200\n",
            "33/33 [==============================] - 1s 19ms/step - loss: 0.0012 - coeff_determination: 0.9786 - val_loss: 0.0012 - val_coeff_determination: -1.4938\n",
            "Epoch 136/200\n",
            "33/33 [==============================] - 1s 19ms/step - loss: 0.0011 - coeff_determination: 0.9809 - val_loss: 4.1143e-04 - val_coeff_determination: 0.3396\n",
            "Epoch 137/200\n",
            "33/33 [==============================] - 1s 20ms/step - loss: 8.8195e-04 - coeff_determination: 0.9843 - val_loss: 2.6787e-04 - val_coeff_determination: 0.5751\n",
            "Epoch 138/200\n",
            "33/33 [==============================] - 1s 19ms/step - loss: 9.8001e-04 - coeff_determination: 0.9822 - val_loss: 4.7107e-04 - val_coeff_determination: 0.2173\n",
            "Epoch 139/200\n",
            "33/33 [==============================] - 1s 19ms/step - loss: 8.1673e-04 - coeff_determination: 0.9842 - val_loss: 2.4459e-04 - val_coeff_determination: 0.6839\n",
            "Epoch 140/200\n",
            "33/33 [==============================] - 1s 20ms/step - loss: 8.5364e-04 - coeff_determination: 0.9845 - val_loss: 4.5652e-04 - val_coeff_determination: 0.2474\n",
            "Epoch 141/200\n",
            "33/33 [==============================] - 1s 20ms/step - loss: 9.8744e-04 - coeff_determination: 0.9812 - val_loss: 9.4775e-04 - val_coeff_determination: -0.9696\n",
            "Epoch 142/200\n",
            "33/33 [==============================] - 1s 20ms/step - loss: 8.1385e-04 - coeff_determination: 0.9856 - val_loss: 3.4348e-04 - val_coeff_determination: 0.5080\n",
            "Epoch 143/200\n",
            "33/33 [==============================] - 1s 19ms/step - loss: 0.0010 - coeff_determination: 0.9820 - val_loss: 3.3653e-04 - val_coeff_determination: 0.4654\n",
            "Epoch 144/200\n",
            "33/33 [==============================] - 1s 19ms/step - loss: 8.8487e-04 - coeff_determination: 0.9845 - val_loss: 4.6729e-04 - val_coeff_determination: 0.2097\n",
            "Epoch 145/200\n",
            "33/33 [==============================] - 1s 19ms/step - loss: 9.2288e-04 - coeff_determination: 0.9845 - val_loss: 2.7628e-04 - val_coeff_determination: 0.6194\n",
            "Epoch 146/200\n",
            "33/33 [==============================] - 1s 19ms/step - loss: 7.9874e-04 - coeff_determination: 0.9847 - val_loss: 0.0011 - val_coeff_determination: -1.1713\n",
            "Epoch 147/200\n",
            "33/33 [==============================] - 1s 20ms/step - loss: 8.3568e-04 - coeff_determination: 0.9834 - val_loss: 0.0012 - val_coeff_determination: -1.5940\n",
            "Epoch 148/200\n",
            "33/33 [==============================] - 1s 20ms/step - loss: 0.0014 - coeff_determination: 0.9769 - val_loss: 0.0032 - val_coeff_determination: -5.5781\n",
            "Epoch 149/200\n",
            "33/33 [==============================] - 1s 19ms/step - loss: 0.0012 - coeff_determination: 0.9780 - val_loss: 0.0012 - val_coeff_determination: -1.3369\n",
            "Epoch 150/200\n",
            "33/33 [==============================] - 1s 19ms/step - loss: 8.4490e-04 - coeff_determination: 0.9845 - val_loss: 2.9933e-04 - val_coeff_determination: 0.5578\n",
            "Epoch 151/200\n",
            "33/33 [==============================] - 1s 19ms/step - loss: 7.2119e-04 - coeff_determination: 0.9867 - val_loss: 4.7533e-04 - val_coeff_determination: 0.2032\n",
            "Epoch 152/200\n",
            "33/33 [==============================] - 1s 20ms/step - loss: 7.9668e-04 - coeff_determination: 0.9852 - val_loss: 2.2182e-04 - val_coeff_determination: 0.6926\n",
            "Epoch 153/200\n",
            "33/33 [==============================] - 1s 19ms/step - loss: 8.6792e-04 - coeff_determination: 0.9844 - val_loss: 3.3094e-04 - val_coeff_determination: 0.5098\n",
            "Epoch 154/200\n",
            "33/33 [==============================] - 1s 20ms/step - loss: 8.1382e-04 - coeff_determination: 0.9850 - val_loss: 8.7841e-04 - val_coeff_determination: -0.6652\n",
            "Epoch 155/200\n",
            "33/33 [==============================] - 1s 19ms/step - loss: 7.7004e-04 - coeff_determination: 0.9861 - val_loss: 2.2848e-04 - val_coeff_determination: 0.6876\n",
            "Epoch 156/200\n",
            "33/33 [==============================] - 1s 19ms/step - loss: 0.0010 - coeff_determination: 0.9818 - val_loss: 6.7385e-04 - val_coeff_determination: -0.1962\n",
            "Epoch 157/200\n",
            "33/33 [==============================] - 1s 19ms/step - loss: 0.0011 - coeff_determination: 0.9806 - val_loss: 3.3436e-04 - val_coeff_determination: 0.4970\n",
            "Epoch 158/200\n",
            "33/33 [==============================] - 1s 19ms/step - loss: 0.0010 - coeff_determination: 0.9797 - val_loss: 3.3882e-04 - val_coeff_determination: 0.5052\n",
            "Epoch 159/200\n",
            "33/33 [==============================] - 1s 20ms/step - loss: 7.2898e-04 - coeff_determination: 0.9873 - val_loss: 0.0022 - val_coeff_determination: -3.3189\n",
            "Epoch 160/200\n",
            "33/33 [==============================] - 1s 19ms/step - loss: 0.0010 - coeff_determination: 0.9816 - val_loss: 3.0377e-04 - val_coeff_determination: 0.5681\n",
            "Epoch 161/200\n",
            "33/33 [==============================] - 1s 19ms/step - loss: 8.5297e-04 - coeff_determination: 0.9854 - val_loss: 2.7167e-04 - val_coeff_determination: 0.5921\n",
            "Epoch 162/200\n",
            "33/33 [==============================] - 1s 21ms/step - loss: 9.2767e-04 - coeff_determination: 0.9841 - val_loss: 6.8073e-04 - val_coeff_determination: -0.3062\n",
            "Epoch 163/200\n",
            "33/33 [==============================] - 1s 19ms/step - loss: 8.5752e-04 - coeff_determination: 0.9824 - val_loss: 2.9729e-04 - val_coeff_determination: 0.5890\n",
            "Epoch 164/200\n",
            "33/33 [==============================] - 1s 19ms/step - loss: 7.9545e-04 - coeff_determination: 0.9856 - val_loss: 2.5454e-04 - val_coeff_determination: 0.6659\n",
            "Epoch 165/200\n",
            "33/33 [==============================] - 1s 20ms/step - loss: 6.7472e-04 - coeff_determination: 0.9877 - val_loss: 0.0021 - val_coeff_determination: -3.1966\n",
            "Epoch 166/200\n",
            "33/33 [==============================] - 1s 19ms/step - loss: 8.4075e-04 - coeff_determination: 0.9836 - val_loss: 2.8821e-04 - val_coeff_determination: 0.6096\n",
            "Epoch 167/200\n",
            "33/33 [==============================] - 1s 19ms/step - loss: 7.8854e-04 - coeff_determination: 0.9857 - val_loss: 8.4575e-04 - val_coeff_determination: -0.5091\n",
            "Epoch 168/200\n",
            "33/33 [==============================] - 1s 19ms/step - loss: 7.8682e-04 - coeff_determination: 0.9848 - val_loss: 2.4127e-04 - val_coeff_determination: 0.6740\n",
            "Epoch 169/200\n",
            "33/33 [==============================] - 1s 19ms/step - loss: 9.4784e-04 - coeff_determination: 0.9827 - val_loss: 2.3685e-04 - val_coeff_determination: 0.6602\n",
            "Epoch 170/200\n",
            "33/33 [==============================] - 1s 20ms/step - loss: 8.2333e-04 - coeff_determination: 0.9837 - val_loss: 0.0013 - val_coeff_determination: -1.5889\n",
            "Epoch 171/200\n",
            "33/33 [==============================] - 1s 20ms/step - loss: 0.0011 - coeff_determination: 0.9809 - val_loss: 2.3863e-04 - val_coeff_determination: 0.6801\n",
            "Epoch 172/200\n",
            "33/33 [==============================] - 1s 19ms/step - loss: 9.2275e-04 - coeff_determination: 0.9826 - val_loss: 4.7329e-04 - val_coeff_determination: 0.1148\n",
            "Epoch 173/200\n",
            "33/33 [==============================] - 1s 19ms/step - loss: 8.8439e-04 - coeff_determination: 0.9827 - val_loss: 3.3259e-04 - val_coeff_determination: 0.5129\n",
            "Epoch 174/200\n",
            "33/33 [==============================] - 1s 20ms/step - loss: 6.3949e-04 - coeff_determination: 0.9880 - val_loss: 2.2564e-04 - val_coeff_determination: 0.6892\n",
            "Epoch 175/200\n",
            "33/33 [==============================] - 1s 19ms/step - loss: 7.2165e-04 - coeff_determination: 0.9867 - val_loss: 2.7517e-04 - val_coeff_determination: 0.5971\n",
            "Epoch 176/200\n",
            "33/33 [==============================] - 1s 20ms/step - loss: 7.3751e-04 - coeff_determination: 0.9867 - val_loss: 0.0020 - val_coeff_determination: -2.8509\n",
            "Epoch 177/200\n",
            "33/33 [==============================] - 1s 20ms/step - loss: 9.3474e-04 - coeff_determination: 0.9829 - val_loss: 8.8224e-04 - val_coeff_determination: -0.6332\n",
            "Epoch 178/200\n",
            "33/33 [==============================] - 1s 20ms/step - loss: 8.4264e-04 - coeff_determination: 0.9850 - val_loss: 2.5716e-04 - val_coeff_determination: 0.6514\n",
            "Epoch 179/200\n",
            "33/33 [==============================] - 1s 20ms/step - loss: 7.3884e-04 - coeff_determination: 0.9859 - val_loss: 4.5831e-04 - val_coeff_determination: 0.2744\n",
            "Epoch 180/200\n",
            "33/33 [==============================] - 1s 19ms/step - loss: 9.0931e-04 - coeff_determination: 0.9838 - val_loss: 0.0049 - val_coeff_determination: -9.1070\n",
            "Epoch 181/200\n",
            "33/33 [==============================] - 1s 19ms/step - loss: 0.0011 - coeff_determination: 0.9793 - val_loss: 3.4237e-04 - val_coeff_determination: 0.4499\n",
            "Epoch 182/200\n",
            "33/33 [==============================] - 1s 19ms/step - loss: 7.6166e-04 - coeff_determination: 0.9866 - val_loss: 2.3869e-04 - val_coeff_determination: 0.6730\n",
            "Epoch 183/200\n",
            "33/33 [==============================] - 1s 19ms/step - loss: 8.9246e-04 - coeff_determination: 0.9840 - val_loss: 0.0013 - val_coeff_determination: -1.4223\n",
            "Epoch 184/200\n",
            "33/33 [==============================] - 1s 19ms/step - loss: 9.3419e-04 - coeff_determination: 0.9837 - val_loss: 0.0016 - val_coeff_determination: -2.2211\n",
            "Epoch 185/200\n",
            "33/33 [==============================] - 1s 20ms/step - loss: 9.1741e-04 - coeff_determination: 0.9824 - val_loss: 4.1041e-04 - val_coeff_determination: 0.3648\n",
            "Epoch 186/200\n",
            "33/33 [==============================] - 1s 20ms/step - loss: 7.4973e-04 - coeff_determination: 0.9865 - val_loss: 6.2444e-04 - val_coeff_determination: -0.1464\n",
            "Epoch 187/200\n",
            "33/33 [==============================] - 1s 20ms/step - loss: 7.2095e-04 - coeff_determination: 0.9874 - val_loss: 5.6798e-04 - val_coeff_determination: 0.0039\n",
            "Epoch 188/200\n",
            "33/33 [==============================] - 1s 19ms/step - loss: 6.6685e-04 - coeff_determination: 0.9871 - val_loss: 2.3648e-04 - val_coeff_determination: 0.6626\n",
            "Epoch 189/200\n",
            "33/33 [==============================] - 1s 19ms/step - loss: 7.9247e-04 - coeff_determination: 0.9855 - val_loss: 2.5614e-04 - val_coeff_determination: 0.6459\n",
            "Epoch 190/200\n",
            "33/33 [==============================] - 1s 19ms/step - loss: 9.2738e-04 - coeff_determination: 0.9832 - val_loss: 9.9079e-04 - val_coeff_determination: -0.8648\n",
            "Epoch 191/200\n",
            "33/33 [==============================] - 1s 20ms/step - loss: 8.9457e-04 - coeff_determination: 0.9841 - val_loss: 5.9038e-04 - val_coeff_determination: -0.0415\n",
            "Epoch 192/200\n",
            "33/33 [==============================] - 1s 20ms/step - loss: 7.3946e-04 - coeff_determination: 0.9856 - val_loss: 0.0016 - val_coeff_determination: -2.1786\n",
            "Epoch 193/200\n",
            "33/33 [==============================] - 1s 20ms/step - loss: 9.3189e-04 - coeff_determination: 0.9829 - val_loss: 2.4144e-04 - val_coeff_determination: 0.6550\n",
            "Epoch 194/200\n",
            "33/33 [==============================] - 1s 20ms/step - loss: 7.3433e-04 - coeff_determination: 0.9864 - val_loss: 2.4807e-04 - val_coeff_determination: 0.6609\n",
            "Epoch 195/200\n",
            "33/33 [==============================] - 1s 20ms/step - loss: 9.0040e-04 - coeff_determination: 0.9826 - val_loss: 0.0018 - val_coeff_determination: -2.4465\n",
            "Epoch 196/200\n",
            "33/33 [==============================] - 1s 19ms/step - loss: 8.3142e-04 - coeff_determination: 0.9860 - val_loss: 6.7089e-04 - val_coeff_determination: -0.2354\n",
            "Epoch 197/200\n",
            "33/33 [==============================] - 1s 20ms/step - loss: 9.4676e-04 - coeff_determination: 0.9830 - val_loss: 0.0015 - val_coeff_determination: -2.0831\n",
            "Epoch 198/200\n",
            "33/33 [==============================] - 1s 20ms/step - loss: 7.7072e-04 - coeff_determination: 0.9867 - val_loss: 2.4673e-04 - val_coeff_determination: 0.6666\n",
            "Epoch 199/200\n",
            "33/33 [==============================] - 1s 19ms/step - loss: 9.1101e-04 - coeff_determination: 0.9838 - val_loss: 0.0016 - val_coeff_determination: -2.0684\n",
            "Epoch 200/200\n",
            "33/33 [==============================] - 1s 20ms/step - loss: 7.9000e-04 - coeff_determination: 0.9854 - val_loss: 2.7593e-04 - val_coeff_determination: 0.5907\n"
          ],
          "name": "stdout"
        }
      ]
    },
    {
      "cell_type": "markdown",
      "metadata": {
        "id": "VRYX_QycoL_u"
      },
      "source": [
        "Reading test data and making predictions"
      ]
    },
    {
      "cell_type": "code",
      "metadata": {
        "id": "3GQXxFCfk_wl"
      },
      "source": [
        "dataset_test = pd.read_csv('Google_Stock_Price_Test.csv')\n",
        "real_stock_price = dataset_test.iloc[:, 1:2].values\n",
        "dataset_total = pd.concat((dataset_train['Open'], dataset_test['Open']), axis = 0)\n",
        "inputs = dataset_total[len(dataset_total) - len(dataset_test) - 60:].values\n",
        "inputs = inputs.reshape(-1,1)\n",
        "inputs = sc.transform(inputs)\n",
        "X_test = []\n",
        "for i in range(60, 80):\n",
        "    X_test.append(inputs[i-60:i, 0])\n",
        "\n",
        "X_test = np.array(X_test)\n",
        "X_test = np.reshape(X_test, (X_test.shape[0], X_test.shape[1], 1))\n",
        "\n",
        "\n",
        "predicted_stock_price = regressor.predict(X_test)\n",
        "predicted_stock_price = sc.inverse_transform(predicted_stock_price)\n"
      ],
      "execution_count": 12,
      "outputs": []
    },
    {
      "cell_type": "code",
      "metadata": {
        "colab": {
          "base_uri": "https://localhost:8080/",
          "height": 298
        },
        "id": "INGnj1QnLEVf",
        "outputId": "7f694fcd-b88d-423b-8ce8-aff66a5d254b"
      },
      "source": [
        "r2score = hist.history['loss']\n",
        "val_r2score = hist.history['val_loss']\n",
        "epochs = range(1, len(r2score) + 1)\n",
        "\n",
        "# # Train and validation accuracy\n",
        "plt.plot(epochs, r2score, 'b', label='Training loss')\n",
        "plt.plot(epochs, val_r2score, 'r', label='Validation loss')\n",
        "plt.title('Training and Validation loss')\n",
        "plt.legend()"
      ],
      "execution_count": 13,
      "outputs": [
        {
          "output_type": "execute_result",
          "data": {
            "text/plain": [
              "<matplotlib.legend.Legend at 0x7f191c5ba750>"
            ]
          },
          "metadata": {
            "tags": []
          },
          "execution_count": 13
        },
        {
          "output_type": "display_data",
          "data": {
            "image/png": "[encoded data removed]",
            "text/plain": [
              "<Figure size 432x288 with 1 Axes>"
            ]
          },
          "metadata": {
            "tags": [],
            "needs_background": "light"
          }
        }
      ]
    },
    {
      "cell_type": "code",
      "metadata": {
        "colab": {
          "base_uri": "https://localhost:8080/",
          "height": 295
        },
        "id": "35_15HE6lJif",
        "outputId": "f8f71630-aa79-4eda-cb7f-9a0e9baf527f"
      },
      "source": [
        "plt.plot(real_stock_price, color = 'red', label = 'Real Google Stock Price')\n",
        "plt.plot(predicted_stock_price, color = 'blue', label = 'Predicted Google Stock Price')\n",
        "plt.title('Google Stock Price Prediction for January')\n",
        "plt.xlabel('Time')\n",
        "plt.ylabel('Google Stock Price')\n",
        "plt.legend()\n",
        "plt.show()"
      ],
      "execution_count": 14,
      "outputs": [
        {
          "output_type": "display_data",
          "data": {
            "image/png": "[encoded data removed]",
            "text/plain": [
              "<Figure size 432x288 with 1 Axes>"
            ]
          },
          "metadata": {
            "tags": [],
            "needs_background": "light"
          }
        }
      ]
    },
    {
      "cell_type": "code",
      "metadata": {
        "colab": {
          "base_uri": "https://localhost:8080/"
        },
        "id": "3xW5pcillMC-",
        "outputId": "eecf7914-b1ef-4e40-a7ba-ceb1178eb4f8"
      },
      "source": [
        "import math\n",
        "from sklearn.metrics import r2_score\n",
        "\n",
        "r2_score(real_stock_price,predicted_stock_price)\n"
      ],
      "execution_count": 15,
      "outputs": [
        {
          "output_type": "execute_result",
          "data": {
            "text/plain": [
              "0.23206529625782624"
            ]
          },
          "metadata": {
            "tags": []
          },
          "execution_count": 15
        }
      ]
    },
    {
      "cell_type": "code",
      "metadata": {
        "id": "xQ7dbPhuuN2S"
      },
      "source": [
        ""
      ],
      "execution_count": 15,
      "outputs": []
    }
  ]
}