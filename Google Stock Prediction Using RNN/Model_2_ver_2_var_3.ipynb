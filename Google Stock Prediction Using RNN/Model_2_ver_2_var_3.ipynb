{
  "nbformat": 4,
  "nbformat_minor": 0,
  "metadata": {
    "accelerator": "GPU",
    "colab": {
      "name": "Model_2_ver_2_var_3.ipynb",
      "provenance": [],
      "collapsed_sections": []
    },
    "kernelspec": {
      "display_name": "Python 3",
      "language": "python",
      "name": "python3"
    },
    "language_info": {
      "codemirror_mode": {
        "name": "ipython",
        "version": 3
      },
      "file_extension": ".py",
      "mimetype": "text/x-python",
      "name": "python",
      "nbconvert_exporter": "python",
      "pygments_lexer": "ipython3",
      "version": "3.8.5"
    }
  },
  "cells": [
    {
      "cell_type": "markdown",
      "metadata": {
        "id": "NUAMLHjscFgZ"
      },
      "source": [
        "Google Stock Price Prediction using RNN (LSTM)\n",
        "\n",
        "Note: Different implementations were tested to find the effect of different parameters on the prediction results of which are included in the report along with the changes required i.e(Number of Epochs, Compiler type, model version, model units etc). To reconstruct the results of the report, kindly change the variables and select/uncomment the model as presented in the report respectively."
      ]
    },
    {
      "cell_type": "code",
      "metadata": {
        "id": "xG7dqwN_kYc2"
      },
      "source": [
        "#Importing Libraries\n",
        "import numpy as np\n",
        "import matplotlib.pyplot as plt\n",
        "import pandas as pd\n",
        "from tensorflow.keras.models import Sequential # allow us to create a neural network object representing a sequence of layers\n",
        "from tensorflow.keras.layers import Dense #to add the output layer \n",
        "from tensorflow.keras.layers import LSTM # to add LSTM layer\n",
        "from tensorflow.keras.layers import Dropout #to add some dropout regularization\n",
        "from tensorflow.keras.callbacks import ModelCheckpoint\n",
        "from tensorflow.keras.models import load_model"
      ],
      "execution_count": 1,
      "outputs": []
    },
    {
      "cell_type": "code",
      "metadata": {
        "id": "DQpYa6mLorrw"
      },
      "source": [
        ""
      ],
      "execution_count": 1,
      "outputs": []
    },
    {
      "cell_type": "code",
      "metadata": {
        "id": "hk8GdvbLkiA2"
      },
      "source": [
        "#Loading the Training File\n",
        "dataset_train = pd.read_csv('Google_Stock_Price_Train.csv')\n",
        "training_set = dataset_train.iloc[:, 1:2].values"
      ],
      "execution_count": 2,
      "outputs": []
    },
    {
      "cell_type": "code",
      "metadata": {
        "id": "-Zjv58Kkkr8G"
      },
      "source": [
        "#Scaling the training data\n",
        "from sklearn.preprocessing import MinMaxScaler\n",
        "sc = MinMaxScaler(feature_range = (0, 1))\n",
        "training_set_scaled = sc.fit_transform(training_set)"
      ],
      "execution_count": 3,
      "outputs": []
    },
    {
      "cell_type": "code",
      "metadata": {
        "id": "V6SwWZ35ksb2"
      },
      "source": [
        "#splitting data into training and validation\n",
        "X_train = []\n",
        "y_train = []\n",
        "X_val = []\n",
        "y_val = []\n",
        "\n",
        "for i in range(60, 1100):\n",
        "    X_train.append(training_set_scaled[i-60:i, 0])\n",
        "    y_train.append(training_set_scaled[i, 0])\n",
        "X_train, y_train = np.array(X_train), np.array(y_train)\n",
        "\n",
        "for i in range(1100, 1258):\n",
        "    X_val.append(training_set_scaled[i-60:i, 0])\n",
        "    y_val.append(training_set_scaled[i, 0])\n",
        "X_train, y_train = np.array(X_train), np.array(y_train)\n",
        "X_val, y_val = np.array(X_val), np.array(y_val)"
      ],
      "execution_count": 4,
      "outputs": []
    },
    {
      "cell_type": "code",
      "metadata": {
        "id": "yAfILPa9kuxF"
      },
      "source": [
        "#reshaping the data\n",
        "X_train = np.reshape(X_train, (X_train.shape[0], X_train.shape[1], 1))\n",
        "X_val = np.reshape(X_val, (X_val.shape[0], X_val.shape[1], 1))"
      ],
      "execution_count": 5,
      "outputs": []
    },
    {
      "cell_type": "markdown",
      "metadata": {
        "id": "9UDcZEJhnzst"
      },
      "source": [
        "**Model 1**"
      ]
    },
    {
      "cell_type": "code",
      "metadata": {
        "id": "yR3VZnc1k2w9"
      },
      "source": [
        "#regressor = Sequential()\n",
        "#regressor.add(LSTM(units = 50, return_sequences = True, input_shape = (X_train.shape[1], 1)))  \n",
        "#regressor.add(Dropout(0.2))\n",
        "#regressor.add(LSTM(units = 50, return_sequences = True))\n",
        "#regressor.add(Dropout(0.2))\n",
        "#regressor.add(LSTM(units = 50, return_sequences = True))\n",
        "#regressor.add(Dropout(0.2))\n",
        "#regressor.add(LSTM(units = 50))\n",
        "#regressor.add(Dropout(0.2))"
      ],
      "execution_count": 6,
      "outputs": []
    },
    {
      "cell_type": "code",
      "metadata": {
        "id": "ra3Zpjopk7X4"
      },
      "source": [
        "#regressor.add(Dense(units = 1))"
      ],
      "execution_count": 7,
      "outputs": []
    },
    {
      "cell_type": "markdown",
      "metadata": {
        "id": "uPFbig0_CEyh"
      },
      "source": [
        "**Model 2**"
      ]
    },
    {
      "cell_type": "code",
      "metadata": {
        "id": "IBM0tJJwrCFH"
      },
      "source": [
        "#version 1\n",
        "#regressor = Sequential()\n",
        "#regressor.add(LSTM(units=100,return_sequences=True,input_shape=(X_train.shape[1],1)))\n",
        "#regressor.add(Dropout(0.2))\n",
        "\n",
        "#regressor.add(LSTM(units=100,return_sequences=True))\n",
        "#regressor.add(Dropout(0.2))\n",
        "\n",
        "#regressor.add(LSTM(units=100,return_sequences=True))\n",
        "#regressor.add(Dropout(0.2))\n",
        "\n",
        "#regressor.add(LSTM(units=100,return_sequences=True))\n",
        "#regressor.add(Dropout(0.2))\n",
        "\n",
        "#regressor.add(LSTM(units=100))\n",
        "#regressor.add(Dropout(0.2))\n",
        "\n",
        "#regressor.add(Dense(units=1))"
      ],
      "execution_count": 8,
      "outputs": []
    },
    {
      "cell_type": "code",
      "metadata": {
        "id": "CAqHTpc27zic"
      },
      "source": [
        "#version 2\n",
        "regressor = Sequential()\n",
        "regressor.add(LSTM(units=100,return_sequences=True,input_shape=(X_train.shape[1],1)))\n",
        "regressor.add(Dropout(0.2))\n",
        "\n",
        "regressor.add(LSTM(units=100,return_sequences=True))\n",
        "regressor.add(Dropout(0.2))\n",
        "\n",
        "regressor.add(LSTM(units=100,return_sequences=True))\n",
        "regressor.add(Dropout(0.2))\n",
        "\n",
        "regressor.add(LSTM(units=50,return_sequences=True))\n",
        "regressor.add(Dropout(0.2))\n",
        "\n",
        "regressor.add(LSTM(units=50))\n",
        "regressor.add(Dropout(0.2))\n",
        "\n",
        "regressor.add(Dense(units=1))"
      ],
      "execution_count": 9,
      "outputs": []
    },
    {
      "cell_type": "code",
      "metadata": {
        "id": "yCQyEXvVk75O"
      },
      "source": [
        "from tensorflow.keras import backend as K\n",
        "\n",
        "def coeff_determination(y_true, y_pred):\n",
        "    from tensorflow.keras import backend as K\n",
        "    SS_res =  K.sum(K.square( y_true-y_pred ))\n",
        "    SS_tot = K.sum(K.square( y_true - K.mean(y_true) ) )\n",
        "    return ( 1 - SS_res/(SS_tot + K.epsilon()) )\n",
        "\n",
        "regressor.compile(optimizer = 'Adam', loss = 'mean_squared_error', metrics=[coeff_determination])"
      ],
      "execution_count": 10,
      "outputs": []
    },
    {
      "cell_type": "code",
      "metadata": {
        "colab": {
          "base_uri": "https://localhost:8080/"
        },
        "id": "yHx5YTDQk9_f",
        "outputId": "a307c4d3-d4a3-49cc-c53d-cf8e42870f14"
      },
      "source": [
        "\n",
        "model_checkpoint_callback = ModelCheckpoint(\n",
        "    filepath='stock.h5',\n",
        "    save_weights_only=False,\n",
        "    monitor='coeff_determination',\n",
        "    mode='max',\n",
        "    save_best_only=True)\n",
        "hist = regressor.fit(X_train, y_train, epochs = 200, batch_size = 32, validation_data = (X_val,y_val))"
      ],
      "execution_count": 11,
      "outputs": [
        {
          "output_type": "stream",
          "text": [
            "Epoch 1/200\n",
            "33/33 [==============================] - 10s 70ms/step - loss: 0.0677 - coeff_determination: -0.1130 - val_loss: 0.0124 - val_coeff_determination: -23.2293\n",
            "Epoch 2/200\n",
            "33/33 [==============================] - 1s 18ms/step - loss: 0.0060 - coeff_determination: 0.8841 - val_loss: 0.0023 - val_coeff_determination: -1.4936\n",
            "Epoch 3/200\n",
            "33/33 [==============================] - 1s 18ms/step - loss: 0.0053 - coeff_determination: 0.9082 - val_loss: 0.0039 - val_coeff_determination: -4.6015\n",
            "Epoch 4/200\n",
            "33/33 [==============================] - 1s 18ms/step - loss: 0.0050 - coeff_determination: 0.9101 - val_loss: 0.0074 - val_coeff_determination: -10.9468\n",
            "Epoch 5/200\n",
            "33/33 [==============================] - 1s 18ms/step - loss: 0.0048 - coeff_determination: 0.9112 - val_loss: 0.0019 - val_coeff_determination: -0.7072\n",
            "Epoch 6/200\n",
            "33/33 [==============================] - 1s 18ms/step - loss: 0.0044 - coeff_determination: 0.9188 - val_loss: 0.0018 - val_coeff_determination: -0.6233\n",
            "Epoch 7/200\n",
            "33/33 [==============================] - 1s 18ms/step - loss: 0.0047 - coeff_determination: 0.9091 - val_loss: 0.0062 - val_coeff_determination: -8.6908\n",
            "Epoch 8/200\n",
            "33/33 [==============================] - 1s 18ms/step - loss: 0.0044 - coeff_determination: 0.9135 - val_loss: 0.0019 - val_coeff_determination: -1.7352\n",
            "Epoch 9/200\n",
            "33/33 [==============================] - 1s 17ms/step - loss: 0.0043 - coeff_determination: 0.9143 - val_loss: 0.0041 - val_coeff_determination: -4.5008\n",
            "Epoch 10/200\n",
            "33/33 [==============================] - 1s 18ms/step - loss: 0.0038 - coeff_determination: 0.9328 - val_loss: 0.0044 - val_coeff_determination: -5.5329\n",
            "Epoch 11/200\n",
            "33/33 [==============================] - 1s 18ms/step - loss: 0.0035 - coeff_determination: 0.9374 - val_loss: 0.0115 - val_coeff_determination: -19.4827\n",
            "Epoch 12/200\n",
            "33/33 [==============================] - 1s 18ms/step - loss: 0.0039 - coeff_determination: 0.9292 - val_loss: 0.0040 - val_coeff_determination: -5.0063\n",
            "Epoch 13/200\n",
            "33/33 [==============================] - 1s 18ms/step - loss: 0.0044 - coeff_determination: 0.9191 - val_loss: 0.0049 - val_coeff_determination: -6.6062\n",
            "Epoch 14/200\n",
            "33/33 [==============================] - 1s 18ms/step - loss: 0.0035 - coeff_determination: 0.9358 - val_loss: 0.0038 - val_coeff_determination: -4.5982\n",
            "Epoch 15/200\n",
            "33/33 [==============================] - 1s 17ms/step - loss: 0.0045 - coeff_determination: 0.9164 - val_loss: 0.0129 - val_coeff_determination: -23.1642\n",
            "Epoch 16/200\n",
            "33/33 [==============================] - 1s 18ms/step - loss: 0.0040 - coeff_determination: 0.9224 - val_loss: 0.0013 - val_coeff_determination: -0.3028\n",
            "Epoch 17/200\n",
            "33/33 [==============================] - 1s 17ms/step - loss: 0.0032 - coeff_determination: 0.9375 - val_loss: 0.0024 - val_coeff_determination: -2.0280\n",
            "Epoch 18/200\n",
            "33/33 [==============================] - 1s 17ms/step - loss: 0.0032 - coeff_determination: 0.9399 - val_loss: 0.0041 - val_coeff_determination: -5.3895\n",
            "Epoch 19/200\n",
            "33/33 [==============================] - 1s 18ms/step - loss: 0.0033 - coeff_determination: 0.9373 - val_loss: 0.0011 - val_coeff_determination: -0.2989\n",
            "Epoch 20/200\n",
            "33/33 [==============================] - 1s 18ms/step - loss: 0.0032 - coeff_determination: 0.9397 - val_loss: 0.0047 - val_coeff_determination: -7.0320\n",
            "Epoch 21/200\n",
            "33/33 [==============================] - 1s 17ms/step - loss: 0.0037 - coeff_determination: 0.9311 - val_loss: 0.0051 - val_coeff_determination: -7.7515\n",
            "Epoch 22/200\n",
            "33/33 [==============================] - 1s 18ms/step - loss: 0.0031 - coeff_determination: 0.9455 - val_loss: 0.0043 - val_coeff_determination: -6.2561\n",
            "Epoch 23/200\n",
            "33/33 [==============================] - 1s 18ms/step - loss: 0.0027 - coeff_determination: 0.9506 - val_loss: 0.0010 - val_coeff_determination: -0.2343\n",
            "Epoch 24/200\n",
            "33/33 [==============================] - 1s 18ms/step - loss: 0.0026 - coeff_determination: 0.9525 - val_loss: 0.0045 - val_coeff_determination: -6.6479\n",
            "Epoch 25/200\n",
            "33/33 [==============================] - 1s 17ms/step - loss: 0.0030 - coeff_determination: 0.9463 - val_loss: 0.0013 - val_coeff_determination: -0.5990\n",
            "Epoch 26/200\n",
            "33/33 [==============================] - 1s 19ms/step - loss: 0.0026 - coeff_determination: 0.9519 - val_loss: 0.0022 - val_coeff_determination: -2.1887\n",
            "Epoch 27/200\n",
            "33/33 [==============================] - 1s 18ms/step - loss: 0.0029 - coeff_determination: 0.9474 - val_loss: 0.0010 - val_coeff_determination: -0.1035\n",
            "Epoch 28/200\n",
            "33/33 [==============================] - 1s 17ms/step - loss: 0.0033 - coeff_determination: 0.9439 - val_loss: 0.0048 - val_coeff_determination: -7.4343\n",
            "Epoch 29/200\n",
            "33/33 [==============================] - 1s 17ms/step - loss: 0.0029 - coeff_determination: 0.9500 - val_loss: 0.0035 - val_coeff_determination: -4.7982\n",
            "Epoch 30/200\n",
            "33/33 [==============================] - 1s 18ms/step - loss: 0.0026 - coeff_determination: 0.9523 - val_loss: 0.0031 - val_coeff_determination: -4.0941\n",
            "Epoch 31/200\n",
            "33/33 [==============================] - 1s 17ms/step - loss: 0.0029 - coeff_determination: 0.9460 - val_loss: 0.0015 - val_coeff_determination: -1.4869\n",
            "Epoch 32/200\n",
            "33/33 [==============================] - 1s 18ms/step - loss: 0.0028 - coeff_determination: 0.9474 - val_loss: 0.0020 - val_coeff_determination: -1.9712\n",
            "Epoch 33/200\n",
            "33/33 [==============================] - 1s 17ms/step - loss: 0.0023 - coeff_determination: 0.9576 - val_loss: 9.1354e-04 - val_coeff_determination: -0.1023\n",
            "Epoch 34/200\n",
            "33/33 [==============================] - 1s 18ms/step - loss: 0.0029 - coeff_determination: 0.9464 - val_loss: 0.0023 - val_coeff_determination: -2.4800\n",
            "Epoch 35/200\n",
            "33/33 [==============================] - 1s 17ms/step - loss: 0.0025 - coeff_determination: 0.9583 - val_loss: 0.0038 - val_coeff_determination: -5.4146\n",
            "Epoch 36/200\n",
            "33/33 [==============================] - 1s 17ms/step - loss: 0.0024 - coeff_determination: 0.9554 - val_loss: 0.0017 - val_coeff_determination: -1.4511\n",
            "Epoch 37/200\n",
            "33/33 [==============================] - 1s 18ms/step - loss: 0.0024 - coeff_determination: 0.9556 - val_loss: 0.0076 - val_coeff_determination: -13.3320\n",
            "Epoch 38/200\n",
            "33/33 [==============================] - 1s 18ms/step - loss: 0.0026 - coeff_determination: 0.9405 - val_loss: 9.2819e-04 - val_coeff_determination: -0.0807\n",
            "Epoch 39/200\n",
            "33/33 [==============================] - 1s 18ms/step - loss: 0.0026 - coeff_determination: 0.9495 - val_loss: 0.0027 - val_coeff_determination: -3.6183\n",
            "Epoch 40/200\n",
            "33/33 [==============================] - 1s 17ms/step - loss: 0.0028 - coeff_determination: 0.9473 - val_loss: 8.2572e-04 - val_coeff_determination: -0.1173\n",
            "Epoch 41/200\n",
            "33/33 [==============================] - 1s 18ms/step - loss: 0.0028 - coeff_determination: 0.9472 - val_loss: 7.6721e-04 - val_coeff_determination: 0.0775\n",
            "Epoch 42/200\n",
            "33/33 [==============================] - 1s 18ms/step - loss: 0.0020 - coeff_determination: 0.9646 - val_loss: 9.7360e-04 - val_coeff_determination: -0.5459\n",
            "Epoch 43/200\n",
            "33/33 [==============================] - 1s 18ms/step - loss: 0.0027 - coeff_determination: 0.9533 - val_loss: 0.0017 - val_coeff_determination: -1.5708\n",
            "Epoch 44/200\n",
            "33/33 [==============================] - 1s 18ms/step - loss: 0.0019 - coeff_determination: 0.9667 - val_loss: 7.1566e-04 - val_coeff_determination: 0.0665\n",
            "Epoch 45/200\n",
            "33/33 [==============================] - 1s 18ms/step - loss: 0.0023 - coeff_determination: 0.9563 - val_loss: 8.2215e-04 - val_coeff_determination: -0.0075\n",
            "Epoch 46/200\n",
            "33/33 [==============================] - 1s 18ms/step - loss: 0.0026 - coeff_determination: 0.9525 - val_loss: 0.0022 - val_coeff_determination: -2.5540\n",
            "Epoch 47/200\n",
            "33/33 [==============================] - 1s 18ms/step - loss: 0.0021 - coeff_determination: 0.9594 - val_loss: 0.0010 - val_coeff_determination: -0.3618\n",
            "Epoch 48/200\n",
            "33/33 [==============================] - 1s 18ms/step - loss: 0.0018 - coeff_determination: 0.9661 - val_loss: 8.8396e-04 - val_coeff_determination: -0.1073\n",
            "Epoch 49/200\n",
            "33/33 [==============================] - 1s 18ms/step - loss: 0.0022 - coeff_determination: 0.9591 - val_loss: 6.7979e-04 - val_coeff_determination: 0.1219\n",
            "Epoch 50/200\n",
            "33/33 [==============================] - 1s 18ms/step - loss: 0.0019 - coeff_determination: 0.9631 - val_loss: 9.6443e-04 - val_coeff_determination: -0.7203\n",
            "Epoch 51/200\n",
            "33/33 [==============================] - 1s 18ms/step - loss: 0.0017 - coeff_determination: 0.9685 - val_loss: 0.0032 - val_coeff_determination: -4.8828\n",
            "Epoch 52/200\n",
            "33/33 [==============================] - 1s 18ms/step - loss: 0.0021 - coeff_determination: 0.9613 - val_loss: 7.2071e-04 - val_coeff_determination: 0.1203\n",
            "Epoch 53/200\n",
            "33/33 [==============================] - 1s 17ms/step - loss: 0.0019 - coeff_determination: 0.9647 - val_loss: 8.9120e-04 - val_coeff_determination: -0.1931\n",
            "Epoch 54/200\n",
            "33/33 [==============================] - 1s 18ms/step - loss: 0.0018 - coeff_determination: 0.9654 - val_loss: 8.7594e-04 - val_coeff_determination: -0.2411\n",
            "Epoch 55/200\n",
            "33/33 [==============================] - 1s 18ms/step - loss: 0.0017 - coeff_determination: 0.9683 - val_loss: 5.7174e-04 - val_coeff_determination: 0.2273\n",
            "Epoch 56/200\n",
            "33/33 [==============================] - 1s 18ms/step - loss: 0.0018 - coeff_determination: 0.9666 - val_loss: 0.0017 - val_coeff_determination: -1.8133\n",
            "Epoch 57/200\n",
            "33/33 [==============================] - 1s 18ms/step - loss: 0.0018 - coeff_determination: 0.9668 - val_loss: 6.8455e-04 - val_coeff_determination: 0.1321\n",
            "Epoch 58/200\n",
            "33/33 [==============================] - 1s 18ms/step - loss: 0.0016 - coeff_determination: 0.9698 - val_loss: 0.0054 - val_coeff_determination: -9.1731\n",
            "Epoch 59/200\n",
            "33/33 [==============================] - 1s 18ms/step - loss: 0.0020 - coeff_determination: 0.9638 - val_loss: 7.0178e-04 - val_coeff_determination: 0.0932\n",
            "Epoch 60/200\n",
            "33/33 [==============================] - 1s 18ms/step - loss: 0.0017 - coeff_determination: 0.9700 - val_loss: 6.3619e-04 - val_coeff_determination: -0.0417\n",
            "Epoch 61/200\n",
            "33/33 [==============================] - 1s 18ms/step - loss: 0.0017 - coeff_determination: 0.9679 - val_loss: 0.0020 - val_coeff_determination: -2.6161\n",
            "Epoch 62/200\n",
            "33/33 [==============================] - 1s 18ms/step - loss: 0.0019 - coeff_determination: 0.9635 - val_loss: 4.9181e-04 - val_coeff_determination: 0.3997\n",
            "Epoch 63/200\n",
            "33/33 [==============================] - 1s 18ms/step - loss: 0.0014 - coeff_determination: 0.9741 - val_loss: 0.0040 - val_coeff_determination: -6.6328\n",
            "Epoch 64/200\n",
            "33/33 [==============================] - 1s 18ms/step - loss: 0.0024 - coeff_determination: 0.9566 - val_loss: 0.0069 - val_coeff_determination: -12.4411\n",
            "Epoch 65/200\n",
            "33/33 [==============================] - 1s 18ms/step - loss: 0.0019 - coeff_determination: 0.9682 - val_loss: 9.7130e-04 - val_coeff_determination: -0.5397\n",
            "Epoch 66/200\n",
            "33/33 [==============================] - 1s 18ms/step - loss: 0.0016 - coeff_determination: 0.9699 - val_loss: 0.0057 - val_coeff_determination: -10.4516\n",
            "Epoch 67/200\n",
            "33/33 [==============================] - 1s 18ms/step - loss: 0.0018 - coeff_determination: 0.9663 - val_loss: 0.0013 - val_coeff_determination: -1.1698\n",
            "Epoch 68/200\n",
            "33/33 [==============================] - 1s 18ms/step - loss: 0.0014 - coeff_determination: 0.9745 - val_loss: 4.9594e-04 - val_coeff_determination: 0.2251\n",
            "Epoch 69/200\n",
            "33/33 [==============================] - 1s 18ms/step - loss: 0.0016 - coeff_determination: 0.9705 - val_loss: 4.3783e-04 - val_coeff_determination: 0.4838\n",
            "Epoch 70/200\n",
            "33/33 [==============================] - 1s 18ms/step - loss: 0.0017 - coeff_determination: 0.9683 - val_loss: 0.0021 - val_coeff_determination: -2.7970\n",
            "Epoch 71/200\n",
            "33/33 [==============================] - 1s 19ms/step - loss: 0.0015 - coeff_determination: 0.9710 - val_loss: 7.9596e-04 - val_coeff_determination: -0.2015\n",
            "Epoch 72/200\n",
            "33/33 [==============================] - 1s 19ms/step - loss: 0.0020 - coeff_determination: 0.9655 - val_loss: 0.0014 - val_coeff_determination: -1.4974\n",
            "Epoch 73/200\n",
            "33/33 [==============================] - 1s 18ms/step - loss: 0.0017 - coeff_determination: 0.9708 - val_loss: 5.7431e-04 - val_coeff_determination: 0.2642\n",
            "Epoch 74/200\n",
            "33/33 [==============================] - 1s 18ms/step - loss: 0.0015 - coeff_determination: 0.9712 - val_loss: 0.0026 - val_coeff_determination: -3.9246\n",
            "Epoch 75/200\n",
            "33/33 [==============================] - 1s 18ms/step - loss: 0.0018 - coeff_determination: 0.9673 - val_loss: 8.1789e-04 - val_coeff_determination: -0.3412\n",
            "Epoch 76/200\n",
            "33/33 [==============================] - 1s 18ms/step - loss: 0.0014 - coeff_determination: 0.9752 - val_loss: 6.9463e-04 - val_coeff_determination: -0.0934\n",
            "Epoch 77/200\n",
            "33/33 [==============================] - 1s 18ms/step - loss: 0.0014 - coeff_determination: 0.9734 - val_loss: 0.0014 - val_coeff_determination: -1.6399\n",
            "Epoch 78/200\n",
            "33/33 [==============================] - 1s 18ms/step - loss: 0.0014 - coeff_determination: 0.9734 - val_loss: 0.0021 - val_coeff_determination: -3.1217\n",
            "Epoch 79/200\n",
            "33/33 [==============================] - 1s 18ms/step - loss: 0.0014 - coeff_determination: 0.9744 - val_loss: 7.3286e-04 - val_coeff_determination: -0.2283\n",
            "Epoch 80/200\n",
            "33/33 [==============================] - 1s 18ms/step - loss: 0.0012 - coeff_determination: 0.9767 - val_loss: 3.7280e-04 - val_coeff_determination: 0.4637\n",
            "Epoch 81/200\n",
            "33/33 [==============================] - 1s 19ms/step - loss: 0.0013 - coeff_determination: 0.9765 - val_loss: 0.0014 - val_coeff_determination: -1.4781\n",
            "Epoch 82/200\n",
            "33/33 [==============================] - 1s 18ms/step - loss: 0.0017 - coeff_determination: 0.9705 - val_loss: 0.0018 - val_coeff_determination: -2.6316\n",
            "Epoch 83/200\n",
            "33/33 [==============================] - 1s 18ms/step - loss: 0.0017 - coeff_determination: 0.9720 - val_loss: 7.0522e-04 - val_coeff_determination: -0.1894\n",
            "Epoch 84/200\n",
            "33/33 [==============================] - 1s 18ms/step - loss: 0.0012 - coeff_determination: 0.9788 - val_loss: 0.0018 - val_coeff_determination: -2.6201\n",
            "Epoch 85/200\n",
            "33/33 [==============================] - 1s 19ms/step - loss: 0.0013 - coeff_determination: 0.9766 - val_loss: 6.9246e-04 - val_coeff_determination: -0.1264\n",
            "Epoch 86/200\n",
            "33/33 [==============================] - 1s 18ms/step - loss: 0.0015 - coeff_determination: 0.9729 - val_loss: 3.2025e-04 - val_coeff_determination: 0.5746\n",
            "Epoch 87/200\n",
            "33/33 [==============================] - 1s 18ms/step - loss: 0.0012 - coeff_determination: 0.9783 - val_loss: 6.9994e-04 - val_coeff_determination: -0.1797\n",
            "Epoch 88/200\n",
            "33/33 [==============================] - 1s 18ms/step - loss: 0.0013 - coeff_determination: 0.9767 - val_loss: 0.0010 - val_coeff_determination: -0.7637\n",
            "Epoch 89/200\n",
            "33/33 [==============================] - 1s 17ms/step - loss: 0.0012 - coeff_determination: 0.9795 - val_loss: 3.0678e-04 - val_coeff_determination: 0.6178\n",
            "Epoch 90/200\n",
            "33/33 [==============================] - 1s 18ms/step - loss: 0.0016 - coeff_determination: 0.9697 - val_loss: 0.0019 - val_coeff_determination: -2.5854\n",
            "Epoch 91/200\n",
            "33/33 [==============================] - 1s 18ms/step - loss: 0.0016 - coeff_determination: 0.9711 - val_loss: 6.6230e-04 - val_coeff_determination: -0.2683\n",
            "Epoch 92/200\n",
            "33/33 [==============================] - 1s 18ms/step - loss: 0.0013 - coeff_determination: 0.9743 - val_loss: 2.9748e-04 - val_coeff_determination: 0.6185\n",
            "Epoch 93/200\n",
            "33/33 [==============================] - 1s 18ms/step - loss: 0.0014 - coeff_determination: 0.9751 - val_loss: 4.5378e-04 - val_coeff_determination: 0.3314\n",
            "Epoch 94/200\n",
            "33/33 [==============================] - 1s 18ms/step - loss: 0.0014 - coeff_determination: 0.9755 - val_loss: 3.4156e-04 - val_coeff_determination: 0.4452\n",
            "Epoch 95/200\n",
            "33/33 [==============================] - 1s 18ms/step - loss: 0.0016 - coeff_determination: 0.9718 - val_loss: 3.0781e-04 - val_coeff_determination: 0.5994\n",
            "Epoch 96/200\n",
            "33/33 [==============================] - 1s 17ms/step - loss: 0.0011 - coeff_determination: 0.9795 - val_loss: 4.0978e-04 - val_coeff_determination: 0.2992\n",
            "Epoch 97/200\n",
            "33/33 [==============================] - 1s 18ms/step - loss: 0.0014 - coeff_determination: 0.9737 - val_loss: 2.9039e-04 - val_coeff_determination: 0.6140\n",
            "Epoch 98/200\n",
            "33/33 [==============================] - 1s 18ms/step - loss: 0.0013 - coeff_determination: 0.9769 - val_loss: 5.3952e-04 - val_coeff_determination: 0.1595\n",
            "Epoch 99/200\n",
            "33/33 [==============================] - 1s 18ms/step - loss: 0.0011 - coeff_determination: 0.9810 - val_loss: 3.2001e-04 - val_coeff_determination: 0.5363\n",
            "Epoch 100/200\n",
            "33/33 [==============================] - 1s 18ms/step - loss: 0.0011 - coeff_determination: 0.9778 - val_loss: 2.7406e-04 - val_coeff_determination: 0.6171\n",
            "Epoch 101/200\n",
            "33/33 [==============================] - 1s 18ms/step - loss: 0.0011 - coeff_determination: 0.9794 - val_loss: 3.0351e-04 - val_coeff_determination: 0.6146\n",
            "Epoch 102/200\n",
            "33/33 [==============================] - 1s 18ms/step - loss: 0.0013 - coeff_determination: 0.9776 - val_loss: 2.7049e-04 - val_coeff_determination: 0.6465\n",
            "Epoch 103/200\n",
            "33/33 [==============================] - 1s 18ms/step - loss: 0.0012 - coeff_determination: 0.9773 - val_loss: 2.6180e-04 - val_coeff_determination: 0.6594\n",
            "Epoch 104/200\n",
            "33/33 [==============================] - 1s 18ms/step - loss: 0.0011 - coeff_determination: 0.9787 - val_loss: 6.8780e-04 - val_coeff_determination: -0.2370\n",
            "Epoch 105/200\n",
            "33/33 [==============================] - 1s 18ms/step - loss: 0.0011 - coeff_determination: 0.9778 - val_loss: 2.9711e-04 - val_coeff_determination: 0.5878\n",
            "Epoch 106/200\n",
            "33/33 [==============================] - 1s 18ms/step - loss: 0.0011 - coeff_determination: 0.9795 - val_loss: 3.0558e-04 - val_coeff_determination: 0.5626\n",
            "Epoch 107/200\n",
            "33/33 [==============================] - 1s 18ms/step - loss: 0.0011 - coeff_determination: 0.9799 - val_loss: 2.4875e-04 - val_coeff_determination: 0.6741\n",
            "Epoch 108/200\n",
            "33/33 [==============================] - 1s 17ms/step - loss: 0.0013 - coeff_determination: 0.9772 - val_loss: 5.1697e-04 - val_coeff_determination: 0.1582\n",
            "Epoch 109/200\n",
            "33/33 [==============================] - 1s 18ms/step - loss: 0.0011 - coeff_determination: 0.9797 - val_loss: 0.0049 - val_coeff_determination: -8.9363\n",
            "Epoch 110/200\n",
            "33/33 [==============================] - 1s 18ms/step - loss: 0.0014 - coeff_determination: 0.9743 - val_loss: 2.6057e-04 - val_coeff_determination: 0.6654\n",
            "Epoch 111/200\n",
            "33/33 [==============================] - 1s 18ms/step - loss: 9.6751e-04 - coeff_determination: 0.9826 - val_loss: 2.8176e-04 - val_coeff_determination: 0.6278\n",
            "Epoch 112/200\n",
            "33/33 [==============================] - 1s 19ms/step - loss: 0.0012 - coeff_determination: 0.9795 - val_loss: 0.0024 - val_coeff_determination: -3.7036\n",
            "Epoch 113/200\n",
            "33/33 [==============================] - 1s 18ms/step - loss: 0.0015 - coeff_determination: 0.9713 - val_loss: 3.0985e-04 - val_coeff_determination: 0.4987\n",
            "Epoch 114/200\n",
            "33/33 [==============================] - 1s 18ms/step - loss: 0.0014 - coeff_determination: 0.9762 - val_loss: 5.9312e-04 - val_coeff_determination: 0.0183\n",
            "Epoch 115/200\n",
            "33/33 [==============================] - 1s 18ms/step - loss: 0.0012 - coeff_determination: 0.9793 - val_loss: 3.5969e-04 - val_coeff_determination: 0.3811\n",
            "Epoch 116/200\n",
            "33/33 [==============================] - 1s 18ms/step - loss: 0.0010 - coeff_determination: 0.9816 - val_loss: 0.0019 - val_coeff_determination: -2.7977\n",
            "Epoch 117/200\n",
            "33/33 [==============================] - 1s 18ms/step - loss: 0.0012 - coeff_determination: 0.9785 - val_loss: 3.5914e-04 - val_coeff_determination: 0.5047\n",
            "Epoch 118/200\n",
            "33/33 [==============================] - 1s 19ms/step - loss: 0.0012 - coeff_determination: 0.9790 - val_loss: 3.8398e-04 - val_coeff_determination: 0.4072\n",
            "Epoch 119/200\n",
            "33/33 [==============================] - 1s 18ms/step - loss: 9.1474e-04 - coeff_determination: 0.9840 - val_loss: 2.6102e-04 - val_coeff_determination: 0.6166\n",
            "Epoch 120/200\n",
            "33/33 [==============================] - 1s 18ms/step - loss: 0.0010 - coeff_determination: 0.9821 - val_loss: 9.6305e-04 - val_coeff_determination: -1.0532\n",
            "Epoch 121/200\n",
            "33/33 [==============================] - 1s 18ms/step - loss: 0.0010 - coeff_determination: 0.9819 - val_loss: 3.4491e-04 - val_coeff_determination: 0.4806\n",
            "Epoch 122/200\n",
            "33/33 [==============================] - 1s 18ms/step - loss: 9.9461e-04 - coeff_determination: 0.9824 - val_loss: 7.2238e-04 - val_coeff_determination: -0.2717\n",
            "Epoch 123/200\n",
            "33/33 [==============================] - 1s 18ms/step - loss: 9.6701e-04 - coeff_determination: 0.9827 - val_loss: 0.0024 - val_coeff_determination: -3.7471\n",
            "Epoch 124/200\n",
            "33/33 [==============================] - 1s 18ms/step - loss: 0.0011 - coeff_determination: 0.9802 - val_loss: 2.5095e-04 - val_coeff_determination: 0.6578\n",
            "Epoch 125/200\n",
            "33/33 [==============================] - 1s 19ms/step - loss: 0.0011 - coeff_determination: 0.9803 - val_loss: 2.3664e-04 - val_coeff_determination: 0.6654\n",
            "Epoch 126/200\n",
            "33/33 [==============================] - 1s 19ms/step - loss: 0.0012 - coeff_determination: 0.9797 - val_loss: 4.9998e-04 - val_coeff_determination: 0.2105\n",
            "Epoch 127/200\n",
            "33/33 [==============================] - 1s 19ms/step - loss: 0.0010 - coeff_determination: 0.9787 - val_loss: 5.4978e-04 - val_coeff_determination: 0.0908\n",
            "Epoch 128/200\n",
            "33/33 [==============================] - 1s 18ms/step - loss: 0.0011 - coeff_determination: 0.9800 - val_loss: 0.0011 - val_coeff_determination: -1.1872\n",
            "Epoch 129/200\n",
            "33/33 [==============================] - 1s 18ms/step - loss: 0.0012 - coeff_determination: 0.9787 - val_loss: 9.1204e-04 - val_coeff_determination: -0.6549\n",
            "Epoch 130/200\n",
            "33/33 [==============================] - 1s 19ms/step - loss: 0.0012 - coeff_determination: 0.9784 - val_loss: 2.4345e-04 - val_coeff_determination: 0.6761\n",
            "Epoch 131/200\n",
            "33/33 [==============================] - 1s 19ms/step - loss: 0.0010 - coeff_determination: 0.9819 - val_loss: 2.2644e-04 - val_coeff_determination: 0.6902\n",
            "Epoch 132/200\n",
            "33/33 [==============================] - 1s 19ms/step - loss: 9.6080e-04 - coeff_determination: 0.9829 - val_loss: 2.3612e-04 - val_coeff_determination: 0.6637\n",
            "Epoch 133/200\n",
            "33/33 [==============================] - 1s 18ms/step - loss: 0.0010 - coeff_determination: 0.9808 - val_loss: 5.0417e-04 - val_coeff_determination: 0.1910\n",
            "Epoch 134/200\n",
            "33/33 [==============================] - 1s 18ms/step - loss: 0.0012 - coeff_determination: 0.9784 - val_loss: 4.3167e-04 - val_coeff_determination: 0.3001\n",
            "Epoch 135/200\n",
            "33/33 [==============================] - 1s 18ms/step - loss: 8.9805e-04 - coeff_determination: 0.9835 - val_loss: 2.6958e-04 - val_coeff_determination: 0.6252\n",
            "Epoch 136/200\n",
            "33/33 [==============================] - 1s 19ms/step - loss: 9.1702e-04 - coeff_determination: 0.9829 - val_loss: 7.4711e-04 - val_coeff_determination: -0.3232\n",
            "Epoch 137/200\n",
            "33/33 [==============================] - 1s 19ms/step - loss: 0.0011 - coeff_determination: 0.9801 - val_loss: 2.5803e-04 - val_coeff_determination: 0.6598\n",
            "Epoch 138/200\n",
            "33/33 [==============================] - 1s 18ms/step - loss: 9.4847e-04 - coeff_determination: 0.9826 - val_loss: 2.4797e-04 - val_coeff_determination: 0.6701\n",
            "Epoch 139/200\n",
            "33/33 [==============================] - 1s 18ms/step - loss: 0.0011 - coeff_determination: 0.9790 - val_loss: 5.4988e-04 - val_coeff_determination: -0.0081\n",
            "Epoch 140/200\n",
            "33/33 [==============================] - 1s 18ms/step - loss: 0.0012 - coeff_determination: 0.9795 - val_loss: 6.3717e-04 - val_coeff_determination: -0.2666\n",
            "Epoch 141/200\n",
            "33/33 [==============================] - 1s 18ms/step - loss: 0.0011 - coeff_determination: 0.9796 - val_loss: 3.4983e-04 - val_coeff_determination: 0.4037\n",
            "Epoch 142/200\n",
            "33/33 [==============================] - 1s 19ms/step - loss: 0.0010 - coeff_determination: 0.9803 - val_loss: 9.1956e-04 - val_coeff_determination: -0.9611\n",
            "Epoch 143/200\n",
            "33/33 [==============================] - 1s 18ms/step - loss: 0.0010 - coeff_determination: 0.9819 - val_loss: 2.7599e-04 - val_coeff_determination: 0.5583\n",
            "Epoch 144/200\n",
            "33/33 [==============================] - 1s 18ms/step - loss: 9.3101e-04 - coeff_determination: 0.9817 - val_loss: 2.9596e-04 - val_coeff_determination: 0.5809\n",
            "Epoch 145/200\n",
            "33/33 [==============================] - 1s 18ms/step - loss: 0.0011 - coeff_determination: 0.9803 - val_loss: 0.0012 - val_coeff_determination: -1.3240\n",
            "Epoch 146/200\n",
            "33/33 [==============================] - 1s 18ms/step - loss: 0.0011 - coeff_determination: 0.9808 - val_loss: 5.3814e-04 - val_coeff_determination: 0.1109\n",
            "Epoch 147/200\n",
            "33/33 [==============================] - 1s 18ms/step - loss: 8.9031e-04 - coeff_determination: 0.9840 - val_loss: 0.0015 - val_coeff_determination: -1.9076\n",
            "Epoch 148/200\n",
            "33/33 [==============================] - 1s 18ms/step - loss: 9.3333e-04 - coeff_determination: 0.9830 - val_loss: 0.0011 - val_coeff_determination: -1.0752\n",
            "Epoch 149/200\n",
            "33/33 [==============================] - 1s 19ms/step - loss: 8.9779e-04 - coeff_determination: 0.9838 - val_loss: 6.8423e-04 - val_coeff_determination: -0.2041\n",
            "Epoch 150/200\n",
            "33/33 [==============================] - 1s 18ms/step - loss: 0.0010 - coeff_determination: 0.9826 - val_loss: 0.0013 - val_coeff_determination: -1.4688\n",
            "Epoch 151/200\n",
            "33/33 [==============================] - 1s 19ms/step - loss: 9.4583e-04 - coeff_determination: 0.9835 - val_loss: 6.8054e-04 - val_coeff_determination: -0.3467\n",
            "Epoch 152/200\n",
            "33/33 [==============================] - 1s 18ms/step - loss: 0.0011 - coeff_determination: 0.9807 - val_loss: 2.6020e-04 - val_coeff_determination: 0.6449\n",
            "Epoch 153/200\n",
            "33/33 [==============================] - 1s 18ms/step - loss: 8.2593e-04 - coeff_determination: 0.9844 - val_loss: 5.8177e-04 - val_coeff_determination: -0.0387\n",
            "Epoch 154/200\n",
            "33/33 [==============================] - 1s 19ms/step - loss: 0.0011 - coeff_determination: 0.9806 - val_loss: 6.9520e-04 - val_coeff_determination: -0.2133\n",
            "Epoch 155/200\n",
            "33/33 [==============================] - 1s 19ms/step - loss: 0.0010 - coeff_determination: 0.9810 - val_loss: 6.3397e-04 - val_coeff_determination: -0.1083\n",
            "Epoch 156/200\n",
            "33/33 [==============================] - 1s 18ms/step - loss: 8.3712e-04 - coeff_determination: 0.9838 - val_loss: 4.3746e-04 - val_coeff_determination: 0.3246\n",
            "Epoch 157/200\n",
            "33/33 [==============================] - 1s 18ms/step - loss: 9.3430e-04 - coeff_determination: 0.9826 - val_loss: 2.7722e-04 - val_coeff_determination: 0.6182\n",
            "Epoch 158/200\n",
            "33/33 [==============================] - 1s 18ms/step - loss: 0.0010 - coeff_determination: 0.9814 - val_loss: 2.5376e-04 - val_coeff_determination: 0.6540\n",
            "Epoch 159/200\n",
            "33/33 [==============================] - 1s 19ms/step - loss: 9.2810e-04 - coeff_determination: 0.9817 - val_loss: 2.5210e-04 - val_coeff_determination: 0.6270\n",
            "Epoch 160/200\n",
            "33/33 [==============================] - 1s 18ms/step - loss: 0.0010 - coeff_determination: 0.9820 - val_loss: 2.2418e-04 - val_coeff_determination: 0.6819\n",
            "Epoch 161/200\n",
            "33/33 [==============================] - 1s 18ms/step - loss: 8.8784e-04 - coeff_determination: 0.9846 - val_loss: 4.1739e-04 - val_coeff_determination: 0.2316\n",
            "Epoch 162/200\n",
            "33/33 [==============================] - 1s 18ms/step - loss: 0.0012 - coeff_determination: 0.9793 - val_loss: 0.0017 - val_coeff_determination: -2.3172\n",
            "Epoch 163/200\n",
            "33/33 [==============================] - 1s 18ms/step - loss: 0.0010 - coeff_determination: 0.9810 - val_loss: 0.0012 - val_coeff_determination: -1.2593\n",
            "Epoch 164/200\n",
            "33/33 [==============================] - 1s 18ms/step - loss: 9.1105e-04 - coeff_determination: 0.9837 - val_loss: 3.2369e-04 - val_coeff_determination: 0.4959\n",
            "Epoch 165/200\n",
            "33/33 [==============================] - 1s 18ms/step - loss: 8.7937e-04 - coeff_determination: 0.9835 - val_loss: 0.0012 - val_coeff_determination: -1.6254\n",
            "Epoch 166/200\n",
            "33/33 [==============================] - 1s 18ms/step - loss: 9.8120e-04 - coeff_determination: 0.9822 - val_loss: 7.4056e-04 - val_coeff_determination: -0.3285\n",
            "Epoch 167/200\n",
            "33/33 [==============================] - 1s 19ms/step - loss: 9.5094e-04 - coeff_determination: 0.9826 - val_loss: 4.3730e-04 - val_coeff_determination: 0.3075\n",
            "Epoch 168/200\n",
            "33/33 [==============================] - 1s 18ms/step - loss: 9.4091e-04 - coeff_determination: 0.9827 - val_loss: 3.9986e-04 - val_coeff_determination: 0.3729\n",
            "Epoch 169/200\n",
            "33/33 [==============================] - 1s 19ms/step - loss: 0.0011 - coeff_determination: 0.9813 - val_loss: 0.0026 - val_coeff_determination: -4.1473\n",
            "Epoch 170/200\n",
            "33/33 [==============================] - 1s 19ms/step - loss: 0.0013 - coeff_determination: 0.9788 - val_loss: 2.8674e-04 - val_coeff_determination: 0.5955\n",
            "Epoch 171/200\n",
            "33/33 [==============================] - 1s 19ms/step - loss: 9.5389e-04 - coeff_determination: 0.9813 - val_loss: 7.4279e-04 - val_coeff_determination: -0.4947\n",
            "Epoch 172/200\n",
            "33/33 [==============================] - 1s 18ms/step - loss: 0.0010 - coeff_determination: 0.9798 - val_loss: 0.0015 - val_coeff_determination: -1.9115\n",
            "Epoch 173/200\n",
            "33/33 [==============================] - 1s 19ms/step - loss: 0.0013 - coeff_determination: 0.9777 - val_loss: 4.6241e-04 - val_coeff_determination: 0.2705\n",
            "Epoch 174/200\n",
            "33/33 [==============================] - 1s 19ms/step - loss: 0.0010 - coeff_determination: 0.9817 - val_loss: 7.2663e-04 - val_coeff_determination: -0.2920\n",
            "Epoch 175/200\n",
            "33/33 [==============================] - 1s 19ms/step - loss: 0.0010 - coeff_determination: 0.9817 - val_loss: 2.9065e-04 - val_coeff_determination: 0.5541\n",
            "Epoch 176/200\n",
            "33/33 [==============================] - 1s 18ms/step - loss: 9.7451e-04 - coeff_determination: 0.9814 - val_loss: 2.7095e-04 - val_coeff_determination: 0.5600\n",
            "Epoch 177/200\n",
            "33/33 [==============================] - 1s 19ms/step - loss: 9.2561e-04 - coeff_determination: 0.9821 - val_loss: 6.9381e-04 - val_coeff_determination: -0.2555\n",
            "Epoch 178/200\n",
            "33/33 [==============================] - 1s 19ms/step - loss: 0.0010 - coeff_determination: 0.9824 - val_loss: 3.7228e-04 - val_coeff_determination: 0.3205\n",
            "Epoch 179/200\n",
            "33/33 [==============================] - 1s 19ms/step - loss: 0.0010 - coeff_determination: 0.9816 - val_loss: 0.0010 - val_coeff_determination: -0.8870\n",
            "Epoch 180/200\n",
            "33/33 [==============================] - 1s 19ms/step - loss: 0.0012 - coeff_determination: 0.9765 - val_loss: 0.0011 - val_coeff_determination: -1.0929\n",
            "Epoch 181/200\n",
            "33/33 [==============================] - 1s 19ms/step - loss: 8.9849e-04 - coeff_determination: 0.9839 - val_loss: 2.3373e-04 - val_coeff_determination: 0.6770\n",
            "Epoch 182/200\n",
            "33/33 [==============================] - 1s 19ms/step - loss: 8.6796e-04 - coeff_determination: 0.9846 - val_loss: 2.3826e-04 - val_coeff_determination: 0.6788\n",
            "Epoch 183/200\n",
            "33/33 [==============================] - 1s 19ms/step - loss: 8.5447e-04 - coeff_determination: 0.9829 - val_loss: 3.4233e-04 - val_coeff_determination: 0.4059\n",
            "Epoch 184/200\n",
            "33/33 [==============================] - 1s 19ms/step - loss: 8.3388e-04 - coeff_determination: 0.9847 - val_loss: 5.6019e-04 - val_coeff_determination: 0.0345\n",
            "Epoch 185/200\n",
            "33/33 [==============================] - 1s 19ms/step - loss: 8.5312e-04 - coeff_determination: 0.9852 - val_loss: 0.0019 - val_coeff_determination: -2.8856\n",
            "Epoch 186/200\n",
            "33/33 [==============================] - 1s 18ms/step - loss: 0.0011 - coeff_determination: 0.9815 - val_loss: 7.3658e-04 - val_coeff_determination: -0.3323\n",
            "Epoch 187/200\n",
            "33/33 [==============================] - 1s 19ms/step - loss: 8.9660e-04 - coeff_determination: 0.9826 - val_loss: 3.7902e-04 - val_coeff_determination: 0.3195\n",
            "Epoch 188/200\n",
            "33/33 [==============================] - 1s 19ms/step - loss: 8.9875e-04 - coeff_determination: 0.9842 - val_loss: 3.9593e-04 - val_coeff_determination: 0.2963\n",
            "Epoch 189/200\n",
            "33/33 [==============================] - 1s 18ms/step - loss: 9.6433e-04 - coeff_determination: 0.9820 - val_loss: 3.4652e-04 - val_coeff_determination: 0.4636\n",
            "Epoch 190/200\n",
            "33/33 [==============================] - 1s 19ms/step - loss: 7.4417e-04 - coeff_determination: 0.9861 - val_loss: 3.8771e-04 - val_coeff_determination: 0.3710\n",
            "Epoch 191/200\n",
            "33/33 [==============================] - 1s 19ms/step - loss: 8.4380e-04 - coeff_determination: 0.9842 - val_loss: 6.7205e-04 - val_coeff_determination: -0.2426\n",
            "Epoch 192/200\n",
            "33/33 [==============================] - 1s 20ms/step - loss: 9.3693e-04 - coeff_determination: 0.9831 - val_loss: 8.3274e-04 - val_coeff_determination: -0.5604\n",
            "Epoch 193/200\n",
            "33/33 [==============================] - 1s 19ms/step - loss: 0.0012 - coeff_determination: 0.9788 - val_loss: 2.9258e-04 - val_coeff_determination: 0.5591\n",
            "Epoch 194/200\n",
            "33/33 [==============================] - 1s 19ms/step - loss: 9.7168e-04 - coeff_determination: 0.9823 - val_loss: 0.0017 - val_coeff_determination: -2.2492\n",
            "Epoch 195/200\n",
            "33/33 [==============================] - 1s 18ms/step - loss: 9.8611e-04 - coeff_determination: 0.9826 - val_loss: 6.7841e-04 - val_coeff_determination: -0.2531\n",
            "Epoch 196/200\n",
            "33/33 [==============================] - 1s 19ms/step - loss: 0.0011 - coeff_determination: 0.9800 - val_loss: 0.0011 - val_coeff_determination: -1.1415\n",
            "Epoch 197/200\n",
            "33/33 [==============================] - 1s 18ms/step - loss: 0.0011 - coeff_determination: 0.9804 - val_loss: 0.0014 - val_coeff_determination: -1.7005\n",
            "Epoch 198/200\n",
            "33/33 [==============================] - 1s 19ms/step - loss: 8.0912e-04 - coeff_determination: 0.9851 - val_loss: 5.8479e-04 - val_coeff_determination: -0.0448\n",
            "Epoch 199/200\n",
            "33/33 [==============================] - 1s 18ms/step - loss: 8.2804e-04 - coeff_determination: 0.9850 - val_loss: 2.3161e-04 - val_coeff_determination: 0.6821\n",
            "Epoch 200/200\n",
            "33/33 [==============================] - 1s 18ms/step - loss: 8.7681e-04 - coeff_determination: 0.9829 - val_loss: 2.4950e-04 - val_coeff_determination: 0.6531\n"
          ],
          "name": "stdout"
        }
      ]
    },
    {
      "cell_type": "markdown",
      "metadata": {
        "id": "VRYX_QycoL_u"
      },
      "source": [
        "Reading test data and making predictions"
      ]
    },
    {
      "cell_type": "code",
      "metadata": {
        "id": "3GQXxFCfk_wl"
      },
      "source": [
        "dataset_test = pd.read_csv('Google_Stock_Price_Test.csv')\n",
        "real_stock_price = dataset_test.iloc[:, 1:2].values\n",
        "dataset_total = pd.concat((dataset_train['Open'], dataset_test['Open']), axis = 0)\n",
        "inputs = dataset_total[len(dataset_total) - len(dataset_test) - 60:].values\n",
        "inputs = inputs.reshape(-1,1)\n",
        "inputs = sc.transform(inputs)\n",
        "X_test = []\n",
        "for i in range(60, 80):\n",
        "    X_test.append(inputs[i-60:i, 0])\n",
        "\n",
        "X_test = np.array(X_test)\n",
        "X_test = np.reshape(X_test, (X_test.shape[0], X_test.shape[1], 1))\n",
        "\n",
        "\n",
        "predicted_stock_price = regressor.predict(X_test)\n",
        "predicted_stock_price = sc.inverse_transform(predicted_stock_price)\n"
      ],
      "execution_count": 12,
      "outputs": []
    },
    {
      "cell_type": "code",
      "metadata": {
        "colab": {
          "base_uri": "https://localhost:8080/",
          "height": 298
        },
        "id": "INGnj1QnLEVf",
        "outputId": "c19d5f15-56a8-47d8-89e9-221044a128d6"
      },
      "source": [
        "r2score = hist.history['loss']\n",
        "val_r2score = hist.history['val_loss']\n",
        "epochs = range(1, len(r2score) + 1)\n",
        "\n",
        "# # Train and validation accuracy\n",
        "plt.plot(epochs, r2score, 'b', label='Training loss')\n",
        "plt.plot(epochs, val_r2score, 'r', label='Validation loss')\n",
        "plt.title('Training and Validation loss')\n",
        "plt.legend()"
      ],
      "execution_count": 13,
      "outputs": [
        {
          "output_type": "execute_result",
          "data": {
            "text/plain": [
              "<matplotlib.legend.Legend at 0x7f81505b1890>"
            ]
          },
          "metadata": {
            "tags": []
          },
          "execution_count": 13
        },
        {
          "output_type": "display_data",
          "data": {
            "image/png": "[encoded data removed]",
            "text/plain": [
              "<Figure size 432x288 with 1 Axes>"
            ]
          },
          "metadata": {
            "tags": [],
            "needs_background": "light"
          }
        }
      ]
    },
    {
      "cell_type": "code",
      "metadata": {
        "colab": {
          "base_uri": "https://localhost:8080/",
          "height": 295
        },
        "id": "35_15HE6lJif",
        "outputId": "c12aab44-7475-42f5-d18a-48799880a290"
      },
      "source": [
        "plt.plot(real_stock_price, color = 'red', label = 'Real Google Stock Price')\n",
        "plt.plot(predicted_stock_price, color = 'blue', label = 'Predicted Google Stock Price')\n",
        "plt.title('Google Stock Price Prediction for January')\n",
        "plt.xlabel('Time')\n",
        "plt.ylabel('Google Stock Price')\n",
        "plt.legend()\n",
        "plt.show()"
      ],
      "execution_count": 14,
      "outputs": [
        {
          "output_type": "display_data",
          "data": {
            "image/png": "[encoded data removed]",
            "text/plain": [
              "<Figure size 432x288 with 1 Axes>"
            ]
          },
          "metadata": {
            "tags": [],
            "needs_background": "light"
          }
        }
      ]
    },
    {
      "cell_type": "code",
      "metadata": {
        "colab": {
          "base_uri": "https://localhost:8080/"
        },
        "id": "3xW5pcillMC-",
        "outputId": "af221ffc-6169-4649-ddd3-813ecdfce949"
      },
      "source": [
        "import math\n",
        "from sklearn.metrics import r2_score\n",
        "\n",
        "r2_score(real_stock_price,predicted_stock_price)\n"
      ],
      "execution_count": 15,
      "outputs": [
        {
          "output_type": "execute_result",
          "data": {
            "text/plain": [
              "0.3378045660565361"
            ]
          },
          "metadata": {
            "tags": []
          },
          "execution_count": 15
        }
      ]
    },
    {
      "cell_type": "code",
      "metadata": {
        "id": "xQ7dbPhuuN2S"
      },
      "source": [
        ""
      ],
      "execution_count": 15,
      "outputs": []
    }
  ]
}