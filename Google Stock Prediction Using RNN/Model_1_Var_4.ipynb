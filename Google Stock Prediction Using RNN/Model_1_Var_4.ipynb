{
  "nbformat": 4,
  "nbformat_minor": 0,
  "metadata": {
    "accelerator": "GPU",
    "colab": {
      "name": "Model_1_Var_4.ipynb",
      "provenance": [],
      "collapsed_sections": []
    },
    "kernelspec": {
      "display_name": "Python 3",
      "language": "python",
      "name": "python3"
    },
    "language_info": {
      "codemirror_mode": {
        "name": "ipython",
        "version": 3
      },
      "file_extension": ".py",
      "mimetype": "text/x-python",
      "name": "python",
      "nbconvert_exporter": "python",
      "pygments_lexer": "ipython3",
      "version": "3.8.5"
    }
  },
  "cells": [
    {
      "cell_type": "markdown",
      "metadata": {
        "id": "NUAMLHjscFgZ"
      },
      "source": [
        "Google Stock Price Prediction using RNN (LSTM)\n",
        "\n",
        "Note: Different implementations were tested to find the effect of different parameters on the prediction results of which are included in the report along with the changes required i.e(Number of Epochs, Compiler type, model version, model units etc). To reconstruct the results of the report, kindly change the variables and select/uncomment the model as presented in the report respectively."
      ]
    },
    {
      "cell_type": "code",
      "metadata": {
        "id": "xG7dqwN_kYc2"
      },
      "source": [
        "#Importing Libraries\n",
        "import numpy as np\n",
        "import matplotlib.pyplot as plt\n",
        "import pandas as pd\n",
        "from tensorflow.keras.models import Sequential # allow us to create a neural network object representing a sequence of layers\n",
        "from tensorflow.keras.layers import Dense #to add the output layer \n",
        "from tensorflow.keras.layers import LSTM # to add LSTM layer\n",
        "from tensorflow.keras.layers import Dropout #to add some dropout regularization\n",
        "from tensorflow.keras.callbacks import ModelCheckpoint\n",
        "from tensorflow.keras.models import load_model"
      ],
      "execution_count": 1,
      "outputs": []
    },
    {
      "cell_type": "code",
      "metadata": {
        "id": "DQpYa6mLorrw"
      },
      "source": [
        ""
      ],
      "execution_count": 1,
      "outputs": []
    },
    {
      "cell_type": "code",
      "metadata": {
        "id": "hk8GdvbLkiA2"
      },
      "source": [
        "#Loading the Training File\n",
        "dataset_train = pd.read_csv('Google_Stock_Price_Train.csv')\n",
        "training_set = dataset_train.iloc[:, 1:2].values"
      ],
      "execution_count": 2,
      "outputs": []
    },
    {
      "cell_type": "code",
      "metadata": {
        "id": "-Zjv58Kkkr8G"
      },
      "source": [
        "#Scaling the training data\n",
        "from sklearn.preprocessing import MinMaxScaler\n",
        "sc = MinMaxScaler(feature_range = (0, 1))\n",
        "training_set_scaled = sc.fit_transform(training_set)"
      ],
      "execution_count": 3,
      "outputs": []
    },
    {
      "cell_type": "code",
      "metadata": {
        "id": "V6SwWZ35ksb2"
      },
      "source": [
        "#splitting data into training and validation\n",
        "X_train = []\n",
        "y_train = []\n",
        "X_val = []\n",
        "y_val = []\n",
        "\n",
        "for i in range(60, 1100):\n",
        "    X_train.append(training_set_scaled[i-60:i, 0])\n",
        "    y_train.append(training_set_scaled[i, 0])\n",
        "X_train, y_train = np.array(X_train), np.array(y_train)\n",
        "\n",
        "for i in range(1100, 1258):\n",
        "    X_val.append(training_set_scaled[i-60:i, 0])\n",
        "    y_val.append(training_set_scaled[i, 0])\n",
        "X_train, y_train = np.array(X_train), np.array(y_train)\n",
        "X_val, y_val = np.array(X_val), np.array(y_val)"
      ],
      "execution_count": 4,
      "outputs": []
    },
    {
      "cell_type": "code",
      "metadata": {
        "id": "yAfILPa9kuxF"
      },
      "source": [
        "#reshaping the data\n",
        "X_train = np.reshape(X_train, (X_train.shape[0], X_train.shape[1], 1))\n",
        "X_val = np.reshape(X_val, (X_val.shape[0], X_val.shape[1], 1))"
      ],
      "execution_count": 5,
      "outputs": []
    },
    {
      "cell_type": "markdown",
      "metadata": {
        "id": "9UDcZEJhnzst"
      },
      "source": [
        "**Model 1**"
      ]
    },
    {
      "cell_type": "code",
      "metadata": {
        "id": "yR3VZnc1k2w9"
      },
      "source": [
        "regressor = Sequential()\n",
        "regressor.add(LSTM(units = 50, return_sequences = True, input_shape = (X_train.shape[1], 1)))  \n",
        "regressor.add(Dropout(0.2))\n",
        "regressor.add(LSTM(units = 50, return_sequences = True))\n",
        "regressor.add(Dropout(0.2))\n",
        "regressor.add(LSTM(units = 50, return_sequences = True))\n",
        "regressor.add(Dropout(0.2))\n",
        "regressor.add(LSTM(units = 50))\n",
        "regressor.add(Dropout(0.2))"
      ],
      "execution_count": 6,
      "outputs": []
    },
    {
      "cell_type": "code",
      "metadata": {
        "id": "ra3Zpjopk7X4"
      },
      "source": [
        "regressor.add(Dense(units = 1))"
      ],
      "execution_count": 7,
      "outputs": []
    },
    {
      "cell_type": "markdown",
      "metadata": {
        "id": "uPFbig0_CEyh"
      },
      "source": [
        "**Model 2**"
      ]
    },
    {
      "cell_type": "code",
      "metadata": {
        "id": "IBM0tJJwrCFH"
      },
      "source": [
        "#ver 1\n",
        "#regressor = Sequential()\n",
        "#regressor.add(LSTM(units=100,return_sequences=True,input_shape=(X_train.shape[1],1)))\n",
        "#regressor.add(Dropout(0.2))\n",
        "\n",
        "#regressor.add(LSTM(units=100,return_sequences=True))\n",
        "#regressor.add(Dropout(0.2))\n",
        "\n",
        "#regressor.add(LSTM(units=100,return_sequences=True))\n",
        "#regressor.add(Dropout(0.2))\n",
        "\n",
        "#regressor.add(LSTM(units=100,return_sequences=True))\n",
        "#regressor.add(Dropout(0.2))\n",
        "\n",
        "#regressor.add(LSTM(units=100))\n",
        "#regressor.add(Dropout(0.2))\n",
        "\n",
        "#regressor.add(Dense(units=1))"
      ],
      "execution_count": 8,
      "outputs": []
    },
    {
      "cell_type": "code",
      "metadata": {
        "id": "CAqHTpc27zic"
      },
      "source": [
        "#ver 2\n",
        "#regressor = Sequential()\n",
        "#regressor.add(LSTM(units=100,return_sequences=True,input_shape=(X_train.shape[1],1)))\n",
        "#regressor.add(Dropout(0.2))\n",
        "\n",
        "#regressor.add(LSTM(units=100,return_sequences=True))\n",
        "#regressor.add(Dropout(0.2))\n",
        "\n",
        "#regressor.add(LSTM(units=100,return_sequences=True))\n",
        "#regressor.add(Dropout(0.2))\n",
        "\n",
        "#regressor.add(LSTM(units=100,return_sequences=True))\n",
        "#regressor.add(Dropout(0.2))\n",
        "\n",
        "#regressor.add(LSTM(units=50))\n",
        "#regressor.add(Dropout(0.2))\n",
        "\n",
        "#regressor.add(Dense(units=1))"
      ],
      "execution_count": 9,
      "outputs": []
    },
    {
      "cell_type": "code",
      "metadata": {
        "id": "yCQyEXvVk75O"
      },
      "source": [
        "from tensorflow.keras import backend as K\n",
        "\n",
        "def coeff_determination(y_true, y_pred):\n",
        "    from tensorflow.keras import backend as K\n",
        "    SS_res =  K.sum(K.square( y_true-y_pred ))\n",
        "    SS_tot = K.sum(K.square( y_true - K.mean(y_true) ) )\n",
        "    return ( 1 - SS_res/(SS_tot + K.epsilon()) )\n",
        "\n",
        "regressor.compile(optimizer = 'Adam', loss = 'mean_squared_error', metrics=[coeff_determination])"
      ],
      "execution_count": 10,
      "outputs": []
    },
    {
      "cell_type": "code",
      "metadata": {
        "colab": {
          "base_uri": "https://localhost:8080/"
        },
        "id": "yHx5YTDQk9_f",
        "outputId": "6c899382-c603-493f-d441-3686890b3100"
      },
      "source": [
        "\n",
        "model_checkpoint_callback = ModelCheckpoint(\n",
        "    filepath='stock.h5',\n",
        "    save_weights_only=False,\n",
        "    monitor='coeff_determination',\n",
        "    mode='max',\n",
        "    save_best_only=True)\n",
        "hist = regressor.fit(X_train, y_train, epochs = 200, batch_size = 64, validation_data = (X_val,y_val))"
      ],
      "execution_count": 11,
      "outputs": [
        {
          "output_type": "stream",
          "text": [
            "Epoch 1/200\n",
            "17/17 [==============================] - 9s 117ms/step - loss: 0.1176 - coeff_determination: -1.1608 - val_loss: 0.0515 - val_coeff_determination: -57.4873\n",
            "Epoch 2/200\n",
            "17/17 [==============================] - 0s 18ms/step - loss: 0.0121 - coeff_determination: 0.7778 - val_loss: 0.0023 - val_coeff_determination: -0.9736\n",
            "Epoch 3/200\n",
            "17/17 [==============================] - 0s 18ms/step - loss: 0.0056 - coeff_determination: 0.9019 - val_loss: 0.0020 - val_coeff_determination: -0.4825\n",
            "Epoch 4/200\n",
            "17/17 [==============================] - 0s 18ms/step - loss: 0.0051 - coeff_determination: 0.9071 - val_loss: 0.0072 - val_coeff_determination: -6.2645\n",
            "Epoch 5/200\n",
            "17/17 [==============================] - 0s 17ms/step - loss: 0.0049 - coeff_determination: 0.9088 - val_loss: 0.0020 - val_coeff_determination: -0.4948\n",
            "Epoch 6/200\n",
            "17/17 [==============================] - 0s 17ms/step - loss: 0.0056 - coeff_determination: 0.8995 - val_loss: 0.0111 - val_coeff_determination: -10.3910\n",
            "Epoch 7/200\n",
            "17/17 [==============================] - 0s 17ms/step - loss: 0.0045 - coeff_determination: 0.9188 - val_loss: 0.0016 - val_coeff_determination: -0.1882\n",
            "Epoch 8/200\n",
            "17/17 [==============================] - 0s 17ms/step - loss: 0.0044 - coeff_determination: 0.9245 - val_loss: 0.0102 - val_coeff_determination: -9.4893\n",
            "Epoch 9/200\n",
            "17/17 [==============================] - 0s 16ms/step - loss: 0.0049 - coeff_determination: 0.9119 - val_loss: 0.0016 - val_coeff_determination: -0.1191\n",
            "Epoch 10/200\n",
            "17/17 [==============================] - 0s 17ms/step - loss: 0.0044 - coeff_determination: 0.9218 - val_loss: 0.0091 - val_coeff_determination: -8.3575\n",
            "Epoch 11/200\n",
            "17/17 [==============================] - 0s 17ms/step - loss: 0.0037 - coeff_determination: 0.9281 - val_loss: 0.0016 - val_coeff_determination: -0.1695\n",
            "Epoch 12/200\n",
            "17/17 [==============================] - 0s 17ms/step - loss: 0.0040 - coeff_determination: 0.9277 - val_loss: 0.0023 - val_coeff_determination: -0.9606\n",
            "Epoch 13/200\n",
            "17/17 [==============================] - 0s 17ms/step - loss: 0.0040 - coeff_determination: 0.9270 - val_loss: 0.0043 - val_coeff_determination: -3.0678\n",
            "Epoch 14/200\n",
            "17/17 [==============================] - 0s 17ms/step - loss: 0.0037 - coeff_determination: 0.9365 - val_loss: 0.0028 - val_coeff_determination: -1.4284\n",
            "Epoch 15/200\n",
            "17/17 [==============================] - 0s 17ms/step - loss: 0.0034 - coeff_determination: 0.9417 - val_loss: 0.0019 - val_coeff_determination: -0.5728\n",
            "Epoch 16/200\n",
            "17/17 [==============================] - 0s 17ms/step - loss: 0.0037 - coeff_determination: 0.9314 - val_loss: 0.0015 - val_coeff_determination: -0.1300\n",
            "Epoch 17/200\n",
            "17/17 [==============================] - 0s 18ms/step - loss: 0.0038 - coeff_determination: 0.9318 - val_loss: 0.0025 - val_coeff_determination: -1.1787\n",
            "Epoch 18/200\n",
            "17/17 [==============================] - 0s 17ms/step - loss: 0.0038 - coeff_determination: 0.9335 - val_loss: 0.0049 - val_coeff_determination: -3.6915\n",
            "Epoch 19/200\n",
            "17/17 [==============================] - 0s 17ms/step - loss: 0.0033 - coeff_determination: 0.9431 - val_loss: 0.0040 - val_coeff_determination: -2.7524\n",
            "Epoch 20/200\n",
            "17/17 [==============================] - 0s 17ms/step - loss: 0.0032 - coeff_determination: 0.9419 - val_loss: 0.0016 - val_coeff_determination: -0.3216\n",
            "Epoch 21/200\n",
            "17/17 [==============================] - 0s 17ms/step - loss: 0.0039 - coeff_determination: 0.9324 - val_loss: 0.0017 - val_coeff_determination: -0.4510\n",
            "Epoch 22/200\n",
            "17/17 [==============================] - 0s 17ms/step - loss: 0.0037 - coeff_determination: 0.9362 - val_loss: 0.0018 - val_coeff_determination: -0.5733\n",
            "Epoch 23/200\n",
            "17/17 [==============================] - 0s 17ms/step - loss: 0.0039 - coeff_determination: 0.9321 - val_loss: 0.0036 - val_coeff_determination: -2.4582\n",
            "Epoch 24/200\n",
            "17/17 [==============================] - 0s 17ms/step - loss: 0.0034 - coeff_determination: 0.9394 - val_loss: 0.0013 - val_coeff_determination: -0.0242\n",
            "Epoch 25/200\n",
            "17/17 [==============================] - 0s 18ms/step - loss: 0.0040 - coeff_determination: 0.9281 - val_loss: 0.0020 - val_coeff_determination: -0.7977\n",
            "Epoch 26/200\n",
            "17/17 [==============================] - 0s 16ms/step - loss: 0.0038 - coeff_determination: 0.9345 - val_loss: 0.0019 - val_coeff_determination: -0.6382\n",
            "Epoch 27/200\n",
            "17/17 [==============================] - 0s 17ms/step - loss: 0.0033 - coeff_determination: 0.9414 - val_loss: 0.0012 - val_coeff_determination: 0.0237\n",
            "Epoch 28/200\n",
            "17/17 [==============================] - 0s 17ms/step - loss: 0.0034 - coeff_determination: 0.9378 - val_loss: 0.0023 - val_coeff_determination: -1.1421\n",
            "Epoch 29/200\n",
            "17/17 [==============================] - 0s 17ms/step - loss: 0.0031 - coeff_determination: 0.9448 - val_loss: 0.0031 - val_coeff_determination: -2.0043\n",
            "Epoch 30/200\n",
            "17/17 [==============================] - 0s 17ms/step - loss: 0.0033 - coeff_determination: 0.9413 - val_loss: 0.0029 - val_coeff_determination: -1.7531\n",
            "Epoch 31/200\n",
            "17/17 [==============================] - 0s 17ms/step - loss: 0.0030 - coeff_determination: 0.9461 - val_loss: 0.0032 - val_coeff_determination: -2.0654\n",
            "Epoch 32/200\n",
            "17/17 [==============================] - 0s 18ms/step - loss: 0.0033 - coeff_determination: 0.9434 - val_loss: 0.0012 - val_coeff_determination: 0.0070\n",
            "Epoch 33/200\n",
            "17/17 [==============================] - 0s 17ms/step - loss: 0.0028 - coeff_determination: 0.9479 - val_loss: 0.0026 - val_coeff_determination: -1.4656\n",
            "Epoch 34/200\n",
            "17/17 [==============================] - 0s 18ms/step - loss: 0.0029 - coeff_determination: 0.9492 - val_loss: 0.0048 - val_coeff_determination: -3.8028\n",
            "Epoch 35/200\n",
            "17/17 [==============================] - 0s 17ms/step - loss: 0.0029 - coeff_determination: 0.9472 - val_loss: 0.0022 - val_coeff_determination: -1.0037\n",
            "Epoch 36/200\n",
            "17/17 [==============================] - 0s 17ms/step - loss: 0.0026 - coeff_determination: 0.9542 - val_loss: 0.0045 - val_coeff_determination: -3.6583\n",
            "Epoch 37/200\n",
            "17/17 [==============================] - 0s 16ms/step - loss: 0.0029 - coeff_determination: 0.9484 - val_loss: 0.0028 - val_coeff_determination: -1.7704\n",
            "Epoch 38/200\n",
            "17/17 [==============================] - 0s 18ms/step - loss: 0.0039 - coeff_determination: 0.9329 - val_loss: 0.0029 - val_coeff_determination: -1.8129\n",
            "Epoch 39/200\n",
            "17/17 [==============================] - 0s 16ms/step - loss: 0.0028 - coeff_determination: 0.9486 - val_loss: 0.0022 - val_coeff_determination: -1.1681\n",
            "Epoch 40/200\n",
            "17/17 [==============================] - 0s 15ms/step - loss: 0.0030 - coeff_determination: 0.9445 - val_loss: 0.0044 - val_coeff_determination: -3.5585\n",
            "Epoch 41/200\n",
            "17/17 [==============================] - 0s 17ms/step - loss: 0.0032 - coeff_determination: 0.9383 - val_loss: 0.0022 - val_coeff_determination: -1.1110\n",
            "Epoch 42/200\n",
            "17/17 [==============================] - 0s 16ms/step - loss: 0.0026 - coeff_determination: 0.9522 - val_loss: 0.0013 - val_coeff_determination: -0.0874\n",
            "Epoch 43/200\n",
            "17/17 [==============================] - 0s 17ms/step - loss: 0.0029 - coeff_determination: 0.9486 - val_loss: 0.0018 - val_coeff_determination: -0.7255\n",
            "Epoch 44/200\n",
            "17/17 [==============================] - 0s 17ms/step - loss: 0.0024 - coeff_determination: 0.9589 - val_loss: 0.0010 - val_coeff_determination: 0.1299\n",
            "Epoch 45/200\n",
            "17/17 [==============================] - 0s 17ms/step - loss: 0.0028 - coeff_determination: 0.9521 - val_loss: 0.0023 - val_coeff_determination: -1.3018\n",
            "Epoch 46/200\n",
            "17/17 [==============================] - 0s 16ms/step - loss: 0.0026 - coeff_determination: 0.9517 - val_loss: 0.0025 - val_coeff_determination: -1.4698\n",
            "Epoch 47/200\n",
            "17/17 [==============================] - 0s 17ms/step - loss: 0.0026 - coeff_determination: 0.9544 - val_loss: 0.0010 - val_coeff_determination: 0.1515\n",
            "Epoch 48/200\n",
            "17/17 [==============================] - 0s 18ms/step - loss: 0.0030 - coeff_determination: 0.9461 - val_loss: 0.0012 - val_coeff_determination: -0.0374\n",
            "Epoch 49/200\n",
            "17/17 [==============================] - 0s 17ms/step - loss: 0.0028 - coeff_determination: 0.9519 - val_loss: 0.0011 - val_coeff_determination: 0.0161\n",
            "Epoch 50/200\n",
            "17/17 [==============================] - 0s 17ms/step - loss: 0.0026 - coeff_determination: 0.9543 - val_loss: 0.0011 - val_coeff_determination: 0.0579\n",
            "Epoch 51/200\n",
            "17/17 [==============================] - 0s 17ms/step - loss: 0.0026 - coeff_determination: 0.9548 - val_loss: 9.3675e-04 - val_coeff_determination: 0.2145\n",
            "Epoch 52/200\n",
            "17/17 [==============================] - 0s 18ms/step - loss: 0.0029 - coeff_determination: 0.9509 - val_loss: 0.0021 - val_coeff_determination: -0.9884\n",
            "Epoch 53/200\n",
            "17/17 [==============================] - 0s 17ms/step - loss: 0.0032 - coeff_determination: 0.9437 - val_loss: 0.0023 - val_coeff_determination: -1.2255\n",
            "Epoch 54/200\n",
            "17/17 [==============================] - 0s 17ms/step - loss: 0.0032 - coeff_determination: 0.9443 - val_loss: 0.0045 - val_coeff_determination: -3.6786\n",
            "Epoch 55/200\n",
            "17/17 [==============================] - 0s 16ms/step - loss: 0.0029 - coeff_determination: 0.9476 - val_loss: 0.0030 - val_coeff_determination: -2.0709\n",
            "Epoch 56/200\n",
            "17/17 [==============================] - 0s 16ms/step - loss: 0.0026 - coeff_determination: 0.9506 - val_loss: 0.0013 - val_coeff_determination: -0.1899\n",
            "Epoch 57/200\n",
            "17/17 [==============================] - 0s 17ms/step - loss: 0.0029 - coeff_determination: 0.9487 - val_loss: 0.0011 - val_coeff_determination: 0.0777\n",
            "Epoch 58/200\n",
            "17/17 [==============================] - 0s 16ms/step - loss: 0.0026 - coeff_determination: 0.9522 - val_loss: 0.0022 - val_coeff_determination: -1.1667\n",
            "Epoch 59/200\n",
            "17/17 [==============================] - 0s 17ms/step - loss: 0.0029 - coeff_determination: 0.9472 - val_loss: 0.0012 - val_coeff_determination: -0.1182\n",
            "Epoch 60/200\n",
            "17/17 [==============================] - 0s 16ms/step - loss: 0.0024 - coeff_determination: 0.9569 - val_loss: 0.0013 - val_coeff_determination: -0.2364\n",
            "Epoch 61/200\n",
            "17/17 [==============================] - 0s 17ms/step - loss: 0.0031 - coeff_determination: 0.9459 - val_loss: 0.0030 - val_coeff_determination: -1.9978\n",
            "Epoch 62/200\n",
            "17/17 [==============================] - 0s 17ms/step - loss: 0.0026 - coeff_determination: 0.9558 - val_loss: 0.0012 - val_coeff_determination: -0.1458\n",
            "Epoch 63/200\n",
            "17/17 [==============================] - 0s 17ms/step - loss: 0.0025 - coeff_determination: 0.9542 - val_loss: 0.0016 - val_coeff_determination: -0.5138\n",
            "Epoch 64/200\n",
            "17/17 [==============================] - 0s 17ms/step - loss: 0.0024 - coeff_determination: 0.9565 - val_loss: 0.0012 - val_coeff_determination: -0.0590\n",
            "Epoch 65/200\n",
            "17/17 [==============================] - 0s 17ms/step - loss: 0.0026 - coeff_determination: 0.9544 - val_loss: 0.0017 - val_coeff_determination: -0.6018\n",
            "Epoch 66/200\n",
            "17/17 [==============================] - 0s 17ms/step - loss: 0.0024 - coeff_determination: 0.9575 - val_loss: 0.0019 - val_coeff_determination: -0.9347\n",
            "Epoch 67/200\n",
            "17/17 [==============================] - 0s 17ms/step - loss: 0.0027 - coeff_determination: 0.9541 - val_loss: 0.0037 - val_coeff_determination: -2.8667\n",
            "Epoch 68/200\n",
            "17/17 [==============================] - 0s 17ms/step - loss: 0.0029 - coeff_determination: 0.9472 - val_loss: 0.0018 - val_coeff_determination: -0.6917\n",
            "Epoch 69/200\n",
            "17/17 [==============================] - 0s 17ms/step - loss: 0.0029 - coeff_determination: 0.9514 - val_loss: 8.1914e-04 - val_coeff_determination: 0.2996\n",
            "Epoch 70/200\n",
            "17/17 [==============================] - 0s 17ms/step - loss: 0.0025 - coeff_determination: 0.9571 - val_loss: 0.0020 - val_coeff_determination: -1.0034\n",
            "Epoch 71/200\n",
            "17/17 [==============================] - 0s 17ms/step - loss: 0.0022 - coeff_determination: 0.9609 - val_loss: 0.0020 - val_coeff_determination: -1.0444\n",
            "Epoch 72/200\n",
            "17/17 [==============================] - 0s 17ms/step - loss: 0.0021 - coeff_determination: 0.9616 - val_loss: 8.3876e-04 - val_coeff_determination: 0.2459\n",
            "Epoch 73/200\n",
            "17/17 [==============================] - 0s 17ms/step - loss: 0.0022 - coeff_determination: 0.9605 - val_loss: 7.6587e-04 - val_coeff_determination: 0.3140\n",
            "Epoch 74/200\n",
            "17/17 [==============================] - 0s 18ms/step - loss: 0.0021 - coeff_determination: 0.9619 - val_loss: 8.2647e-04 - val_coeff_determination: 0.2570\n",
            "Epoch 75/200\n",
            "17/17 [==============================] - 0s 17ms/step - loss: 0.0022 - coeff_determination: 0.9621 - val_loss: 0.0023 - val_coeff_determination: -1.3328\n",
            "Epoch 76/200\n",
            "17/17 [==============================] - 0s 17ms/step - loss: 0.0026 - coeff_determination: 0.9543 - val_loss: 0.0030 - val_coeff_determination: -2.1487\n",
            "Epoch 77/200\n",
            "17/17 [==============================] - 0s 17ms/step - loss: 0.0024 - coeff_determination: 0.9566 - val_loss: 0.0017 - val_coeff_determination: -0.7761\n",
            "Epoch 78/200\n",
            "17/17 [==============================] - 0s 16ms/step - loss: 0.0023 - coeff_determination: 0.9598 - val_loss: 0.0015 - val_coeff_determination: -0.4598\n",
            "Epoch 79/200\n",
            "17/17 [==============================] - 0s 17ms/step - loss: 0.0021 - coeff_determination: 0.9626 - val_loss: 7.8690e-04 - val_coeff_determination: 0.2850\n",
            "Epoch 80/200\n",
            "17/17 [==============================] - 0s 18ms/step - loss: 0.0023 - coeff_determination: 0.9617 - val_loss: 0.0016 - val_coeff_determination: -0.5689\n",
            "Epoch 81/200\n",
            "17/17 [==============================] - 0s 17ms/step - loss: 0.0023 - coeff_determination: 0.9581 - val_loss: 0.0018 - val_coeff_determination: -0.7593\n",
            "Epoch 82/200\n",
            "17/17 [==============================] - 0s 16ms/step - loss: 0.0023 - coeff_determination: 0.9583 - val_loss: 7.4916e-04 - val_coeff_determination: 0.3455\n",
            "Epoch 83/200\n",
            "17/17 [==============================] - 0s 17ms/step - loss: 0.0021 - coeff_determination: 0.9622 - val_loss: 0.0032 - val_coeff_determination: -2.4199\n",
            "Epoch 84/200\n",
            "17/17 [==============================] - 0s 17ms/step - loss: 0.0022 - coeff_determination: 0.9612 - val_loss: 0.0012 - val_coeff_determination: -0.1297\n",
            "Epoch 85/200\n",
            "17/17 [==============================] - 0s 17ms/step - loss: 0.0024 - coeff_determination: 0.9570 - val_loss: 7.3616e-04 - val_coeff_determination: 0.3390\n",
            "Epoch 86/200\n",
            "17/17 [==============================] - 0s 17ms/step - loss: 0.0023 - coeff_determination: 0.9582 - val_loss: 7.9434e-04 - val_coeff_determination: 0.2735\n",
            "Epoch 87/200\n",
            "17/17 [==============================] - 0s 18ms/step - loss: 0.0020 - coeff_determination: 0.9657 - val_loss: 7.0708e-04 - val_coeff_determination: 0.3687\n",
            "Epoch 88/200\n",
            "17/17 [==============================] - 0s 17ms/step - loss: 0.0018 - coeff_determination: 0.9666 - val_loss: 0.0018 - val_coeff_determination: -0.7871\n",
            "Epoch 89/200\n",
            "17/17 [==============================] - 0s 17ms/step - loss: 0.0025 - coeff_determination: 0.9552 - val_loss: 8.5545e-04 - val_coeff_determination: 0.2127\n",
            "Epoch 90/200\n",
            "17/17 [==============================] - 0s 17ms/step - loss: 0.0022 - coeff_determination: 0.9599 - val_loss: 0.0017 - val_coeff_determination: -0.7668\n",
            "Epoch 91/200\n",
            "17/17 [==============================] - 0s 17ms/step - loss: 0.0021 - coeff_determination: 0.9608 - val_loss: 6.7928e-04 - val_coeff_determination: 0.3889\n",
            "Epoch 92/200\n",
            "17/17 [==============================] - 0s 16ms/step - loss: 0.0020 - coeff_determination: 0.9640 - val_loss: 0.0013 - val_coeff_determination: -0.3270\n",
            "Epoch 93/200\n",
            "17/17 [==============================] - 0s 17ms/step - loss: 0.0018 - coeff_determination: 0.9658 - val_loss: 8.5796e-04 - val_coeff_determination: 0.1823\n",
            "Epoch 94/200\n",
            "17/17 [==============================] - 0s 17ms/step - loss: 0.0020 - coeff_determination: 0.9632 - val_loss: 7.0352e-04 - val_coeff_determination: 0.3439\n",
            "Epoch 95/200\n",
            "17/17 [==============================] - 0s 17ms/step - loss: 0.0022 - coeff_determination: 0.9627 - val_loss: 0.0025 - val_coeff_determination: -1.6554\n",
            "Epoch 96/200\n",
            "17/17 [==============================] - 0s 17ms/step - loss: 0.0020 - coeff_determination: 0.9645 - val_loss: 8.6156e-04 - val_coeff_determination: 0.1547\n",
            "Epoch 97/200\n",
            "17/17 [==============================] - 0s 17ms/step - loss: 0.0019 - coeff_determination: 0.9632 - val_loss: 7.3782e-04 - val_coeff_determination: 0.3133\n",
            "Epoch 98/200\n",
            "17/17 [==============================] - 0s 17ms/step - loss: 0.0022 - coeff_determination: 0.9595 - val_loss: 0.0015 - val_coeff_determination: -0.5445\n",
            "Epoch 99/200\n",
            "17/17 [==============================] - 0s 17ms/step - loss: 0.0020 - coeff_determination: 0.9623 - val_loss: 0.0037 - val_coeff_determination: -2.9930\n",
            "Epoch 100/200\n",
            "17/17 [==============================] - 0s 17ms/step - loss: 0.0022 - coeff_determination: 0.9604 - val_loss: 0.0040 - val_coeff_determination: -3.2420\n",
            "Epoch 101/200\n",
            "17/17 [==============================] - 0s 18ms/step - loss: 0.0023 - coeff_determination: 0.9602 - val_loss: 0.0013 - val_coeff_determination: -0.2557\n",
            "Epoch 102/200\n",
            "17/17 [==============================] - 0s 16ms/step - loss: 0.0023 - coeff_determination: 0.9596 - val_loss: 6.6485e-04 - val_coeff_determination: 0.3903\n",
            "Epoch 103/200\n",
            "17/17 [==============================] - 0s 17ms/step - loss: 0.0020 - coeff_determination: 0.9635 - val_loss: 8.1085e-04 - val_coeff_determination: 0.2373\n",
            "Epoch 104/200\n",
            "17/17 [==============================] - 0s 16ms/step - loss: 0.0020 - coeff_determination: 0.9649 - val_loss: 0.0013 - val_coeff_determination: -0.3234\n",
            "Epoch 105/200\n",
            "17/17 [==============================] - 0s 17ms/step - loss: 0.0018 - coeff_determination: 0.9678 - val_loss: 0.0010 - val_coeff_determination: -0.0010\n",
            "Epoch 106/200\n",
            "17/17 [==============================] - 0s 17ms/step - loss: 0.0018 - coeff_determination: 0.9671 - val_loss: 6.7781e-04 - val_coeff_determination: 0.3703\n",
            "Epoch 107/200\n",
            "17/17 [==============================] - 0s 18ms/step - loss: 0.0019 - coeff_determination: 0.9684 - val_loss: 0.0011 - val_coeff_determination: -0.1177\n",
            "Epoch 108/200\n",
            "17/17 [==============================] - 0s 17ms/step - loss: 0.0017 - coeff_determination: 0.9693 - val_loss: 7.7068e-04 - val_coeff_determination: 0.2763\n",
            "Epoch 109/200\n",
            "17/17 [==============================] - 0s 16ms/step - loss: 0.0019 - coeff_determination: 0.9666 - val_loss: 7.2647e-04 - val_coeff_determination: 0.3222\n",
            "Epoch 110/200\n",
            "17/17 [==============================] - 0s 17ms/step - loss: 0.0019 - coeff_determination: 0.9664 - val_loss: 0.0010 - val_coeff_determination: -0.0205\n",
            "Epoch 111/200\n",
            "17/17 [==============================] - 0s 16ms/step - loss: 0.0018 - coeff_determination: 0.9672 - val_loss: 0.0026 - val_coeff_determination: -1.7024\n",
            "Epoch 112/200\n",
            "17/17 [==============================] - 0s 17ms/step - loss: 0.0018 - coeff_determination: 0.9681 - val_loss: 5.8825e-04 - val_coeff_determination: 0.4670\n",
            "Epoch 113/200\n",
            "17/17 [==============================] - 0s 16ms/step - loss: 0.0016 - coeff_determination: 0.9710 - val_loss: 8.5368e-04 - val_coeff_determination: 0.1924\n",
            "Epoch 114/200\n",
            "17/17 [==============================] - 0s 17ms/step - loss: 0.0018 - coeff_determination: 0.9709 - val_loss: 7.6091e-04 - val_coeff_determination: 0.2871\n",
            "Epoch 115/200\n",
            "17/17 [==============================] - 0s 17ms/step - loss: 0.0019 - coeff_determination: 0.9665 - val_loss: 5.6113e-04 - val_coeff_determination: 0.4927\n",
            "Epoch 116/200\n",
            "17/17 [==============================] - 0s 16ms/step - loss: 0.0016 - coeff_determination: 0.9724 - val_loss: 9.2297e-04 - val_coeff_determination: 0.0971\n",
            "Epoch 117/200\n",
            "17/17 [==============================] - 0s 16ms/step - loss: 0.0019 - coeff_determination: 0.9656 - val_loss: 0.0014 - val_coeff_determination: -0.4028\n",
            "Epoch 118/200\n",
            "17/17 [==============================] - 0s 17ms/step - loss: 0.0016 - coeff_determination: 0.9700 - val_loss: 7.2833e-04 - val_coeff_determination: 0.3022\n",
            "Epoch 119/200\n",
            "17/17 [==============================] - 0s 16ms/step - loss: 0.0018 - coeff_determination: 0.9674 - val_loss: 8.6162e-04 - val_coeff_determination: 0.1688\n",
            "Epoch 120/200\n",
            "17/17 [==============================] - 0s 17ms/step - loss: 0.0015 - coeff_determination: 0.9724 - val_loss: 8.2023e-04 - val_coeff_determination: 0.2184\n",
            "Epoch 121/200\n",
            "17/17 [==============================] - 0s 16ms/step - loss: 0.0015 - coeff_determination: 0.9738 - val_loss: 5.7786e-04 - val_coeff_determination: 0.4629\n",
            "Epoch 122/200\n",
            "17/17 [==============================] - 0s 16ms/step - loss: 0.0016 - coeff_determination: 0.9719 - val_loss: 5.1558e-04 - val_coeff_determination: 0.5303\n",
            "Epoch 123/200\n",
            "17/17 [==============================] - 0s 17ms/step - loss: 0.0017 - coeff_determination: 0.9676 - val_loss: 5.3685e-04 - val_coeff_determination: 0.5040\n",
            "Epoch 124/200\n",
            "17/17 [==============================] - 0s 16ms/step - loss: 0.0017 - coeff_determination: 0.9713 - val_loss: 0.0020 - val_coeff_determination: -1.0731\n",
            "Epoch 125/200\n",
            "17/17 [==============================] - 0s 17ms/step - loss: 0.0019 - coeff_determination: 0.9670 - val_loss: 0.0028 - val_coeff_determination: -2.0299\n",
            "Epoch 126/200\n",
            "17/17 [==============================] - 0s 18ms/step - loss: 0.0017 - coeff_determination: 0.9664 - val_loss: 0.0015 - val_coeff_determination: -0.5448\n",
            "Epoch 127/200\n",
            "17/17 [==============================] - 0s 18ms/step - loss: 0.0014 - coeff_determination: 0.9755 - val_loss: 7.6881e-04 - val_coeff_determination: 0.2436\n",
            "Epoch 128/200\n",
            "17/17 [==============================] - 0s 16ms/step - loss: 0.0016 - coeff_determination: 0.9705 - val_loss: 5.0370e-04 - val_coeff_determination: 0.5351\n",
            "Epoch 129/200\n",
            "17/17 [==============================] - 0s 17ms/step - loss: 0.0018 - coeff_determination: 0.9671 - val_loss: 0.0015 - val_coeff_determination: -0.5457\n",
            "Epoch 130/200\n",
            "17/17 [==============================] - 0s 16ms/step - loss: 0.0015 - coeff_determination: 0.9741 - val_loss: 4.8166e-04 - val_coeff_determination: 0.5579\n",
            "Epoch 131/200\n",
            "17/17 [==============================] - 0s 16ms/step - loss: 0.0015 - coeff_determination: 0.9709 - val_loss: 5.8708e-04 - val_coeff_determination: 0.4331\n",
            "Epoch 132/200\n",
            "17/17 [==============================] - 0s 17ms/step - loss: 0.0019 - coeff_determination: 0.9663 - val_loss: 0.0022 - val_coeff_determination: -1.3110\n",
            "Epoch 133/200\n",
            "17/17 [==============================] - 0s 17ms/step - loss: 0.0014 - coeff_determination: 0.9739 - val_loss: 0.0014 - val_coeff_determination: -0.4478\n",
            "Epoch 134/200\n",
            "17/17 [==============================] - 0s 17ms/step - loss: 0.0015 - coeff_determination: 0.9723 - val_loss: 9.2081e-04 - val_coeff_determination: 0.0745\n",
            "Epoch 135/200\n",
            "17/17 [==============================] - 0s 16ms/step - loss: 0.0015 - coeff_determination: 0.9737 - val_loss: 5.7730e-04 - val_coeff_determination: 0.4535\n",
            "Epoch 136/200\n",
            "17/17 [==============================] - 0s 17ms/step - loss: 0.0013 - coeff_determination: 0.9762 - val_loss: 8.4514e-04 - val_coeff_determination: 0.1697\n",
            "Epoch 137/200\n",
            "17/17 [==============================] - 0s 16ms/step - loss: 0.0016 - coeff_determination: 0.9715 - val_loss: 8.7446e-04 - val_coeff_determination: 0.1363\n",
            "Epoch 138/200\n",
            "17/17 [==============================] - 0s 16ms/step - loss: 0.0016 - coeff_determination: 0.9717 - val_loss: 0.0014 - val_coeff_determination: -0.5256\n",
            "Epoch 139/200\n",
            "17/17 [==============================] - 0s 16ms/step - loss: 0.0014 - coeff_determination: 0.9762 - val_loss: 7.0186e-04 - val_coeff_determination: 0.3144\n",
            "Epoch 140/200\n",
            "17/17 [==============================] - 0s 17ms/step - loss: 0.0018 - coeff_determination: 0.9695 - val_loss: 4.8069e-04 - val_coeff_determination: 0.5539\n",
            "Epoch 141/200\n",
            "17/17 [==============================] - 0s 17ms/step - loss: 0.0015 - coeff_determination: 0.9736 - val_loss: 9.6709e-04 - val_coeff_determination: -0.0189\n",
            "Epoch 142/200\n",
            "17/17 [==============================] - 0s 16ms/step - loss: 0.0014 - coeff_determination: 0.9760 - val_loss: 0.0015 - val_coeff_determination: -0.6348\n",
            "Epoch 143/200\n",
            "17/17 [==============================] - 0s 17ms/step - loss: 0.0014 - coeff_determination: 0.9772 - val_loss: 5.7037e-04 - val_coeff_determination: 0.4405\n",
            "Epoch 144/200\n",
            "17/17 [==============================] - 0s 17ms/step - loss: 0.0016 - coeff_determination: 0.9727 - val_loss: 6.9686e-04 - val_coeff_determination: 0.3111\n",
            "Epoch 145/200\n",
            "17/17 [==============================] - 0s 17ms/step - loss: 0.0015 - coeff_determination: 0.9722 - val_loss: 9.8773e-04 - val_coeff_determination: -0.0082\n",
            "Epoch 146/200\n",
            "17/17 [==============================] - 0s 16ms/step - loss: 0.0012 - coeff_determination: 0.9793 - val_loss: 4.8802e-04 - val_coeff_determination: 0.5351\n",
            "Epoch 147/200\n",
            "17/17 [==============================] - 0s 17ms/step - loss: 0.0013 - coeff_determination: 0.9770 - val_loss: 8.9366e-04 - val_coeff_determination: 0.0856\n",
            "Epoch 148/200\n",
            "17/17 [==============================] - 0s 17ms/step - loss: 0.0016 - coeff_determination: 0.9723 - val_loss: 4.3371e-04 - val_coeff_determination: 0.5900\n",
            "Epoch 149/200\n",
            "17/17 [==============================] - 0s 17ms/step - loss: 0.0016 - coeff_determination: 0.9715 - val_loss: 4.1436e-04 - val_coeff_determination: 0.6111\n",
            "Epoch 150/200\n",
            "17/17 [==============================] - 0s 17ms/step - loss: 0.0015 - coeff_determination: 0.9745 - val_loss: 4.0558e-04 - val_coeff_determination: 0.6202\n",
            "Epoch 151/200\n",
            "17/17 [==============================] - 0s 17ms/step - loss: 0.0015 - coeff_determination: 0.9734 - val_loss: 4.3810e-04 - val_coeff_determination: 0.5773\n",
            "Epoch 152/200\n",
            "17/17 [==============================] - 0s 17ms/step - loss: 0.0013 - coeff_determination: 0.9763 - val_loss: 9.2144e-04 - val_coeff_determination: 0.0324\n",
            "Epoch 153/200\n",
            "17/17 [==============================] - 0s 17ms/step - loss: 0.0012 - coeff_determination: 0.9787 - val_loss: 4.1666e-04 - val_coeff_determination: 0.6047\n",
            "Epoch 154/200\n",
            "17/17 [==============================] - 0s 17ms/step - loss: 0.0012 - coeff_determination: 0.9787 - val_loss: 4.1724e-04 - val_coeff_determination: 0.6060\n",
            "Epoch 155/200\n",
            "17/17 [==============================] - 0s 17ms/step - loss: 0.0015 - coeff_determination: 0.9722 - val_loss: 0.0016 - val_coeff_determination: -0.7097\n",
            "Epoch 156/200\n",
            "17/17 [==============================] - 0s 17ms/step - loss: 0.0014 - coeff_determination: 0.9766 - val_loss: 0.0014 - val_coeff_determination: -0.5123\n",
            "Epoch 157/200\n",
            "17/17 [==============================] - 0s 17ms/step - loss: 0.0014 - coeff_determination: 0.9757 - val_loss: 3.8266e-04 - val_coeff_determination: 0.6397\n",
            "Epoch 158/200\n",
            "17/17 [==============================] - 0s 17ms/step - loss: 0.0013 - coeff_determination: 0.9751 - val_loss: 3.8762e-04 - val_coeff_determination: 0.6401\n",
            "Epoch 159/200\n",
            "17/17 [==============================] - 0s 16ms/step - loss: 0.0014 - coeff_determination: 0.9760 - val_loss: 4.9123e-04 - val_coeff_determination: 0.5195\n",
            "Epoch 160/200\n",
            "17/17 [==============================] - 0s 17ms/step - loss: 0.0014 - coeff_determination: 0.9745 - val_loss: 3.9177e-04 - val_coeff_determination: 0.6309\n",
            "Epoch 161/200\n",
            "17/17 [==============================] - 0s 17ms/step - loss: 0.0015 - coeff_determination: 0.9736 - val_loss: 0.0028 - val_coeff_determination: -2.0023\n",
            "Epoch 162/200\n",
            "17/17 [==============================] - 0s 17ms/step - loss: 0.0015 - coeff_determination: 0.9727 - val_loss: 5.6593e-04 - val_coeff_determination: 0.4582\n",
            "Epoch 163/200\n",
            "17/17 [==============================] - 0s 17ms/step - loss: 0.0012 - coeff_determination: 0.9780 - val_loss: 0.0010 - val_coeff_determination: -0.0378\n",
            "Epoch 164/200\n",
            "17/17 [==============================] - 0s 17ms/step - loss: 0.0015 - coeff_determination: 0.9737 - val_loss: 4.4665e-04 - val_coeff_determination: 0.5702\n",
            "Epoch 165/200\n",
            "17/17 [==============================] - 0s 17ms/step - loss: 0.0013 - coeff_determination: 0.9775 - val_loss: 3.8075e-04 - val_coeff_determination: 0.6422\n",
            "Epoch 166/200\n",
            "17/17 [==============================] - 0s 17ms/step - loss: 0.0012 - coeff_determination: 0.9768 - val_loss: 0.0011 - val_coeff_determination: -0.1381\n",
            "Epoch 167/200\n",
            "17/17 [==============================] - 0s 17ms/step - loss: 0.0015 - coeff_determination: 0.9722 - val_loss: 4.1049e-04 - val_coeff_determination: 0.5981\n",
            "Epoch 168/200\n",
            "17/17 [==============================] - 0s 17ms/step - loss: 0.0014 - coeff_determination: 0.9766 - val_loss: 5.7866e-04 - val_coeff_determination: 0.4159\n",
            "Epoch 169/200\n",
            "17/17 [==============================] - 0s 17ms/step - loss: 0.0013 - coeff_determination: 0.9782 - val_loss: 4.4681e-04 - val_coeff_determination: 0.5564\n",
            "Epoch 170/200\n",
            "17/17 [==============================] - 0s 16ms/step - loss: 0.0013 - coeff_determination: 0.9776 - val_loss: 4.2946e-04 - val_coeff_determination: 0.5754\n",
            "Epoch 171/200\n",
            "17/17 [==============================] - 0s 17ms/step - loss: 0.0014 - coeff_determination: 0.9744 - val_loss: 0.0018 - val_coeff_determination: -0.8685\n",
            "Epoch 172/200\n",
            "17/17 [==============================] - 0s 17ms/step - loss: 0.0013 - coeff_determination: 0.9791 - val_loss: 0.0017 - val_coeff_determination: -0.8501\n",
            "Epoch 173/200\n",
            "17/17 [==============================] - 0s 17ms/step - loss: 0.0012 - coeff_determination: 0.9792 - val_loss: 0.0010 - val_coeff_determination: -0.1035\n",
            "Epoch 174/200\n",
            "17/17 [==============================] - 0s 17ms/step - loss: 0.0011 - coeff_determination: 0.9799 - val_loss: 6.0349e-04 - val_coeff_determination: 0.3873\n",
            "Epoch 175/200\n",
            "17/17 [==============================] - 0s 17ms/step - loss: 0.0012 - coeff_determination: 0.9780 - val_loss: 4.2651e-04 - val_coeff_determination: 0.5843\n",
            "Epoch 176/200\n",
            "17/17 [==============================] - 0s 17ms/step - loss: 0.0013 - coeff_determination: 0.9763 - val_loss: 5.0757e-04 - val_coeff_determination: 0.5015\n",
            "Epoch 177/200\n",
            "17/17 [==============================] - 0s 17ms/step - loss: 0.0011 - coeff_determination: 0.9807 - val_loss: 5.1467e-04 - val_coeff_determination: 0.4811\n",
            "Epoch 178/200\n",
            "17/17 [==============================] - 0s 16ms/step - loss: 0.0011 - coeff_determination: 0.9814 - val_loss: 3.5929e-04 - val_coeff_determination: 0.6530\n",
            "Epoch 179/200\n",
            "17/17 [==============================] - 0s 17ms/step - loss: 0.0012 - coeff_determination: 0.9791 - val_loss: 3.2798e-04 - val_coeff_determination: 0.6829\n",
            "Epoch 180/200\n",
            "17/17 [==============================] - 0s 17ms/step - loss: 0.0013 - coeff_determination: 0.9760 - val_loss: 4.4914e-04 - val_coeff_determination: 0.5413\n",
            "Epoch 181/200\n",
            "17/17 [==============================] - 0s 18ms/step - loss: 0.0014 - coeff_determination: 0.9744 - val_loss: 3.2100e-04 - val_coeff_determination: 0.6877\n",
            "Epoch 182/200\n",
            "17/17 [==============================] - 0s 17ms/step - loss: 0.0013 - coeff_determination: 0.9763 - val_loss: 4.2459e-04 - val_coeff_determination: 0.5538\n",
            "Epoch 183/200\n",
            "17/17 [==============================] - 0s 16ms/step - loss: 0.0014 - coeff_determination: 0.9750 - val_loss: 3.3438e-04 - val_coeff_determination: 0.6766\n",
            "Epoch 184/200\n",
            "17/17 [==============================] - 0s 17ms/step - loss: 0.0012 - coeff_determination: 0.9763 - val_loss: 3.5429e-04 - val_coeff_determination: 0.6528\n",
            "Epoch 185/200\n",
            "17/17 [==============================] - 0s 17ms/step - loss: 0.0012 - coeff_determination: 0.9784 - val_loss: 3.7014e-04 - val_coeff_determination: 0.6338\n",
            "Epoch 186/200\n",
            "17/17 [==============================] - 0s 18ms/step - loss: 0.0011 - coeff_determination: 0.9805 - val_loss: 4.8193e-04 - val_coeff_determination: 0.5110\n",
            "Epoch 187/200\n",
            "17/17 [==============================] - 0s 16ms/step - loss: 0.0013 - coeff_determination: 0.9773 - val_loss: 3.1307e-04 - val_coeff_determination: 0.6958\n",
            "Epoch 188/200\n",
            "17/17 [==============================] - 0s 18ms/step - loss: 0.0012 - coeff_determination: 0.9781 - val_loss: 4.7368e-04 - val_coeff_determination: 0.5173\n",
            "Epoch 189/200\n",
            "17/17 [==============================] - 0s 18ms/step - loss: 0.0011 - coeff_determination: 0.9812 - val_loss: 6.2040e-04 - val_coeff_determination: 0.3570\n",
            "Epoch 190/200\n",
            "17/17 [==============================] - 0s 18ms/step - loss: 0.0011 - coeff_determination: 0.9806 - val_loss: 3.0649e-04 - val_coeff_determination: 0.7019\n",
            "Epoch 191/200\n",
            "17/17 [==============================] - 0s 17ms/step - loss: 0.0012 - coeff_determination: 0.9787 - val_loss: 4.2703e-04 - val_coeff_determination: 0.5581\n",
            "Epoch 192/200\n",
            "17/17 [==============================] - 0s 17ms/step - loss: 0.0011 - coeff_determination: 0.9807 - val_loss: 3.5458e-04 - val_coeff_determination: 0.6589\n",
            "Epoch 193/200\n",
            "17/17 [==============================] - 0s 16ms/step - loss: 0.0012 - coeff_determination: 0.9790 - val_loss: 4.7433e-04 - val_coeff_determination: 0.5254\n",
            "Epoch 194/200\n",
            "17/17 [==============================] - 0s 17ms/step - loss: 0.0011 - coeff_determination: 0.9810 - val_loss: 5.1248e-04 - val_coeff_determination: 0.4730\n",
            "Epoch 195/200\n",
            "17/17 [==============================] - 0s 16ms/step - loss: 0.0011 - coeff_determination: 0.9797 - val_loss: 7.1184e-04 - val_coeff_determination: 0.2513\n",
            "Epoch 196/200\n",
            "17/17 [==============================] - 0s 17ms/step - loss: 0.0010 - coeff_determination: 0.9819 - val_loss: 6.8499e-04 - val_coeff_determination: 0.2872\n",
            "Epoch 197/200\n",
            "17/17 [==============================] - 0s 17ms/step - loss: 0.0013 - coeff_determination: 0.9786 - val_loss: 0.0010 - val_coeff_determination: -0.1077\n",
            "Epoch 198/200\n",
            "17/17 [==============================] - 0s 17ms/step - loss: 0.0011 - coeff_determination: 0.9811 - val_loss: 0.0011 - val_coeff_determination: -0.1339\n",
            "Epoch 199/200\n",
            "17/17 [==============================] - 0s 17ms/step - loss: 0.0014 - coeff_determination: 0.9738 - val_loss: 4.1522e-04 - val_coeff_determination: 0.5612\n",
            "Epoch 200/200\n",
            "17/17 [==============================] - 0s 17ms/step - loss: 0.0012 - coeff_determination: 0.9785 - val_loss: 4.6986e-04 - val_coeff_determination: 0.5186\n"
          ],
          "name": "stdout"
        }
      ]
    },
    {
      "cell_type": "markdown",
      "metadata": {
        "id": "VRYX_QycoL_u"
      },
      "source": [
        "Reading test data and making predictions"
      ]
    },
    {
      "cell_type": "code",
      "metadata": {
        "id": "3GQXxFCfk_wl"
      },
      "source": [
        "dataset_test = pd.read_csv('Google_Stock_Price_Test.csv')\n",
        "real_stock_price = dataset_test.iloc[:, 1:2].values\n",
        "dataset_total = pd.concat((dataset_train['Open'], dataset_test['Open']), axis = 0)\n",
        "inputs = dataset_total[len(dataset_total) - len(dataset_test) - 60:].values\n",
        "inputs = inputs.reshape(-1,1)\n",
        "inputs = sc.transform(inputs)\n",
        "X_test = []\n",
        "for i in range(60, 80):\n",
        "    X_test.append(inputs[i-60:i, 0])\n",
        "\n",
        "X_test = np.array(X_test)\n",
        "X_test = np.reshape(X_test, (X_test.shape[0], X_test.shape[1], 1))\n",
        "\n",
        "\n",
        "predicted_stock_price = regressor.predict(X_test)\n",
        "predicted_stock_price = sc.inverse_transform(predicted_stock_price)\n"
      ],
      "execution_count": 12,
      "outputs": []
    },
    {
      "cell_type": "code",
      "metadata": {
        "colab": {
          "base_uri": "https://localhost:8080/",
          "height": 298
        },
        "id": "INGnj1QnLEVf",
        "outputId": "e86b043f-0d9d-40d7-8e84-ffad077e9a47"
      },
      "source": [
        "r2score = hist.history['loss']\n",
        "val_r2score = hist.history['val_loss']\n",
        "epochs = range(1, len(r2score) + 1)\n",
        "\n",
        "# # Train and validation accuracy\n",
        "plt.plot(epochs, r2score, 'b', label='Training loss')\n",
        "plt.plot(epochs, val_r2score, 'r', label='Validation loss')\n",
        "plt.title('Training and Validation loss')\n",
        "plt.legend()"
      ],
      "execution_count": 13,
      "outputs": [
        {
          "output_type": "execute_result",
          "data": {
            "text/plain": [
              "<matplotlib.legend.Legend at 0x7f60de704e90>"
            ]
          },
          "metadata": {
            "tags": []
          },
          "execution_count": 13
        },
        {
          "output_type": "display_data",
          "data": {
            "image/png": "[encoded data removed]",
            "text/plain": [
              "<Figure size 432x288 with 1 Axes>"
            ]
          },
          "metadata": {
            "tags": [],
            "needs_background": "light"
          }
        }
      ]
    },
    {
      "cell_type": "code",
      "metadata": {
        "colab": {
          "base_uri": "https://localhost:8080/",
          "height": 295
        },
        "id": "35_15HE6lJif",
        "outputId": "83697fe0-1d4e-4af6-b01c-77ea8a06e238"
      },
      "source": [
        "plt.plot(real_stock_price, color = 'red', label = 'Real Google Stock Price')\n",
        "plt.plot(predicted_stock_price, color = 'blue', label = 'Predicted Google Stock Price')\n",
        "plt.title('Google Stock Price Prediction for January')\n",
        "plt.xlabel('Time')\n",
        "plt.ylabel('Google Stock Price')\n",
        "plt.legend()\n",
        "plt.show()"
      ],
      "execution_count": 14,
      "outputs": [
        {
          "output_type": "display_data",
          "data": {
            "image/png": "[encoded data removed]",
            "text/plain": [
              "<Figure size 432x288 with 1 Axes>"
            ]
          },
          "metadata": {
            "tags": [],
            "needs_background": "light"
          }
        }
      ]
    },
    {
      "cell_type": "code",
      "metadata": {
        "colab": {
          "base_uri": "https://localhost:8080/"
        },
        "id": "3xW5pcillMC-",
        "outputId": "3c42f2aa-d656-4738-a34a-f81b09412e83"
      },
      "source": [
        "import math\n",
        "from sklearn.metrics import r2_score\n",
        "\n",
        "r2_score(real_stock_price,predicted_stock_price)\n"
      ],
      "execution_count": 15,
      "outputs": [
        {
          "output_type": "execute_result",
          "data": {
            "text/plain": [
              "-0.10329939026734825"
            ]
          },
          "metadata": {
            "tags": []
          },
          "execution_count": 15
        }
      ]
    },
    {
      "cell_type": "code",
      "metadata": {
        "id": "xQ7dbPhuuN2S"
      },
      "source": [
        ""
      ],
      "execution_count": 15,
      "outputs": []
    }
  ]
}