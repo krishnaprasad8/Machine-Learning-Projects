{
 "cells": [
  {
   "cell_type": "markdown",
   "metadata": {
    "id": "NUAMLHjscFgZ"
   },
   "source": [
    "Google Stock Price Prediction using RNN (LSTM)\n",
    "\n",
    "Note: Different implementations were tested to find the effect of different parameters on the prediction results of which are included in the report along with the changes required i.e(Number of Epochs, Compiler type, model version, model units etc). To reconstruct the results of the report, kindly change the variables and select/uncomment the model as presented in the report respectively."
   ]
  },
  {
   "cell_type": "code",
   "execution_count": 1,
   "metadata": {
    "id": "xG7dqwN_kYc2"
   },
   "outputs": [],
   "source": [
    "#Importing Libraries\n",
    "import numpy as np\n",
    "import matplotlib.pyplot as plt\n",
    "import pandas as pd\n",
    "from tensorflow.keras.models import Sequential # allow us to create a neural network object representing a sequence of layers\n",
    "from tensorflow.keras.layers import Dense #to add the output layer \n",
    "from tensorflow.keras.layers import LSTM # to add LSTM layer\n",
    "from tensorflow.keras.layers import Dropout #to add some dropout regularization\n",
    "from tensorflow.keras.callbacks import ModelCheckpoint\n",
    "from tensorflow.keras.models import load_model"
   ]
  },
  {
   "cell_type": "code",
   "execution_count": 1,
   "metadata": {
    "id": "DQpYa6mLorrw"
   },
   "outputs": [],
   "source": []
  },
  {
   "cell_type": "code",
   "execution_count": 2,
   "metadata": {
    "id": "hk8GdvbLkiA2"
   },
   "outputs": [],
   "source": [
    "#Loading the Training File\n",
    "dataset_train = pd.read_csv('Google_Stock_Price_Train.csv')\n",
    "training_set = dataset_train.iloc[:, 1:2].values"
   ]
  },
  {
   "cell_type": "code",
   "execution_count": 3,
   "metadata": {
    "id": "-Zjv58Kkkr8G"
   },
   "outputs": [],
   "source": [
    "#Scaling the training data\n",
    "from sklearn.preprocessing import MinMaxScaler\n",
    "sc = MinMaxScaler(feature_range = (0, 1))\n",
    "training_set_scaled = sc.fit_transform(training_set)"
   ]
  },
  {
   "cell_type": "code",
   "execution_count": 4,
   "metadata": {
    "id": "V6SwWZ35ksb2"
   },
   "outputs": [],
   "source": [
    "#splitting data into training and validation\n",
    "X_train = []\n",
    "y_train = []\n",
    "X_val = []\n",
    "y_val = []\n",
    "\n",
    "for i in range(60, 1100):\n",
    "    X_train.append(training_set_scaled[i-60:i, 0])\n",
    "    y_train.append(training_set_scaled[i, 0])\n",
    "X_train, y_train = np.array(X_train), np.array(y_train)\n",
    "\n",
    "for i in range(1100, 1258):\n",
    "    X_val.append(training_set_scaled[i-60:i, 0])\n",
    "    y_val.append(training_set_scaled[i, 0])\n",
    "X_train, y_train = np.array(X_train), np.array(y_train)\n",
    "X_val, y_val = np.array(X_val), np.array(y_val)"
   ]
  },
  {
   "cell_type": "code",
   "execution_count": 5,
   "metadata": {
    "id": "yAfILPa9kuxF"
   },
   "outputs": [],
   "source": [
    "#reshaping the data\n",
    "X_train = np.reshape(X_train, (X_train.shape[0], X_train.shape[1], 1))\n",
    "X_val = np.reshape(X_val, (X_val.shape[0], X_val.shape[1], 1))"
   ]
  },
  {
   "cell_type": "markdown",
   "metadata": {
    "id": "9UDcZEJhnzst"
   },
   "source": [
    "**Model 1**"
   ]
  },
  {
   "cell_type": "code",
   "execution_count": 6,
   "metadata": {
    "id": "yR3VZnc1k2w9"
   },
   "outputs": [],
   "source": [
    "regressor = Sequential()\n",
    "regressor.add(LSTM(units = 50, return_sequences = True, input_shape = (X_train.shape[1], 1)))  \n",
    "regressor.add(Dropout(0.2))\n",
    "regressor.add(LSTM(units = 50, return_sequences = True))\n",
    "regressor.add(Dropout(0.2))\n",
    "regressor.add(LSTM(units = 50, return_sequences = True))\n",
    "regressor.add(Dropout(0.2))\n",
    "regressor.add(LSTM(units = 50))\n",
    "regressor.add(Dropout(0.2))"
   ]
  },
  {
   "cell_type": "code",
   "execution_count": 7,
   "metadata": {
    "id": "ra3Zpjopk7X4"
   },
   "outputs": [],
   "source": [
    "regressor.add(Dense(units = 1))"
   ]
  },
  {
   "cell_type": "markdown",
   "metadata": {
    "id": "uPFbig0_CEyh"
   },
   "source": [
    "**Model 2**"
   ]
  },
  {
   "cell_type": "code",
   "execution_count": 8,
   "metadata": {
    "id": "IBM0tJJwrCFH"
   },
   "outputs": [],
   "source": [
    "#ver 1\n",
    "#regressor = Sequential()\n",
    "#regressor.add(LSTM(units=100,return_sequences=True,input_shape=(X_train.shape[1],1)))\n",
    "#regressor.add(Dropout(0.2))\n",
    "\n",
    "#regressor.add(LSTM(units=100,return_sequences=True))\n",
    "#regressor.add(Dropout(0.2))\n",
    "\n",
    "#regressor.add(LSTM(units=100,return_sequences=True))\n",
    "#regressor.add(Dropout(0.2))\n",
    "\n",
    "#regressor.add(LSTM(units=100,return_sequences=True))\n",
    "#regressor.add(Dropout(0.2))\n",
    "\n",
    "#regressor.add(LSTM(units=100))\n",
    "#regressor.add(Dropout(0.2))\n",
    "\n",
    "#regressor.add(Dense(units=1))"
   ]
  },
  {
   "cell_type": "code",
   "execution_count": 9,
   "metadata": {
    "id": "CAqHTpc27zic"
   },
   "outputs": [],
   "source": [
    "#ver 2\n",
    "#regressor = Sequential()\n",
    "#regressor.add(LSTM(units=100,return_sequences=True,input_shape=(X_train.shape[1],1)))\n",
    "#regressor.add(Dropout(0.2))\n",
    "\n",
    "#regressor.add(LSTM(units=100,return_sequences=True))\n",
    "#regressor.add(Dropout(0.2))\n",
    "\n",
    "#regressor.add(LSTM(units=100,return_sequences=True))\n",
    "#regressor.add(Dropout(0.2))\n",
    "\n",
    "#regressor.add(LSTM(units=100,return_sequences=True))\n",
    "#regressor.add(Dropout(0.2))\n",
    "\n",
    "#regressor.add(LSTM(units=50))\n",
    "#regressor.add(Dropout(0.2))\n",
    "\n",
    "#regressor.add(Dense(units=1))"
   ]
  },
  {
   "cell_type": "code",
   "execution_count": 10,
   "metadata": {
    "id": "yCQyEXvVk75O"
   },
   "outputs": [],
   "source": [
    "from tensorflow.keras import backend as K\n",
    "\n",
    "def coeff_determination(y_true, y_pred):\n",
    "    from tensorflow.keras import backend as K\n",
    "    SS_res =  K.sum(K.square( y_true-y_pred ))\n",
    "    SS_tot = K.sum(K.square( y_true - K.mean(y_true) ) )\n",
    "    return ( 1 - SS_res/(SS_tot + K.epsilon()) )\n",
    "\n",
    "regressor.compile(optimizer = 'Adam', loss = 'mean_squared_error', metrics=[coeff_determination])"
   ]
  },
  {
   "cell_type": "code",
   "execution_count": 11,
   "metadata": {
    "colab": {
     "base_uri": "https://localhost:8080/"
    },
    "id": "yHx5YTDQk9_f",
    "outputId": "79b22f29-0d26-445a-a2fb-6d69473aeb40"
   },
   "outputs": [
    {
     "name": "stdout",
     "output_type": "stream",
     "text": [
      "Epoch 1/200\n",
      "33/33 [==============================] - 9s 64ms/step - loss: 0.0692 - coeff_determination: -0.1764 - val_loss: 0.0017 - val_coeff_determination: -0.7125\n",
      "Epoch 2/200\n",
      "33/33 [==============================] - 0s 14ms/step - loss: 0.0066 - coeff_determination: 0.8702 - val_loss: 0.0028 - val_coeff_determination: -2.5665\n",
      "Epoch 3/200\n",
      "33/33 [==============================] - 1s 15ms/step - loss: 0.0051 - coeff_determination: 0.9001 - val_loss: 0.0036 - val_coeff_determination: -4.0245\n",
      "Epoch 4/200\n",
      "33/33 [==============================] - 1s 15ms/step - loss: 0.0045 - coeff_determination: 0.9181 - val_loss: 0.0016 - val_coeff_determination: -0.5009\n",
      "Epoch 5/200\n",
      "33/33 [==============================] - 0s 15ms/step - loss: 0.0056 - coeff_determination: 0.8941 - val_loss: 0.0018 - val_coeff_determination: -0.7138\n",
      "Epoch 6/200\n",
      "33/33 [==============================] - 0s 14ms/step - loss: 0.0046 - coeff_determination: 0.9190 - val_loss: 0.0059 - val_coeff_determination: -8.4526\n",
      "Epoch 7/200\n",
      "33/33 [==============================] - 1s 15ms/step - loss: 0.0041 - coeff_determination: 0.9241 - val_loss: 0.0066 - val_coeff_determination: -9.9334\n",
      "Epoch 8/200\n",
      "33/33 [==============================] - 1s 15ms/step - loss: 0.0038 - coeff_determination: 0.9296 - val_loss: 0.0030 - val_coeff_determination: -2.8241\n",
      "Epoch 9/200\n",
      "33/33 [==============================] - 0s 15ms/step - loss: 0.0034 - coeff_determination: 0.9367 - val_loss: 0.0124 - val_coeff_determination: -21.2285\n",
      "Epoch 10/200\n",
      "33/33 [==============================] - 0s 15ms/step - loss: 0.0044 - coeff_determination: 0.9187 - val_loss: 0.0014 - val_coeff_determination: -0.3772\n",
      "Epoch 11/200\n",
      "33/33 [==============================] - 1s 15ms/step - loss: 0.0036 - coeff_determination: 0.9321 - val_loss: 0.0089 - val_coeff_determination: -14.2339\n",
      "Epoch 12/200\n",
      "33/33 [==============================] - 1s 16ms/step - loss: 0.0039 - coeff_determination: 0.9343 - val_loss: 0.0017 - val_coeff_determination: -1.5094\n",
      "Epoch 13/200\n",
      "33/33 [==============================] - 0s 15ms/step - loss: 0.0037 - coeff_determination: 0.9297 - val_loss: 0.0021 - val_coeff_determination: -1.4340\n",
      "Epoch 14/200\n",
      "33/33 [==============================] - 0s 15ms/step - loss: 0.0038 - coeff_determination: 0.9286 - val_loss: 0.0038 - val_coeff_determination: -4.5132\n",
      "Epoch 15/200\n",
      "33/33 [==============================] - 0s 15ms/step - loss: 0.0035 - coeff_determination: 0.9343 - val_loss: 0.0013 - val_coeff_determination: -0.3144\n",
      "Epoch 16/200\n",
      "33/33 [==============================] - 0s 15ms/step - loss: 0.0033 - coeff_determination: 0.9395 - val_loss: 0.0012 - val_coeff_determination: -0.5699\n",
      "Epoch 17/200\n",
      "33/33 [==============================] - 1s 15ms/step - loss: 0.0034 - coeff_determination: 0.9348 - val_loss: 0.0012 - val_coeff_determination: -0.2831\n",
      "Epoch 18/200\n",
      "33/33 [==============================] - 0s 15ms/step - loss: 0.0032 - coeff_determination: 0.9403 - val_loss: 0.0094 - val_coeff_determination: -15.9654\n",
      "Epoch 19/200\n",
      "33/33 [==============================] - 0s 15ms/step - loss: 0.0038 - coeff_determination: 0.9332 - val_loss: 0.0058 - val_coeff_determination: -8.9089\n",
      "Epoch 20/200\n",
      "33/33 [==============================] - 1s 16ms/step - loss: 0.0026 - coeff_determination: 0.9516 - val_loss: 0.0015 - val_coeff_determination: -0.6869\n",
      "Epoch 21/200\n",
      "33/33 [==============================] - 0s 14ms/step - loss: 0.0029 - coeff_determination: 0.9481 - val_loss: 0.0011 - val_coeff_determination: -0.2564\n",
      "Epoch 22/200\n",
      "33/33 [==============================] - 0s 15ms/step - loss: 0.0034 - coeff_determination: 0.9396 - val_loss: 0.0033 - val_coeff_determination: -5.9503\n",
      "Epoch 23/200\n",
      "33/33 [==============================] - 1s 15ms/step - loss: 0.0027 - coeff_determination: 0.9499 - val_loss: 0.0029 - val_coeff_determination: -3.1289\n",
      "Epoch 24/200\n",
      "33/33 [==============================] - 1s 16ms/step - loss: 0.0030 - coeff_determination: 0.9434 - val_loss: 0.0065 - val_coeff_determination: -13.2569\n",
      "Epoch 25/200\n",
      "33/33 [==============================] - 0s 15ms/step - loss: 0.0045 - coeff_determination: 0.9156 - val_loss: 0.0017 - val_coeff_determination: -1.1137\n",
      "Epoch 26/200\n",
      "33/33 [==============================] - 0s 15ms/step - loss: 0.0026 - coeff_determination: 0.9492 - val_loss: 0.0027 - val_coeff_determination: -3.0867\n",
      "Epoch 27/200\n",
      "33/33 [==============================] - 1s 15ms/step - loss: 0.0028 - coeff_determination: 0.9445 - val_loss: 0.0052 - val_coeff_determination: -8.0632\n",
      "Epoch 28/200\n",
      "33/33 [==============================] - 0s 15ms/step - loss: 0.0026 - coeff_determination: 0.9505 - val_loss: 0.0017 - val_coeff_determination: -1.3458\n",
      "Epoch 29/200\n",
      "33/33 [==============================] - 0s 15ms/step - loss: 0.0024 - coeff_determination: 0.9565 - val_loss: 9.5664e-04 - val_coeff_determination: -0.0891\n",
      "Epoch 30/200\n",
      "33/33 [==============================] - 0s 15ms/step - loss: 0.0028 - coeff_determination: 0.9513 - val_loss: 9.2954e-04 - val_coeff_determination: -0.1127\n",
      "Epoch 31/200\n",
      "33/33 [==============================] - 1s 15ms/step - loss: 0.0027 - coeff_determination: 0.9489 - val_loss: 0.0011 - val_coeff_determination: -0.6779\n",
      "Epoch 32/200\n",
      "33/33 [==============================] - 0s 15ms/step - loss: 0.0022 - coeff_determination: 0.9560 - val_loss: 9.4777e-04 - val_coeff_determination: -0.0734\n",
      "Epoch 33/200\n",
      "33/33 [==============================] - 1s 15ms/step - loss: 0.0024 - coeff_determination: 0.9505 - val_loss: 0.0010 - val_coeff_determination: -0.1438\n",
      "Epoch 34/200\n",
      "33/33 [==============================] - 1s 15ms/step - loss: 0.0026 - coeff_determination: 0.9499 - val_loss: 0.0013 - val_coeff_determination: -0.6917\n",
      "Epoch 35/200\n",
      "33/33 [==============================] - 0s 15ms/step - loss: 0.0027 - coeff_determination: 0.9511 - val_loss: 0.0035 - val_coeff_determination: -4.8524\n",
      "Epoch 36/200\n",
      "33/33 [==============================] - 1s 15ms/step - loss: 0.0028 - coeff_determination: 0.9480 - val_loss: 0.0053 - val_coeff_determination: -8.6330\n",
      "Epoch 37/200\n",
      "33/33 [==============================] - 1s 15ms/step - loss: 0.0028 - coeff_determination: 0.9428 - val_loss: 0.0013 - val_coeff_determination: -0.6980\n",
      "Epoch 38/200\n",
      "33/33 [==============================] - 1s 15ms/step - loss: 0.0024 - coeff_determination: 0.9549 - val_loss: 0.0010 - val_coeff_determination: -0.5420\n",
      "Epoch 39/200\n",
      "33/33 [==============================] - 0s 15ms/step - loss: 0.0030 - coeff_determination: 0.9453 - val_loss: 8.3807e-04 - val_coeff_determination: -0.0958\n",
      "Epoch 40/200\n",
      "33/33 [==============================] - 1s 16ms/step - loss: 0.0023 - coeff_determination: 0.9589 - val_loss: 0.0010 - val_coeff_determination: -0.6562\n",
      "Epoch 41/200\n",
      "33/33 [==============================] - 1s 15ms/step - loss: 0.0023 - coeff_determination: 0.9588 - val_loss: 8.8352e-04 - val_coeff_determination: -0.2940\n",
      "Epoch 42/200\n",
      "33/33 [==============================] - 1s 15ms/step - loss: 0.0026 - coeff_determination: 0.9533 - val_loss: 0.0011 - val_coeff_determination: -0.8584\n",
      "Epoch 43/200\n",
      "33/33 [==============================] - 1s 15ms/step - loss: 0.0024 - coeff_determination: 0.9582 - val_loss: 7.6427e-04 - val_coeff_determination: 0.0476\n",
      "Epoch 44/200\n",
      "33/33 [==============================] - 1s 16ms/step - loss: 0.0019 - coeff_determination: 0.9632 - val_loss: 0.0014 - val_coeff_determination: -0.8902\n",
      "Epoch 45/200\n",
      "33/33 [==============================] - 1s 16ms/step - loss: 0.0020 - coeff_determination: 0.9626 - val_loss: 0.0040 - val_coeff_determination: -6.1761\n",
      "Epoch 46/200\n",
      "33/33 [==============================] - 1s 16ms/step - loss: 0.0022 - coeff_determination: 0.9587 - val_loss: 9.9484e-04 - val_coeff_determination: -0.2401\n",
      "Epoch 47/200\n",
      "33/33 [==============================] - 0s 15ms/step - loss: 0.0020 - coeff_determination: 0.9607 - val_loss: 7.3828e-04 - val_coeff_determination: 0.0650\n",
      "Epoch 48/200\n",
      "33/33 [==============================] - 0s 15ms/step - loss: 0.0023 - coeff_determination: 0.9560 - val_loss: 7.5318e-04 - val_coeff_determination: 0.0966\n",
      "Epoch 49/200\n",
      "33/33 [==============================] - 1s 15ms/step - loss: 0.0019 - coeff_determination: 0.9645 - val_loss: 8.1225e-04 - val_coeff_determination: -0.1783\n",
      "Epoch 50/200\n",
      "33/33 [==============================] - 1s 15ms/step - loss: 0.0021 - coeff_determination: 0.9596 - val_loss: 0.0011 - val_coeff_determination: -0.5398\n",
      "Epoch 51/200\n",
      "33/33 [==============================] - 0s 15ms/step - loss: 0.0020 - coeff_determination: 0.9642 - val_loss: 8.3690e-04 - val_coeff_determination: -0.0618\n",
      "Epoch 52/200\n",
      "33/33 [==============================] - 1s 16ms/step - loss: 0.0018 - coeff_determination: 0.9680 - val_loss: 6.9119e-04 - val_coeff_determination: 0.1712\n",
      "Epoch 53/200\n",
      "33/33 [==============================] - 0s 15ms/step - loss: 0.0022 - coeff_determination: 0.9599 - val_loss: 0.0013 - val_coeff_determination: -0.7409\n",
      "Epoch 54/200\n",
      "33/33 [==============================] - 0s 15ms/step - loss: 0.0020 - coeff_determination: 0.9635 - val_loss: 0.0020 - val_coeff_determination: -2.3084\n",
      "Epoch 55/200\n",
      "33/33 [==============================] - 0s 15ms/step - loss: 0.0021 - coeff_determination: 0.9625 - val_loss: 0.0024 - val_coeff_determination: -3.0671\n",
      "Epoch 56/200\n",
      "33/33 [==============================] - 0s 15ms/step - loss: 0.0021 - coeff_determination: 0.9626 - val_loss: 0.0015 - val_coeff_determination: -1.2586\n",
      "Epoch 57/200\n",
      "33/33 [==============================] - 0s 15ms/step - loss: 0.0020 - coeff_determination: 0.9644 - val_loss: 0.0027 - val_coeff_determination: -3.7804\n",
      "Epoch 58/200\n",
      "33/33 [==============================] - 1s 15ms/step - loss: 0.0021 - coeff_determination: 0.9619 - val_loss: 0.0019 - val_coeff_determination: -2.1953\n",
      "Epoch 59/200\n",
      "33/33 [==============================] - 0s 15ms/step - loss: 0.0019 - coeff_determination: 0.9635 - val_loss: 7.3832e-04 - val_coeff_determination: 0.1001\n",
      "Epoch 60/200\n",
      "33/33 [==============================] - 1s 16ms/step - loss: 0.0020 - coeff_determination: 0.9649 - val_loss: 7.0822e-04 - val_coeff_determination: 0.1181\n",
      "Epoch 61/200\n",
      "33/33 [==============================] - 0s 15ms/step - loss: 0.0019 - coeff_determination: 0.9657 - val_loss: 8.5976e-04 - val_coeff_determination: -0.1111\n",
      "Epoch 62/200\n",
      "33/33 [==============================] - 1s 15ms/step - loss: 0.0021 - coeff_determination: 0.9640 - val_loss: 0.0023 - val_coeff_determination: -2.9326\n",
      "Epoch 63/200\n",
      "33/33 [==============================] - 0s 15ms/step - loss: 0.0018 - coeff_determination: 0.9666 - val_loss: 0.0011 - val_coeff_determination: -0.6266\n",
      "Epoch 64/200\n",
      "33/33 [==============================] - 1s 15ms/step - loss: 0.0016 - coeff_determination: 0.9693 - val_loss: 5.9581e-04 - val_coeff_determination: 0.2843\n",
      "Epoch 65/200\n",
      "33/33 [==============================] - 1s 15ms/step - loss: 0.0017 - coeff_determination: 0.9693 - val_loss: 7.4266e-04 - val_coeff_determination: 0.0416\n",
      "Epoch 66/200\n",
      "33/33 [==============================] - 0s 15ms/step - loss: 0.0018 - coeff_determination: 0.9660 - val_loss: 5.4744e-04 - val_coeff_determination: 0.2862\n",
      "Epoch 67/200\n",
      "33/33 [==============================] - 1s 15ms/step - loss: 0.0016 - coeff_determination: 0.9704 - val_loss: 0.0018 - val_coeff_determination: -1.9470\n",
      "Epoch 68/200\n",
      "33/33 [==============================] - 1s 15ms/step - loss: 0.0014 - coeff_determination: 0.9749 - val_loss: 5.6611e-04 - val_coeff_determination: 0.3168\n",
      "Epoch 69/200\n",
      "33/33 [==============================] - 0s 15ms/step - loss: 0.0019 - coeff_determination: 0.9640 - val_loss: 0.0014 - val_coeff_determination: -1.2721\n",
      "Epoch 70/200\n",
      "33/33 [==============================] - 1s 16ms/step - loss: 0.0014 - coeff_determination: 0.9748 - val_loss: 5.4663e-04 - val_coeff_determination: 0.2210\n",
      "Epoch 71/200\n",
      "33/33 [==============================] - 1s 15ms/step - loss: 0.0018 - coeff_determination: 0.9686 - val_loss: 5.1399e-04 - val_coeff_determination: 0.3565\n",
      "Epoch 72/200\n",
      "33/33 [==============================] - 1s 16ms/step - loss: 0.0015 - coeff_determination: 0.9735 - val_loss: 0.0019 - val_coeff_determination: -2.9817\n",
      "Epoch 73/200\n",
      "33/33 [==============================] - 1s 15ms/step - loss: 0.0016 - coeff_determination: 0.9708 - val_loss: 7.6627e-04 - val_coeff_determination: -0.0377\n",
      "Epoch 74/200\n",
      "33/33 [==============================] - 1s 16ms/step - loss: 0.0015 - coeff_determination: 0.9733 - val_loss: 8.9599e-04 - val_coeff_determination: -0.6437\n",
      "Epoch 75/200\n",
      "33/33 [==============================] - 0s 15ms/step - loss: 0.0018 - coeff_determination: 0.9681 - val_loss: 0.0015 - val_coeff_determination: -1.3675\n",
      "Epoch 76/200\n",
      "33/33 [==============================] - 1s 16ms/step - loss: 0.0017 - coeff_determination: 0.9719 - val_loss: 8.9697e-04 - val_coeff_determination: -0.2364\n",
      "Epoch 77/200\n",
      "33/33 [==============================] - 1s 15ms/step - loss: 0.0015 - coeff_determination: 0.9740 - val_loss: 8.3850e-04 - val_coeff_determination: -0.1669\n",
      "Epoch 78/200\n",
      "33/33 [==============================] - 1s 16ms/step - loss: 0.0015 - coeff_determination: 0.9734 - val_loss: 0.0015 - val_coeff_determination: -1.4738\n",
      "Epoch 79/200\n",
      "33/33 [==============================] - 0s 15ms/step - loss: 0.0015 - coeff_determination: 0.9708 - val_loss: 6.9071e-04 - val_coeff_determination: -0.2356\n",
      "Epoch 80/200\n",
      "33/33 [==============================] - 1s 16ms/step - loss: 0.0015 - coeff_determination: 0.9704 - val_loss: 5.8619e-04 - val_coeff_determination: 0.2387\n",
      "Epoch 81/200\n",
      "33/33 [==============================] - 1s 15ms/step - loss: 0.0013 - coeff_determination: 0.9751 - val_loss: 0.0021 - val_coeff_determination: -2.7761\n",
      "Epoch 82/200\n",
      "33/33 [==============================] - 1s 15ms/step - loss: 0.0016 - coeff_determination: 0.9700 - val_loss: 0.0013 - val_coeff_determination: -1.0949\n",
      "Epoch 83/200\n",
      "33/33 [==============================] - 1s 15ms/step - loss: 0.0015 - coeff_determination: 0.9727 - val_loss: 6.5030e-04 - val_coeff_determination: 0.1454\n",
      "Epoch 84/200\n",
      "33/33 [==============================] - 1s 15ms/step - loss: 0.0016 - coeff_determination: 0.9700 - val_loss: 7.1920e-04 - val_coeff_determination: 0.0124\n",
      "Epoch 85/200\n",
      "33/33 [==============================] - 1s 15ms/step - loss: 0.0017 - coeff_determination: 0.9688 - val_loss: 0.0010 - val_coeff_determination: -0.6714\n",
      "Epoch 86/200\n",
      "33/33 [==============================] - 1s 15ms/step - loss: 0.0014 - coeff_determination: 0.9768 - val_loss: 9.3809e-04 - val_coeff_determination: -0.4387\n",
      "Epoch 87/200\n",
      "33/33 [==============================] - 1s 16ms/step - loss: 0.0013 - coeff_determination: 0.9757 - val_loss: 4.8538e-04 - val_coeff_determination: 0.3925\n",
      "Epoch 88/200\n",
      "33/33 [==============================] - 1s 15ms/step - loss: 0.0015 - coeff_determination: 0.9721 - val_loss: 7.6428e-04 - val_coeff_determination: -0.4126\n",
      "Epoch 89/200\n",
      "33/33 [==============================] - 1s 16ms/step - loss: 0.0015 - coeff_determination: 0.9733 - val_loss: 3.9451e-04 - val_coeff_determination: 0.4789\n",
      "Epoch 90/200\n",
      "33/33 [==============================] - 1s 16ms/step - loss: 0.0015 - coeff_determination: 0.9718 - val_loss: 0.0023 - val_coeff_determination: -3.3004\n",
      "Epoch 91/200\n",
      "33/33 [==============================] - 1s 15ms/step - loss: 0.0013 - coeff_determination: 0.9755 - val_loss: 0.0021 - val_coeff_determination: -2.7578\n",
      "Epoch 92/200\n",
      "33/33 [==============================] - 1s 15ms/step - loss: 0.0014 - coeff_determination: 0.9750 - val_loss: 7.3756e-04 - val_coeff_determination: -0.0690\n",
      "Epoch 93/200\n",
      "33/33 [==============================] - 1s 16ms/step - loss: 0.0012 - coeff_determination: 0.9782 - val_loss: 0.0011 - val_coeff_determination: -0.8120\n",
      "Epoch 94/200\n",
      "33/33 [==============================] - 1s 15ms/step - loss: 0.0012 - coeff_determination: 0.9772 - val_loss: 3.9497e-04 - val_coeff_determination: 0.5204\n",
      "Epoch 95/200\n",
      "33/33 [==============================] - 1s 16ms/step - loss: 0.0013 - coeff_determination: 0.9754 - val_loss: 0.0015 - val_coeff_determination: -2.0942\n",
      "Epoch 96/200\n",
      "33/33 [==============================] - 1s 15ms/step - loss: 0.0014 - coeff_determination: 0.9742 - val_loss: 3.6602e-04 - val_coeff_determination: 0.5023\n",
      "Epoch 97/200\n",
      "33/33 [==============================] - 1s 16ms/step - loss: 0.0014 - coeff_determination: 0.9728 - val_loss: 4.6028e-04 - val_coeff_determination: 0.4166\n",
      "Epoch 98/200\n",
      "33/33 [==============================] - 1s 15ms/step - loss: 0.0013 - coeff_determination: 0.9744 - val_loss: 3.6381e-04 - val_coeff_determination: 0.5396\n",
      "Epoch 99/200\n",
      "33/33 [==============================] - 1s 16ms/step - loss: 0.0013 - coeff_determination: 0.9750 - val_loss: 5.1062e-04 - val_coeff_determination: 0.3341\n",
      "Epoch 100/200\n",
      "33/33 [==============================] - 1s 15ms/step - loss: 0.0014 - coeff_determination: 0.9758 - val_loss: 0.0025 - val_coeff_determination: -3.5896\n",
      "Epoch 101/200\n",
      "33/33 [==============================] - 1s 16ms/step - loss: 0.0012 - coeff_determination: 0.9779 - val_loss: 4.6491e-04 - val_coeff_determination: 0.3761\n",
      "Epoch 102/200\n",
      "33/33 [==============================] - 1s 16ms/step - loss: 0.0013 - coeff_determination: 0.9776 - val_loss: 0.0015 - val_coeff_determination: -1.6297\n",
      "Epoch 103/200\n",
      "33/33 [==============================] - 1s 15ms/step - loss: 0.0012 - coeff_determination: 0.9766 - val_loss: 5.5064e-04 - val_coeff_determination: 0.2343\n",
      "Epoch 104/200\n",
      "33/33 [==============================] - 1s 15ms/step - loss: 0.0011 - coeff_determination: 0.9806 - val_loss: 3.8779e-04 - val_coeff_determination: 0.4066\n",
      "Epoch 105/200\n",
      "33/33 [==============================] - 1s 16ms/step - loss: 0.0012 - coeff_determination: 0.9771 - val_loss: 3.9518e-04 - val_coeff_determination: 0.4972\n",
      "Epoch 106/200\n",
      "33/33 [==============================] - 1s 15ms/step - loss: 0.0012 - coeff_determination: 0.9781 - val_loss: 7.1850e-04 - val_coeff_determination: -0.1161\n",
      "Epoch 107/200\n",
      "33/33 [==============================] - 1s 16ms/step - loss: 0.0012 - coeff_determination: 0.9792 - val_loss: 0.0016 - val_coeff_determination: -1.7970\n",
      "Epoch 108/200\n",
      "33/33 [==============================] - 1s 16ms/step - loss: 0.0012 - coeff_determination: 0.9773 - val_loss: 3.8992e-04 - val_coeff_determination: 0.3814\n",
      "Epoch 109/200\n",
      "33/33 [==============================] - 0s 15ms/step - loss: 0.0015 - coeff_determination: 0.9732 - val_loss: 4.1779e-04 - val_coeff_determination: 0.3376\n",
      "Epoch 110/200\n",
      "33/33 [==============================] - 1s 16ms/step - loss: 0.0012 - coeff_determination: 0.9762 - val_loss: 0.0016 - val_coeff_determination: -2.0057\n",
      "Epoch 111/200\n",
      "33/33 [==============================] - 0s 15ms/step - loss: 0.0013 - coeff_determination: 0.9770 - val_loss: 4.3558e-04 - val_coeff_determination: 0.4006\n",
      "Epoch 112/200\n",
      "33/33 [==============================] - 0s 15ms/step - loss: 0.0011 - coeff_determination: 0.9801 - val_loss: 7.2609e-04 - val_coeff_determination: -0.3809\n",
      "Epoch 113/200\n",
      "33/33 [==============================] - 0s 15ms/step - loss: 0.0013 - coeff_determination: 0.9774 - val_loss: 8.6674e-04 - val_coeff_determination: -0.7012\n",
      "Epoch 114/200\n",
      "33/33 [==============================] - 1s 16ms/step - loss: 0.0014 - coeff_determination: 0.9748 - val_loss: 4.5896e-04 - val_coeff_determination: 0.4027\n",
      "Epoch 115/200\n",
      "33/33 [==============================] - 0s 15ms/step - loss: 0.0012 - coeff_determination: 0.9768 - val_loss: 4.4921e-04 - val_coeff_determination: 0.2384\n",
      "Epoch 116/200\n",
      "33/33 [==============================] - 0s 15ms/step - loss: 0.0013 - coeff_determination: 0.9772 - val_loss: 5.6959e-04 - val_coeff_determination: 0.1202\n",
      "Epoch 117/200\n",
      "33/33 [==============================] - 1s 15ms/step - loss: 0.0012 - coeff_determination: 0.9784 - val_loss: 0.0013 - val_coeff_determination: -1.4045\n",
      "Epoch 118/200\n",
      "33/33 [==============================] - 0s 15ms/step - loss: 0.0011 - coeff_determination: 0.9802 - val_loss: 4.1386e-04 - val_coeff_determination: 0.3078\n",
      "Epoch 119/200\n",
      "33/33 [==============================] - 1s 16ms/step - loss: 0.0010 - coeff_determination: 0.9816 - val_loss: 3.4540e-04 - val_coeff_determination: 0.4509\n",
      "Epoch 120/200\n",
      "33/33 [==============================] - 0s 15ms/step - loss: 0.0012 - coeff_determination: 0.9782 - val_loss: 0.0010 - val_coeff_determination: -0.8071\n",
      "Epoch 121/200\n",
      "33/33 [==============================] - 1s 16ms/step - loss: 0.0012 - coeff_determination: 0.9795 - val_loss: 3.1497e-04 - val_coeff_determination: 0.6124\n",
      "Epoch 122/200\n",
      "33/33 [==============================] - 1s 16ms/step - loss: 0.0012 - coeff_determination: 0.9797 - val_loss: 5.7952e-04 - val_coeff_determination: 0.1209\n",
      "Epoch 123/200\n",
      "33/33 [==============================] - 1s 16ms/step - loss: 0.0010 - coeff_determination: 0.9829 - val_loss: 0.0026 - val_coeff_determination: -4.0517\n",
      "Epoch 124/200\n",
      "33/33 [==============================] - 1s 15ms/step - loss: 0.0012 - coeff_determination: 0.9789 - val_loss: 2.8006e-04 - val_coeff_determination: 0.6360\n",
      "Epoch 125/200\n",
      "33/33 [==============================] - 1s 16ms/step - loss: 0.0011 - coeff_determination: 0.9792 - val_loss: 9.6552e-04 - val_coeff_determination: -0.7021\n",
      "Epoch 126/200\n",
      "33/33 [==============================] - 1s 15ms/step - loss: 9.6744e-04 - coeff_determination: 0.9822 - val_loss: 0.0033 - val_coeff_determination: -5.5679\n",
      "Epoch 127/200\n",
      "33/33 [==============================] - 1s 17ms/step - loss: 0.0012 - coeff_determination: 0.9771 - val_loss: 3.0828e-04 - val_coeff_determination: 0.5492\n",
      "Epoch 128/200\n",
      "33/33 [==============================] - 1s 16ms/step - loss: 0.0012 - coeff_determination: 0.9787 - val_loss: 7.9372e-04 - val_coeff_determination: -0.5464\n",
      "Epoch 129/200\n",
      "33/33 [==============================] - 1s 15ms/step - loss: 0.0013 - coeff_determination: 0.9750 - val_loss: 2.8648e-04 - val_coeff_determination: 0.6297\n",
      "Epoch 130/200\n",
      "33/33 [==============================] - 1s 16ms/step - loss: 0.0011 - coeff_determination: 0.9805 - val_loss: 2.9451e-04 - val_coeff_determination: 0.5841\n",
      "Epoch 131/200\n",
      "33/33 [==============================] - 0s 15ms/step - loss: 0.0010 - coeff_determination: 0.9817 - val_loss: 2.8742e-04 - val_coeff_determination: 0.6029\n",
      "Epoch 132/200\n",
      "33/33 [==============================] - 1s 16ms/step - loss: 0.0011 - coeff_determination: 0.9810 - val_loss: 7.1759e-04 - val_coeff_determination: -0.1698\n",
      "Epoch 133/200\n",
      "33/33 [==============================] - 0s 15ms/step - loss: 9.3034e-04 - coeff_determination: 0.9825 - val_loss: 4.1128e-04 - val_coeff_determination: 0.4109\n",
      "Epoch 134/200\n",
      "33/33 [==============================] - 0s 15ms/step - loss: 0.0012 - coeff_determination: 0.9795 - val_loss: 5.3087e-04 - val_coeff_determination: 0.1823\n",
      "Epoch 135/200\n",
      "33/33 [==============================] - 1s 15ms/step - loss: 9.5545e-04 - coeff_determination: 0.9827 - val_loss: 3.3322e-04 - val_coeff_determination: 0.5528\n",
      "Epoch 136/200\n",
      "33/33 [==============================] - 0s 15ms/step - loss: 0.0010 - coeff_determination: 0.9822 - val_loss: 0.0010 - val_coeff_determination: -0.8633\n",
      "Epoch 137/200\n",
      "33/33 [==============================] - 1s 15ms/step - loss: 9.6533e-04 - coeff_determination: 0.9824 - val_loss: 6.6996e-04 - val_coeff_determination: -0.0676\n",
      "Epoch 138/200\n",
      "33/33 [==============================] - 1s 15ms/step - loss: 0.0011 - coeff_determination: 0.9779 - val_loss: 3.9442e-04 - val_coeff_determination: 0.3612\n",
      "Epoch 139/200\n",
      "33/33 [==============================] - 1s 16ms/step - loss: 0.0013 - coeff_determination: 0.9761 - val_loss: 3.0934e-04 - val_coeff_determination: 0.5482\n",
      "Epoch 140/200\n",
      "33/33 [==============================] - 1s 16ms/step - loss: 0.0012 - coeff_determination: 0.9786 - val_loss: 6.9832e-04 - val_coeff_determination: -0.4140\n",
      "Epoch 141/200\n",
      "33/33 [==============================] - 1s 16ms/step - loss: 0.0011 - coeff_determination: 0.9795 - val_loss: 7.4800e-04 - val_coeff_determination: -0.5098\n",
      "Epoch 142/200\n",
      "33/33 [==============================] - 1s 16ms/step - loss: 0.0013 - coeff_determination: 0.9772 - val_loss: 8.6772e-04 - val_coeff_determination: -0.5176\n",
      "Epoch 143/200\n",
      "33/33 [==============================] - 0s 15ms/step - loss: 7.7080e-04 - coeff_determination: 0.9849 - val_loss: 2.8491e-04 - val_coeff_determination: 0.5787\n",
      "Epoch 144/200\n",
      "33/33 [==============================] - 1s 16ms/step - loss: 0.0010 - coeff_determination: 0.9827 - val_loss: 0.0032 - val_coeff_determination: -5.3768\n",
      "Epoch 145/200\n",
      "33/33 [==============================] - 1s 16ms/step - loss: 0.0014 - coeff_determination: 0.9750 - val_loss: 3.9945e-04 - val_coeff_determination: 0.4037\n",
      "Epoch 146/200\n",
      "33/33 [==============================] - 1s 16ms/step - loss: 8.9737e-04 - coeff_determination: 0.9840 - val_loss: 6.1732e-04 - val_coeff_determination: -0.0175\n",
      "Epoch 147/200\n",
      "33/33 [==============================] - 1s 17ms/step - loss: 0.0012 - coeff_determination: 0.9786 - val_loss: 2.8059e-04 - val_coeff_determination: 0.5865\n",
      "Epoch 148/200\n",
      "33/33 [==============================] - 1s 16ms/step - loss: 9.9255e-04 - coeff_determination: 0.9818 - val_loss: 2.6034e-04 - val_coeff_determination: 0.6596\n",
      "Epoch 149/200\n",
      "33/33 [==============================] - 1s 16ms/step - loss: 0.0010 - coeff_determination: 0.9822 - val_loss: 2.6073e-04 - val_coeff_determination: 0.6578\n",
      "Epoch 150/200\n",
      "33/33 [==============================] - 1s 16ms/step - loss: 8.3103e-04 - coeff_determination: 0.9844 - val_loss: 3.1294e-04 - val_coeff_determination: 0.4903\n",
      "Epoch 151/200\n",
      "33/33 [==============================] - 1s 15ms/step - loss: 9.9023e-04 - coeff_determination: 0.9823 - val_loss: 3.9342e-04 - val_coeff_determination: 0.3113\n",
      "Epoch 152/200\n",
      "33/33 [==============================] - 1s 16ms/step - loss: 0.0012 - coeff_determination: 0.9795 - val_loss: 0.0016 - val_coeff_determination: -2.4122\n",
      "Epoch 153/200\n",
      "33/33 [==============================] - 1s 16ms/step - loss: 9.7396e-04 - coeff_determination: 0.9828 - val_loss: 8.1077e-04 - val_coeff_determination: -0.4180\n",
      "Epoch 154/200\n",
      "33/33 [==============================] - 1s 16ms/step - loss: 0.0011 - coeff_determination: 0.9812 - val_loss: 2.6181e-04 - val_coeff_determination: 0.6552\n",
      "Epoch 155/200\n",
      "33/33 [==============================] - 1s 16ms/step - loss: 8.9535e-04 - coeff_determination: 0.9844 - val_loss: 0.0010 - val_coeff_determination: -0.8854\n",
      "Epoch 156/200\n",
      "33/33 [==============================] - 1s 16ms/step - loss: 0.0011 - coeff_determination: 0.9809 - val_loss: 4.9131e-04 - val_coeff_determination: 0.2304\n",
      "Epoch 157/200\n",
      "33/33 [==============================] - 1s 16ms/step - loss: 0.0010 - coeff_determination: 0.9817 - val_loss: 2.5235e-04 - val_coeff_determination: 0.6606\n",
      "Epoch 158/200\n",
      "33/33 [==============================] - 1s 16ms/step - loss: 0.0011 - coeff_determination: 0.9787 - val_loss: 4.2445e-04 - val_coeff_determination: 0.3802\n",
      "Epoch 159/200\n",
      "33/33 [==============================] - 1s 16ms/step - loss: 0.0010 - coeff_determination: 0.9813 - val_loss: 2.8284e-04 - val_coeff_determination: 0.6201\n",
      "Epoch 160/200\n",
      "33/33 [==============================] - 0s 15ms/step - loss: 0.0010 - coeff_determination: 0.9830 - val_loss: 3.5034e-04 - val_coeff_determination: 0.5031\n",
      "Epoch 161/200\n",
      "33/33 [==============================] - 1s 15ms/step - loss: 9.0476e-04 - coeff_determination: 0.9826 - val_loss: 8.7080e-04 - val_coeff_determination: -0.5708\n",
      "Epoch 162/200\n",
      "33/33 [==============================] - 1s 16ms/step - loss: 0.0012 - coeff_determination: 0.9770 - val_loss: 0.0018 - val_coeff_determination: -2.3394\n",
      "Epoch 163/200\n",
      "33/33 [==============================] - 1s 16ms/step - loss: 0.0013 - coeff_determination: 0.9763 - val_loss: 5.2131e-04 - val_coeff_determination: 0.1499\n",
      "Epoch 164/200\n",
      "33/33 [==============================] - 1s 16ms/step - loss: 9.4538e-04 - coeff_determination: 0.9829 - val_loss: 0.0011 - val_coeff_determination: -1.0715\n",
      "Epoch 165/200\n",
      "33/33 [==============================] - 1s 16ms/step - loss: 8.7547e-04 - coeff_determination: 0.9829 - val_loss: 6.5175e-04 - val_coeff_determination: -0.1414\n",
      "Epoch 166/200\n",
      "33/33 [==============================] - 1s 16ms/step - loss: 9.1816e-04 - coeff_determination: 0.9834 - val_loss: 3.3880e-04 - val_coeff_determination: 0.5259\n",
      "Epoch 167/200\n",
      "33/33 [==============================] - 1s 16ms/step - loss: 9.2564e-04 - coeff_determination: 0.9835 - val_loss: 3.7585e-04 - val_coeff_determination: 0.3292\n",
      "Epoch 168/200\n",
      "33/33 [==============================] - 1s 15ms/step - loss: 9.6446e-04 - coeff_determination: 0.9821 - val_loss: 9.2980e-04 - val_coeff_determination: -0.6594\n",
      "Epoch 169/200\n",
      "33/33 [==============================] - 1s 16ms/step - loss: 0.0010 - coeff_determination: 0.9817 - val_loss: 2.5020e-04 - val_coeff_determination: 0.6693\n",
      "Epoch 170/200\n",
      "33/33 [==============================] - 1s 16ms/step - loss: 8.2930e-04 - coeff_determination: 0.9843 - val_loss: 5.6255e-04 - val_coeff_determination: 0.0956\n",
      "Epoch 171/200\n",
      "33/33 [==============================] - 1s 16ms/step - loss: 0.0011 - coeff_determination: 0.9814 - val_loss: 2.5123e-04 - val_coeff_determination: 0.6710\n",
      "Epoch 172/200\n",
      "33/33 [==============================] - 1s 15ms/step - loss: 0.0011 - coeff_determination: 0.9807 - val_loss: 0.0021 - val_coeff_determination: -2.9786\n",
      "Epoch 173/200\n",
      "33/33 [==============================] - 1s 16ms/step - loss: 9.5584e-04 - coeff_determination: 0.9830 - val_loss: 2.8340e-04 - val_coeff_determination: 0.6143\n",
      "Epoch 174/200\n",
      "33/33 [==============================] - 1s 16ms/step - loss: 0.0011 - coeff_determination: 0.9809 - val_loss: 4.7614e-04 - val_coeff_determination: 0.1198\n",
      "Epoch 175/200\n",
      "33/33 [==============================] - 1s 16ms/step - loss: 0.0011 - coeff_determination: 0.9788 - val_loss: 0.0010 - val_coeff_determination: -0.8432\n",
      "Epoch 176/200\n",
      "33/33 [==============================] - 1s 16ms/step - loss: 9.5268e-04 - coeff_determination: 0.9825 - val_loss: 3.0468e-04 - val_coeff_determination: 0.5943\n",
      "Epoch 177/200\n",
      "33/33 [==============================] - 1s 16ms/step - loss: 8.1787e-04 - coeff_determination: 0.9851 - val_loss: 4.5419e-04 - val_coeff_determination: 0.2689\n",
      "Epoch 178/200\n",
      "33/33 [==============================] - 1s 17ms/step - loss: 8.5144e-04 - coeff_determination: 0.9850 - val_loss: 4.2674e-04 - val_coeff_determination: 0.2205\n",
      "Epoch 179/200\n",
      "33/33 [==============================] - 1s 16ms/step - loss: 0.0010 - coeff_determination: 0.9824 - val_loss: 3.4766e-04 - val_coeff_determination: 0.4921\n",
      "Epoch 180/200\n",
      "33/33 [==============================] - 1s 16ms/step - loss: 8.2479e-04 - coeff_determination: 0.9851 - val_loss: 2.3198e-04 - val_coeff_determination: 0.6819\n",
      "Epoch 181/200\n",
      "33/33 [==============================] - 1s 16ms/step - loss: 9.0013e-04 - coeff_determination: 0.9829 - val_loss: 3.3767e-04 - val_coeff_determination: 0.5044\n",
      "Epoch 182/200\n",
      "33/33 [==============================] - 1s 16ms/step - loss: 7.3366e-04 - coeff_determination: 0.9866 - val_loss: 6.7815e-04 - val_coeff_determination: -0.2002\n",
      "Epoch 183/200\n",
      "33/33 [==============================] - 1s 16ms/step - loss: 8.1151e-04 - coeff_determination: 0.9858 - val_loss: 6.8037e-04 - val_coeff_determination: -0.1942\n",
      "Epoch 184/200\n",
      "33/33 [==============================] - 1s 16ms/step - loss: 8.3932e-04 - coeff_determination: 0.9852 - val_loss: 2.2636e-04 - val_coeff_determination: 0.6845\n",
      "Epoch 185/200\n",
      "33/33 [==============================] - 1s 16ms/step - loss: 9.9723e-04 - coeff_determination: 0.9811 - val_loss: 0.0012 - val_coeff_determination: -1.2728\n",
      "Epoch 186/200\n",
      "33/33 [==============================] - 1s 16ms/step - loss: 0.0011 - coeff_determination: 0.9815 - val_loss: 0.0011 - val_coeff_determination: -0.9905\n",
      "Epoch 187/200\n",
      "33/33 [==============================] - 1s 16ms/step - loss: 0.0010 - coeff_determination: 0.9799 - val_loss: 3.5423e-04 - val_coeff_determination: 0.4595\n",
      "Epoch 188/200\n",
      "33/33 [==============================] - 1s 16ms/step - loss: 8.5393e-04 - coeff_determination: 0.9846 - val_loss: 0.0017 - val_coeff_determination: -2.3520\n",
      "Epoch 189/200\n",
      "33/33 [==============================] - 1s 15ms/step - loss: 9.0424e-04 - coeff_determination: 0.9831 - val_loss: 3.2635e-04 - val_coeff_determination: 0.5295\n",
      "Epoch 190/200\n",
      "33/33 [==============================] - 1s 16ms/step - loss: 9.4964e-04 - coeff_determination: 0.9835 - val_loss: 7.8156e-04 - val_coeff_determination: -0.6049\n",
      "Epoch 191/200\n",
      "33/33 [==============================] - 1s 16ms/step - loss: 0.0011 - coeff_determination: 0.9809 - val_loss: 9.1172e-04 - val_coeff_determination: -0.6629\n",
      "Epoch 192/200\n",
      "33/33 [==============================] - 1s 16ms/step - loss: 7.9976e-04 - coeff_determination: 0.9850 - val_loss: 2.7950e-04 - val_coeff_determination: 0.6116\n",
      "Epoch 193/200\n",
      "33/33 [==============================] - 1s 16ms/step - loss: 7.8139e-04 - coeff_determination: 0.9851 - val_loss: 3.9948e-04 - val_coeff_determination: 0.3633\n",
      "Epoch 194/200\n",
      "33/33 [==============================] - 1s 16ms/step - loss: 8.9322e-04 - coeff_determination: 0.9837 - val_loss: 9.0866e-04 - val_coeff_determination: -0.8275\n",
      "Epoch 195/200\n",
      "33/33 [==============================] - 1s 16ms/step - loss: 0.0010 - coeff_determination: 0.9813 - val_loss: 2.4194e-04 - val_coeff_determination: 0.6488\n",
      "Epoch 196/200\n",
      "33/33 [==============================] - 1s 16ms/step - loss: 9.6185e-04 - coeff_determination: 0.9819 - val_loss: 2.6590e-04 - val_coeff_determination: 0.6420\n",
      "Epoch 197/200\n",
      "33/33 [==============================] - 1s 16ms/step - loss: 9.5434e-04 - coeff_determination: 0.9825 - val_loss: 3.3977e-04 - val_coeff_determination: 0.4902\n",
      "Epoch 198/200\n",
      "33/33 [==============================] - 1s 16ms/step - loss: 8.6591e-04 - coeff_determination: 0.9841 - val_loss: 0.0018 - val_coeff_determination: -2.7743\n",
      "Epoch 199/200\n",
      "33/33 [==============================] - 1s 16ms/step - loss: 0.0012 - coeff_determination: 0.9788 - val_loss: 2.9145e-04 - val_coeff_determination: 0.6060\n",
      "Epoch 200/200\n",
      "33/33 [==============================] - 1s 15ms/step - loss: 0.0011 - coeff_determination: 0.9802 - val_loss: 3.9016e-04 - val_coeff_determination: 0.2868\n"
     ]
    }
   ],
   "source": [
    "\n",
    "model_checkpoint_callback = ModelCheckpoint(\n",
    "    filepath='stock.h5',\n",
    "    save_weights_only=False,\n",
    "    monitor='coeff_determination',\n",
    "    mode='max',\n",
    "    save_best_only=True)\n",
    "hist = regressor.fit(X_train, y_train, epochs = 200, batch_size = 32, validation_data = (X_val,y_val))"
   ]
  },
  {
   "cell_type": "markdown",
   "metadata": {
    "id": "VRYX_QycoL_u"
   },
   "source": [
    "Reading test data and making predictions"
   ]
  },
  {
   "cell_type": "code",
   "execution_count": 12,
   "metadata": {
    "id": "3GQXxFCfk_wl"
   },
   "outputs": [],
   "source": [
    "dataset_test = pd.read_csv('Google_Stock_Price_Test.csv')\n",
    "real_stock_price = dataset_test.iloc[:, 1:2].values\n",
    "dataset_total = pd.concat((dataset_train['Open'], dataset_test['Open']), axis = 0)\n",
    "inputs = dataset_total[len(dataset_total) - len(dataset_test) - 60:].values\n",
    "inputs = inputs.reshape(-1,1)\n",
    "inputs = sc.transform(inputs)\n",
    "X_test = []\n",
    "for i in range(60, 80):\n",
    "    X_test.append(inputs[i-60:i, 0])\n",
    "\n",
    "X_test = np.array(X_test)\n",
    "X_test = np.reshape(X_test, (X_test.shape[0], X_test.shape[1], 1))\n",
    "\n",
    "\n",
    "predicted_stock_price = regressor.predict(X_test)\n",
    "predicted_stock_price = sc.inverse_transform(predicted_stock_price)\n"
   ]
  },
  {
   "cell_type": "code",
   "execution_count": 13,
   "metadata": {
    "colab": {
     "base_uri": "https://localhost:8080/",
     "height": 298
    },
    "id": "INGnj1QnLEVf",
    "outputId": "4d4ad092-5ece-4567-a873-dc2037c4be84"
   },
   "outputs": [
    {
     "data": {
      "text/plain": [
       "<matplotlib.legend.Legend at 0x7f6201af4210>"
      ]
     },
     "execution_count": 13,
     "metadata": {
      "tags": []
     },
     "output_type": "execute_result"
    },
    {
     "data": {
      "image/png": "[encoded data removed]",
      "text/plain": [
       "<Figure size 432x288 with 1 Axes>"
      ]
     },
     "metadata": {
      "needs_background": "light",
      "tags": []
     },
     "output_type": "display_data"
    }
   ],
   "source": [
    "r2score = hist.history['loss']\n",
    "val_r2score = hist.history['val_loss']\n",
    "epochs = range(1, len(r2score) + 1)\n",
    "\n",
    "# # Train and validation accuracy\n",
    "plt.plot(epochs, r2score, 'b', label='Training loss')\n",
    "plt.plot(epochs, val_r2score, 'r', label='Validation loss')\n",
    "plt.title('Training and Validation loss')\n",
    "plt.legend()"
   ]
  },
  {
   "cell_type": "code",
   "execution_count": 14,
   "metadata": {
    "colab": {
     "base_uri": "https://localhost:8080/",
     "height": 295
    },
    "id": "35_15HE6lJif",
    "outputId": "3ee6ff00-4291-4efa-bd35-caddee87edf7"
   },
   "outputs": [
    {
     "data": {
      "image/png": "[encoded data removed]",
      "text/plain": [
       "<Figure size 432x288 with 1 Axes>"
      ]
     },
     "metadata": {
      "needs_background": "light",
      "tags": []
     },
     "output_type": "display_data"
    }
   ],
   "source": [
    "plt.plot(real_stock_price, color = 'red', label = 'Real Google Stock Price')\n",
    "plt.plot(predicted_stock_price, color = 'blue', label = 'Predicted Google Stock Price')\n",
    "plt.title('Google Stock Price Prediction for January')\n",
    "plt.xlabel('Time')\n",
    "plt.ylabel('Google Stock Price')\n",
    "plt.legend()\n",
    "plt.show()"
   ]
  },
  {
   "cell_type": "code",
   "execution_count": 15,
   "metadata": {
    "colab": {
     "base_uri": "https://localhost:8080/"
    },
    "id": "3xW5pcillMC-",
    "outputId": "34d728dd-11d4-488f-fd68-be80687be144"
   },
   "outputs": [
    {
     "data": {
      "text/plain": [
       "0.6801994264640085"
      ]
     },
     "execution_count": 15,
     "metadata": {
      "tags": []
     },
     "output_type": "execute_result"
    }
   ],
   "source": [
    "import math\n",
    "from sklearn.metrics import r2_score\n",
    "\n",
    "r2_score(real_stock_price,predicted_stock_price)\n"
   ]
  },
  {
   "cell_type": "code",
   "execution_count": 15,
   "metadata": {
    "id": "xQ7dbPhuuN2S"
   },
   "outputs": [],
   "source": []
  }
 ],
 "metadata": {
  "accelerator": "GPU",
  "colab": {
   "collapsed_sections": [],
   "name": "Model 1 Var 2 run 1.ipynb",
   "provenance": []
  },
  "kernelspec": {
   "display_name": "Python 3",
   "language": "python",
   "name": "python3"
  },
  "language_info": {
   "codemirror_mode": {
    "name": "ipython",
    "version": 3
   },
   "file_extension": ".py",
   "mimetype": "text/x-python",
   "name": "python",
   "nbconvert_exporter": "python",
   "pygments_lexer": "ipython3",
   "version": "3.8.5"
  }
 },
 "nbformat": 4,
 "nbformat_minor": 1
}
